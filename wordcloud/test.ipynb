{
 "cells": [
  {
   "cell_type": "code",
   "execution_count": 21,
   "metadata": {
    "collapsed": true
   },
   "outputs": [],
   "source": [
    "from konlpy.tag import Okt\n",
    "import pandas as pd\n",
    "import nltk\n",
    "from wordcloud import WordCloud\n",
    "import matplotlib.pyplot as plt"
   ]
  },
  {
   "cell_type": "code",
   "execution_count": 2,
   "outputs": [
    {
     "name": "stderr",
     "output_type": "stream",
     "text": [
      "C:\\Users\\tlsgh\\anaconda3\\envs\\osaesg\\lib\\site-packages\\openpyxl\\styles\\stylesheet.py:226: UserWarning: Workbook contains no default style, apply openpyxl's default\n",
      "  warn(\"Workbook contains no default style, apply openpyxl's default\")\n"
     ]
    }
   ],
   "source": [
    "news_esg = pd.read_excel(\"data/NewsResult_20210802-20211102.xlsx\")"
   ],
   "metadata": {
    "collapsed": false,
    "pycharm": {
     "name": "#%%\n"
    }
   }
  },
  {
   "cell_type": "code",
   "execution_count": 3,
   "outputs": [
    {
     "data": {
      "text/plain": "0       [아시아경제 김종화 기자] ‘아마존 매트리스’로 유명한 지누스 등 가구업체의 ESG...\n1       [장성=아시아경제 호남취재본부 조한규 기자] 전남 장성군(군수 유두석)은 오는 4일...\n2       친환경 영유아 스킨케어 브랜드 타가베이비가 지난달 25일 유엔 경제사회이사회 특별협...\n3       [헤럴드경제=서정은 기자] NH농협은행은 NH농식품그린성장론 잔액이 2조원을 돌파했...\n4       [헤럴드경제=정경수 기자] 신한라이프는 자사의 ESG(환경 사회 지배구조) 메시지를...\n                              ...                        \n9707    기후변화의 위기는 갑자기 생겨난 것은 아니다. 지난 2008년 당시 정부는 신재생에...\n9708    한국표준협회는 강명수 회장(사진)이 G7 임팩트태스크포스(ITF)에 한국 민간을 대...\n9709    ESG비전 2030년 RE100 전환 \\n\\n \\n\\n \\nLG에너지솔루션이 205...\n9710    ESG 가치 성장주 추종 2종 출시 \\n\\n \\n\\n \\n한화자산운용이 액티브ETF...\n9711    2023년까지 총 100곳 완공 \\n아동 1만명에 보육교육 혜택 \\n\\n \\n\\n ...\nName: 본문, Length: 9712, dtype: object"
     },
     "execution_count": 3,
     "metadata": {},
     "output_type": "execute_result"
    }
   ],
   "source": [
    "news_esg[\"본문\"]"
   ],
   "metadata": {
    "collapsed": false,
    "pycharm": {
     "name": "#%%\n"
    }
   }
  },
  {
   "cell_type": "code",
   "execution_count": 4,
   "outputs": [],
   "source": [
    "article_esg = list(news_esg[\"본문\"])\n"
   ],
   "metadata": {
    "collapsed": false,
    "pycharm": {
     "name": "#%%\n"
    }
   }
  },
  {
   "cell_type": "code",
   "execution_count": 5,
   "outputs": [],
   "source": [
    "okt = Okt()"
   ],
   "metadata": {
    "collapsed": false,
    "pycharm": {
     "name": "#%%\n"
    }
   }
  },
  {
   "cell_type": "code",
   "execution_count": 6,
   "outputs": [],
   "source": [
    "token_article_esg = []\n",
    "for article in article_esg:\n",
    "    token_article = okt.nouns(article)\n",
    "    token_article_esg.append(token_article)"
   ],
   "metadata": {
    "collapsed": false,
    "pycharm": {
     "name": "#%%\n"
    }
   }
  },
  {
   "cell_type": "code",
   "execution_count": 7,
   "outputs": [],
   "source": [
    "token_article_esg[:1]\n",
    "token_article_esg = sum(token_article_esg,[])"
   ],
   "metadata": {
    "collapsed": false,
    "pycharm": {
     "name": "#%%\n"
    }
   }
  },
  {
   "cell_type": "code",
   "execution_count": 8,
   "outputs": [],
   "source": [
    "count_word = nltk.Text(token_article_esg)"
   ],
   "metadata": {
    "collapsed": false,
    "pycharm": {
     "name": "#%%\n"
    }
   }
  },
  {
   "cell_type": "code",
   "execution_count": 11,
   "outputs": [
    {
     "data": {
      "text/plain": "FreqDist({'기업': 4432, '경영': 4311, '사회': 4291, '환경': 4023, '등': 3654, '지배구조': 2769, '한국': 2658, '위': 2583, '사업': 2445, '기자': 2427, ...})"
     },
     "execution_count": 11,
     "metadata": {},
     "output_type": "execute_result"
    }
   ],
   "source": [
    "count_word.vocab()"
   ],
   "metadata": {
    "collapsed": false,
    "pycharm": {
     "name": "#%%\n"
    }
   }
  },
  {
   "cell_type": "code",
   "execution_count": 16,
   "outputs": [
    {
     "data": {
      "text/plain": "<wordcloud.wordcloud.WordCloud at 0x1d0fbf1d248>"
     },
     "execution_count": 16,
     "metadata": {},
     "output_type": "execute_result"
    }
   ],
   "source": [
    "data = count_word.vocab().most_common(3000)\n",
    "wc = WordCloud(font_path = 'NanumGothic.ttf',background_color = 'white', width=512, height=512,max_font_size=500,max_words=1000)\n",
    "wc.generate_from_frequencies(dict(data))"
   ],
   "metadata": {
    "collapsed": false,
    "pycharm": {
     "name": "#%%\n"
    }
   }
  },
  {
   "cell_type": "code",
   "execution_count": 24,
   "outputs": [
    {
     "data": {
      "text/plain": "<wordcloud.wordcloud.WordCloud at 0x1d0fbf1d248>"
     },
     "execution_count": 24,
     "metadata": {},
     "output_type": "execute_result"
    }
   ],
   "source": [
    "wc.to_file(\"wordcloud_temp.jpg\")"
   ],
   "metadata": {
    "collapsed": false,
    "pycharm": {
     "name": "#%%\n"
    }
   }
  },
  {
   "cell_type": "code",
   "execution_count": null,
   "outputs": [],
   "source": [
    "base_url = \"naver.com?query=\"\n",
    "list2= [asdklafj;lkd,asd fasd;flk asd;f asnm,d s]\n",
    "list1= [base_url + company for company in list2]\n",
    "for url in list1:\n",
    "    for idx in range(10):\n",
    "\n"
   ],
   "metadata": {
    "collapsed": false,
    "pycharm": {
     "name": "#%%\n"
    }
   }
  }
 ],
 "metadata": {
  "kernelspec": {
   "name": "pycharm-dc8cd262",
   "language": "python",
   "display_name": "PyCharm (osa)"
  },
  "language_info": {
   "codemirror_mode": {
    "name": "ipython",
    "version": 2
   },
   "file_extension": ".py",
   "mimetype": "text/x-python",
   "name": "python",
   "nbconvert_exporter": "python",
   "pygments_lexer": "ipython2",
   "version": "2.7.6"
  }
 },
 "nbformat": 4,
 "nbformat_minor": 0
}