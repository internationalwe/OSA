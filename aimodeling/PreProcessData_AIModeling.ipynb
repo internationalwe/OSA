{
 "cells": [
  {
   "cell_type": "code",
   "execution_count": 144,
   "metadata": {
    "collapsed": true
   },
   "outputs": [],
   "source": [
    "import pandas as pd\n",
    "import numpy as np\n",
    "from scipy.stats import mode\n"
   ]
  },
  {
   "cell_type": "markdown",
   "metadata": {
    "collapsed": false
   },
   "source": [
    "### 파일 불러오기"
   ]
  },
  {
   "cell_type": "code",
   "execution_count": null,
   "metadata": {
    "collapsed": false,
    "pycharm": {
     "name": "#%%\n"
    }
   },
   "outputs": [],
   "source": [
    "screening_data = pd.read_excel(\"data/건강검진테이블1_1000.xlsx\")\n",
    "diagnois_data = pd.read_excel(\"의과및보건기관상병내역_개선버전.xlsx\")"
   ]
  },
  {
   "cell_type": "code",
   "execution_count": 146,
   "metadata": {
    "collapsed": false,
    "pycharm": {
     "name": "#%%\n"
    }
   },
   "outputs": [
    {
     "data": {
      "text/html": [
       "<div>\n",
       "<style scoped>\n",
       "    .dataframe tbody tr th:only-of-type {\n",
       "        vertical-align: middle;\n",
       "    }\n",
       "\n",
       "    .dataframe tbody tr th {\n",
       "        vertical-align: top;\n",
       "    }\n",
       "\n",
       "    .dataframe thead th {\n",
       "        text-align: right;\n",
       "    }\n",
       "</style>\n",
       "<table border=\"1\" class=\"dataframe\">\n",
       "  <thead>\n",
       "    <tr style=\"text-align: right;\">\n",
       "      <th></th>\n",
       "      <th>RN_INDI</th>\n",
       "      <th>RN_KEY</th>\n",
       "      <th>MDCARE_STRT_DT</th>\n",
       "      <th>FORM_CD</th>\n",
       "      <th>MCEX_SICK_SYM</th>\n",
       "      <th>DETAIL_TMSG_SUBJ_CD</th>\n",
       "      <th>SICK_CLSF_TYPE</th>\n",
       "      <th>STD_YYYY</th>\n",
       "      <th>대분류</th>\n",
       "      <th>소분류</th>\n",
       "    </tr>\n",
       "  </thead>\n",
       "  <tbody>\n",
       "    <tr>\n",
       "      <th>0</th>\n",
       "      <td>596535</td>\n",
       "      <td>2002120187152</td>\n",
       "      <td>20021202</td>\n",
       "      <td>3</td>\n",
       "      <td>J209</td>\n",
       "      <td>NaN</td>\n",
       "      <td>NaN</td>\n",
       "      <td>2002</td>\n",
       "      <td>J20</td>\n",
       "      <td>J209</td>\n",
       "    </tr>\n",
       "    <tr>\n",
       "      <th>1</th>\n",
       "      <td>615374</td>\n",
       "      <td>2002121012274</td>\n",
       "      <td>20021202</td>\n",
       "      <td>3</td>\n",
       "      <td>J209</td>\n",
       "      <td>NaN</td>\n",
       "      <td>NaN</td>\n",
       "      <td>2002</td>\n",
       "      <td>J20</td>\n",
       "      <td>J209</td>\n",
       "    </tr>\n",
       "    <tr>\n",
       "      <th>2</th>\n",
       "      <td>1005547</td>\n",
       "      <td>2002120808216</td>\n",
       "      <td>20021202</td>\n",
       "      <td>3</td>\n",
       "      <td>J209</td>\n",
       "      <td>NaN</td>\n",
       "      <td>NaN</td>\n",
       "      <td>2002</td>\n",
       "      <td>J20</td>\n",
       "      <td>J209</td>\n",
       "    </tr>\n",
       "    <tr>\n",
       "      <th>3</th>\n",
       "      <td>226594</td>\n",
       "      <td>2002120381612</td>\n",
       "      <td>20021202</td>\n",
       "      <td>3</td>\n",
       "      <td>J209</td>\n",
       "      <td>NaN</td>\n",
       "      <td>NaN</td>\n",
       "      <td>2002</td>\n",
       "      <td>J20</td>\n",
       "      <td>J209</td>\n",
       "    </tr>\n",
       "    <tr>\n",
       "      <th>4</th>\n",
       "      <td>204930</td>\n",
       "      <td>2002120790182</td>\n",
       "      <td>20021202</td>\n",
       "      <td>3</td>\n",
       "      <td>J209</td>\n",
       "      <td>NaN</td>\n",
       "      <td>NaN</td>\n",
       "      <td>2002</td>\n",
       "      <td>J20</td>\n",
       "      <td>J209</td>\n",
       "    </tr>\n",
       "    <tr>\n",
       "      <th>...</th>\n",
       "      <td>...</td>\n",
       "      <td>...</td>\n",
       "      <td>...</td>\n",
       "      <td>...</td>\n",
       "      <td>...</td>\n",
       "      <td>...</td>\n",
       "      <td>...</td>\n",
       "      <td>...</td>\n",
       "      <td>...</td>\n",
       "      <td>...</td>\n",
       "    </tr>\n",
       "    <tr>\n",
       "      <th>340591</th>\n",
       "      <td>2089576</td>\n",
       "      <td>2015082315258</td>\n",
       "      <td>20150810</td>\n",
       "      <td>3</td>\n",
       "      <td>J320</td>\n",
       "      <td>00</td>\n",
       "      <td>1.0</td>\n",
       "      <td>2015</td>\n",
       "      <td>J32</td>\n",
       "      <td>J320</td>\n",
       "    </tr>\n",
       "    <tr>\n",
       "      <th>340592</th>\n",
       "      <td>2089576</td>\n",
       "      <td>2015082312462</td>\n",
       "      <td>20150824</td>\n",
       "      <td>3</td>\n",
       "      <td>J320</td>\n",
       "      <td>00</td>\n",
       "      <td>1.0</td>\n",
       "      <td>2015</td>\n",
       "      <td>J32</td>\n",
       "      <td>J320</td>\n",
       "    </tr>\n",
       "    <tr>\n",
       "      <th>340593</th>\n",
       "      <td>2090701</td>\n",
       "      <td>2015012530018</td>\n",
       "      <td>20150117</td>\n",
       "      <td>3</td>\n",
       "      <td>F_</td>\n",
       "      <td>NaN</td>\n",
       "      <td>1.0</td>\n",
       "      <td>2015</td>\n",
       "      <td>F_</td>\n",
       "      <td>F_</td>\n",
       "    </tr>\n",
       "    <tr>\n",
       "      <th>340594</th>\n",
       "      <td>2090701</td>\n",
       "      <td>2015062184186</td>\n",
       "      <td>20150627</td>\n",
       "      <td>3</td>\n",
       "      <td>F_</td>\n",
       "      <td>NaN</td>\n",
       "      <td>1.0</td>\n",
       "      <td>2015</td>\n",
       "      <td>F_</td>\n",
       "      <td>F_</td>\n",
       "    </tr>\n",
       "    <tr>\n",
       "      <th>340595</th>\n",
       "      <td>2090701</td>\n",
       "      <td>2015062184456</td>\n",
       "      <td>20150613</td>\n",
       "      <td>3</td>\n",
       "      <td>F_</td>\n",
       "      <td>NaN</td>\n",
       "      <td>1.0</td>\n",
       "      <td>2015</td>\n",
       "      <td>F_</td>\n",
       "      <td>F_</td>\n",
       "    </tr>\n",
       "  </tbody>\n",
       "</table>\n",
       "<p>340596 rows × 10 columns</p>\n",
       "</div>"
      ],
      "text/plain": [
       "        RN_INDI         RN_KEY  MDCARE_STRT_DT  FORM_CD MCEX_SICK_SYM  \\\n",
       "0        596535  2002120187152        20021202        3          J209   \n",
       "1        615374  2002121012274        20021202        3          J209   \n",
       "2       1005547  2002120808216        20021202        3          J209   \n",
       "3        226594  2002120381612        20021202        3          J209   \n",
       "4        204930  2002120790182        20021202        3          J209   \n",
       "...         ...            ...             ...      ...           ...   \n",
       "340591  2089576  2015082315258        20150810        3          J320   \n",
       "340592  2089576  2015082312462        20150824        3          J320   \n",
       "340593  2090701  2015012530018        20150117        3            F_   \n",
       "340594  2090701  2015062184186        20150627        3            F_   \n",
       "340595  2090701  2015062184456        20150613        3            F_   \n",
       "\n",
       "       DETAIL_TMSG_SUBJ_CD  SICK_CLSF_TYPE  STD_YYYY  대분류   소분류  \n",
       "0                      NaN             NaN      2002  J20  J209  \n",
       "1                      NaN             NaN      2002  J20  J209  \n",
       "2                      NaN             NaN      2002  J20  J209  \n",
       "3                      NaN             NaN      2002  J20  J209  \n",
       "4                      NaN             NaN      2002  J20  J209  \n",
       "...                    ...             ...       ...  ...   ...  \n",
       "340591                  00             1.0      2015  J32  J320  \n",
       "340592                  00             1.0      2015  J32  J320  \n",
       "340593                 NaN             1.0      2015   F_    F_  \n",
       "340594                 NaN             1.0      2015   F_    F_  \n",
       "340595                 NaN             1.0      2015   F_    F_  \n",
       "\n",
       "[340596 rows x 10 columns]"
      ]
     },
     "execution_count": 146,
     "metadata": {},
     "output_type": "execute_result"
    }
   ],
   "source": [
    "diagnois_data"
   ]
  },
  {
   "cell_type": "markdown",
   "metadata": {
    "collapsed": false,
    "pycharm": {
     "name": "#%% md\n"
    }
   },
   "source": [
    "### 변수 값 수정\n",
    "- 날짜가 앞자리는 16진수로 저장되어있어 string type으로 수정"
   ]
  },
  {
   "cell_type": "code",
   "execution_count": 147,
   "metadata": {
    "collapsed": false,
    "pycharm": {
     "name": "#%%\n"
    }
   },
   "outputs": [
    {
     "data": {
      "text/plain": [
       "['', 'x0032', '00211']"
      ]
     },
     "execution_count": 147,
     "metadata": {},
     "output_type": "execute_result"
    }
   ],
   "source": [
    "screening_data[\"HME_YYYYMM\"][0].strip().split(\"_\")"
   ]
  },
  {
   "cell_type": "code",
   "execution_count": 148,
   "metadata": {
    "collapsed": false,
    "pycharm": {
     "name": "#%%\n"
    }
   },
   "outputs": [],
   "source": [
    "modify_screening_data = screening_data.copy()\n",
    "modify_screening_data[\"HME_YYYYMM\"] = ['2'+str(day).strip().split('_')[2] for day in screening_data[\"HME_YYYYMM\"]]\n",
    "modify_screening_data[\"EXMD_BZ_YYYY\"] = ['2'+str(day).strip().split('_')[2] for day in screening_data[\"EXMD_BZ_YYYY\"]]"
   ]
  },
  {
   "cell_type": "code",
   "execution_count": 149,
   "metadata": {
    "collapsed": false,
    "pycharm": {
     "name": "#%%\n"
    }
   },
   "outputs": [
    {
     "data": {
      "text/html": [
       "<div>\n",
       "<style scoped>\n",
       "    .dataframe tbody tr th:only-of-type {\n",
       "        vertical-align: middle;\n",
       "    }\n",
       "\n",
       "    .dataframe tbody tr th {\n",
       "        vertical-align: top;\n",
       "    }\n",
       "\n",
       "    .dataframe thead th {\n",
       "        text-align: right;\n",
       "    }\n",
       "</style>\n",
       "<table border=\"1\" class=\"dataframe\">\n",
       "  <thead>\n",
       "    <tr style=\"text-align: right;\">\n",
       "      <th></th>\n",
       "      <th>EXMD_BZ_YYYY</th>\n",
       "      <th>RN_INDI</th>\n",
       "      <th>HME_YYYYMM</th>\n",
       "      <th>Q_PHX1_DZ_V0208</th>\n",
       "      <th>Q_PHX1_YR</th>\n",
       "      <th>Q_PHX1_CR</th>\n",
       "      <th>Q_PHX2_DZ_V0208</th>\n",
       "      <th>Q_PHX2_YR</th>\n",
       "      <th>Q_PHX2_CR</th>\n",
       "      <th>Q_PHX3_DZ_V0208</th>\n",
       "      <th>...</th>\n",
       "      <th>G1E_URN_OCC_BLD</th>\n",
       "      <th>G1E_URN_PH</th>\n",
       "      <th>G1E_HGB</th>\n",
       "      <th>G1E_FBS</th>\n",
       "      <th>G1E_TOT_CHOL</th>\n",
       "      <th>G1E_SGOT</th>\n",
       "      <th>G1E_SGPT</th>\n",
       "      <th>G1E_GGT</th>\n",
       "      <th>G1E_CHST_XRAY_RST</th>\n",
       "      <th>G1E_EKG_RST</th>\n",
       "    </tr>\n",
       "  </thead>\n",
       "  <tbody>\n",
       "    <tr>\n",
       "      <th>0</th>\n",
       "      <td>2002</td>\n",
       "      <td>572493</td>\n",
       "      <td>200211</td>\n",
       "      <td>0.0</td>\n",
       "      <td>NaN</td>\n",
       "      <td>NaN</td>\n",
       "      <td>0.0</td>\n",
       "      <td>NaN</td>\n",
       "      <td>NaN</td>\n",
       "      <td>0.0</td>\n",
       "      <td>...</td>\n",
       "      <td>1.0</td>\n",
       "      <td>6.0</td>\n",
       "      <td>13.3</td>\n",
       "      <td>75.0</td>\n",
       "      <td>216</td>\n",
       "      <td>26</td>\n",
       "      <td>30</td>\n",
       "      <td>12.0</td>\n",
       "      <td>1.0</td>\n",
       "      <td>NaN</td>\n",
       "    </tr>\n",
       "    <tr>\n",
       "      <th>1</th>\n",
       "      <td>2002</td>\n",
       "      <td>874800</td>\n",
       "      <td>200207</td>\n",
       "      <td>0.0</td>\n",
       "      <td>NaN</td>\n",
       "      <td>NaN</td>\n",
       "      <td>0.0</td>\n",
       "      <td>NaN</td>\n",
       "      <td>NaN</td>\n",
       "      <td>0.0</td>\n",
       "      <td>...</td>\n",
       "      <td>1.0</td>\n",
       "      <td>6.0</td>\n",
       "      <td>15.2</td>\n",
       "      <td>108.0</td>\n",
       "      <td>194</td>\n",
       "      <td>27</td>\n",
       "      <td>37</td>\n",
       "      <td>21.0</td>\n",
       "      <td>1.0</td>\n",
       "      <td>1.0</td>\n",
       "    </tr>\n",
       "    <tr>\n",
       "      <th>2</th>\n",
       "      <td>2002</td>\n",
       "      <td>88450</td>\n",
       "      <td>200207</td>\n",
       "      <td>0.0</td>\n",
       "      <td>NaN</td>\n",
       "      <td>NaN</td>\n",
       "      <td>0.0</td>\n",
       "      <td>NaN</td>\n",
       "      <td>NaN</td>\n",
       "      <td>0.0</td>\n",
       "      <td>...</td>\n",
       "      <td>1.0</td>\n",
       "      <td>6.0</td>\n",
       "      <td>14.0</td>\n",
       "      <td>81.0</td>\n",
       "      <td>196</td>\n",
       "      <td>22</td>\n",
       "      <td>17</td>\n",
       "      <td>10.0</td>\n",
       "      <td>1.0</td>\n",
       "      <td>1.0</td>\n",
       "    </tr>\n",
       "    <tr>\n",
       "      <th>3</th>\n",
       "      <td>2002</td>\n",
       "      <td>56993</td>\n",
       "      <td>200212</td>\n",
       "      <td>0.0</td>\n",
       "      <td>NaN</td>\n",
       "      <td>NaN</td>\n",
       "      <td>0.0</td>\n",
       "      <td>NaN</td>\n",
       "      <td>NaN</td>\n",
       "      <td>0.0</td>\n",
       "      <td>...</td>\n",
       "      <td>1.0</td>\n",
       "      <td>6.0</td>\n",
       "      <td>14.7</td>\n",
       "      <td>89.0</td>\n",
       "      <td>159</td>\n",
       "      <td>12</td>\n",
       "      <td>19</td>\n",
       "      <td>76.0</td>\n",
       "      <td>1.0</td>\n",
       "      <td>NaN</td>\n",
       "    </tr>\n",
       "    <tr>\n",
       "      <th>4</th>\n",
       "      <td>2002</td>\n",
       "      <td>591264</td>\n",
       "      <td>200210</td>\n",
       "      <td>0.0</td>\n",
       "      <td>NaN</td>\n",
       "      <td>NaN</td>\n",
       "      <td>0.0</td>\n",
       "      <td>NaN</td>\n",
       "      <td>NaN</td>\n",
       "      <td>0.0</td>\n",
       "      <td>...</td>\n",
       "      <td>1.0</td>\n",
       "      <td>6.0</td>\n",
       "      <td>17.2</td>\n",
       "      <td>104.0</td>\n",
       "      <td>198</td>\n",
       "      <td>33</td>\n",
       "      <td>33</td>\n",
       "      <td>34.0</td>\n",
       "      <td>1.0</td>\n",
       "      <td>NaN</td>\n",
       "    </tr>\n",
       "    <tr>\n",
       "      <th>...</th>\n",
       "      <td>...</td>\n",
       "      <td>...</td>\n",
       "      <td>...</td>\n",
       "      <td>...</td>\n",
       "      <td>...</td>\n",
       "      <td>...</td>\n",
       "      <td>...</td>\n",
       "      <td>...</td>\n",
       "      <td>...</td>\n",
       "      <td>...</td>\n",
       "      <td>...</td>\n",
       "      <td>...</td>\n",
       "      <td>...</td>\n",
       "      <td>...</td>\n",
       "      <td>...</td>\n",
       "      <td>...</td>\n",
       "      <td>...</td>\n",
       "      <td>...</td>\n",
       "      <td>...</td>\n",
       "      <td>...</td>\n",
       "      <td>...</td>\n",
       "    </tr>\n",
       "    <tr>\n",
       "      <th>1046</th>\n",
       "      <td>2008</td>\n",
       "      <td>218649</td>\n",
       "      <td>200806</td>\n",
       "      <td>1.0</td>\n",
       "      <td>1982.0</td>\n",
       "      <td>1.0</td>\n",
       "      <td>NaN</td>\n",
       "      <td>NaN</td>\n",
       "      <td>NaN</td>\n",
       "      <td>NaN</td>\n",
       "      <td>...</td>\n",
       "      <td>1.0</td>\n",
       "      <td>6.0</td>\n",
       "      <td>16.1</td>\n",
       "      <td>84.0</td>\n",
       "      <td>264</td>\n",
       "      <td>31</td>\n",
       "      <td>39</td>\n",
       "      <td>75.0</td>\n",
       "      <td>1.0</td>\n",
       "      <td>NaN</td>\n",
       "    </tr>\n",
       "    <tr>\n",
       "      <th>1047</th>\n",
       "      <td>2008</td>\n",
       "      <td>39217</td>\n",
       "      <td>200812</td>\n",
       "      <td>NaN</td>\n",
       "      <td>NaN</td>\n",
       "      <td>NaN</td>\n",
       "      <td>NaN</td>\n",
       "      <td>NaN</td>\n",
       "      <td>NaN</td>\n",
       "      <td>NaN</td>\n",
       "      <td>...</td>\n",
       "      <td>1.0</td>\n",
       "      <td>6.0</td>\n",
       "      <td>13.8</td>\n",
       "      <td>225.0</td>\n",
       "      <td>265</td>\n",
       "      <td>38</td>\n",
       "      <td>41</td>\n",
       "      <td>146.0</td>\n",
       "      <td>1.0</td>\n",
       "      <td>1.0</td>\n",
       "    </tr>\n",
       "    <tr>\n",
       "      <th>1048</th>\n",
       "      <td>2008</td>\n",
       "      <td>756414</td>\n",
       "      <td>200812</td>\n",
       "      <td>NaN</td>\n",
       "      <td>NaN</td>\n",
       "      <td>NaN</td>\n",
       "      <td>NaN</td>\n",
       "      <td>NaN</td>\n",
       "      <td>NaN</td>\n",
       "      <td>NaN</td>\n",
       "      <td>...</td>\n",
       "      <td>1.0</td>\n",
       "      <td>7.0</td>\n",
       "      <td>13.2</td>\n",
       "      <td>117.0</td>\n",
       "      <td>178</td>\n",
       "      <td>88</td>\n",
       "      <td>171</td>\n",
       "      <td>126.0</td>\n",
       "      <td>1.0</td>\n",
       "      <td>1.0</td>\n",
       "    </tr>\n",
       "    <tr>\n",
       "      <th>1049</th>\n",
       "      <td>2008</td>\n",
       "      <td>642899</td>\n",
       "      <td>200806</td>\n",
       "      <td>NaN</td>\n",
       "      <td>NaN</td>\n",
       "      <td>NaN</td>\n",
       "      <td>NaN</td>\n",
       "      <td>NaN</td>\n",
       "      <td>NaN</td>\n",
       "      <td>NaN</td>\n",
       "      <td>...</td>\n",
       "      <td>1.0</td>\n",
       "      <td>6.0</td>\n",
       "      <td>11.3</td>\n",
       "      <td>68.0</td>\n",
       "      <td>177</td>\n",
       "      <td>49</td>\n",
       "      <td>32</td>\n",
       "      <td>154.0</td>\n",
       "      <td>1.0</td>\n",
       "      <td>1.0</td>\n",
       "    </tr>\n",
       "    <tr>\n",
       "      <th>1050</th>\n",
       "      <td>2008</td>\n",
       "      <td>238542</td>\n",
       "      <td>200806</td>\n",
       "      <td>2.0</td>\n",
       "      <td>1991.0</td>\n",
       "      <td>2.0</td>\n",
       "      <td>NaN</td>\n",
       "      <td>NaN</td>\n",
       "      <td>NaN</td>\n",
       "      <td>NaN</td>\n",
       "      <td>...</td>\n",
       "      <td>1.0</td>\n",
       "      <td>6.5</td>\n",
       "      <td>15.4</td>\n",
       "      <td>84.0</td>\n",
       "      <td>203</td>\n",
       "      <td>84</td>\n",
       "      <td>47</td>\n",
       "      <td>74.0</td>\n",
       "      <td>1.0</td>\n",
       "      <td>2.0</td>\n",
       "    </tr>\n",
       "  </tbody>\n",
       "</table>\n",
       "<p>1051 rows × 51 columns</p>\n",
       "</div>"
      ],
      "text/plain": [
       "     EXMD_BZ_YYYY  RN_INDI HME_YYYYMM  Q_PHX1_DZ_V0208  Q_PHX1_YR  Q_PHX1_CR  \\\n",
       "0            2002   572493     200211              0.0        NaN        NaN   \n",
       "1            2002   874800     200207              0.0        NaN        NaN   \n",
       "2            2002    88450     200207              0.0        NaN        NaN   \n",
       "3            2002    56993     200212              0.0        NaN        NaN   \n",
       "4            2002   591264     200210              0.0        NaN        NaN   \n",
       "...           ...      ...        ...              ...        ...        ...   \n",
       "1046         2008   218649     200806              1.0     1982.0        1.0   \n",
       "1047         2008    39217     200812              NaN        NaN        NaN   \n",
       "1048         2008   756414     200812              NaN        NaN        NaN   \n",
       "1049         2008   642899     200806              NaN        NaN        NaN   \n",
       "1050         2008   238542     200806              2.0     1991.0        2.0   \n",
       "\n",
       "      Q_PHX2_DZ_V0208  Q_PHX2_YR  Q_PHX2_CR  Q_PHX3_DZ_V0208  ...  \\\n",
       "0                 0.0        NaN        NaN              0.0  ...   \n",
       "1                 0.0        NaN        NaN              0.0  ...   \n",
       "2                 0.0        NaN        NaN              0.0  ...   \n",
       "3                 0.0        NaN        NaN              0.0  ...   \n",
       "4                 0.0        NaN        NaN              0.0  ...   \n",
       "...               ...        ...        ...              ...  ...   \n",
       "1046              NaN        NaN        NaN              NaN  ...   \n",
       "1047              NaN        NaN        NaN              NaN  ...   \n",
       "1048              NaN        NaN        NaN              NaN  ...   \n",
       "1049              NaN        NaN        NaN              NaN  ...   \n",
       "1050              NaN        NaN        NaN              NaN  ...   \n",
       "\n",
       "      G1E_URN_OCC_BLD  G1E_URN_PH  G1E_HGB  G1E_FBS  G1E_TOT_CHOL  G1E_SGOT  \\\n",
       "0                 1.0         6.0     13.3     75.0           216        26   \n",
       "1                 1.0         6.0     15.2    108.0           194        27   \n",
       "2                 1.0         6.0     14.0     81.0           196        22   \n",
       "3                 1.0         6.0     14.7     89.0           159        12   \n",
       "4                 1.0         6.0     17.2    104.0           198        33   \n",
       "...               ...         ...      ...      ...           ...       ...   \n",
       "1046              1.0         6.0     16.1     84.0           264        31   \n",
       "1047              1.0         6.0     13.8    225.0           265        38   \n",
       "1048              1.0         7.0     13.2    117.0           178        88   \n",
       "1049              1.0         6.0     11.3     68.0           177        49   \n",
       "1050              1.0         6.5     15.4     84.0           203        84   \n",
       "\n",
       "      G1E_SGPT  G1E_GGT  G1E_CHST_XRAY_RST G1E_EKG_RST  \n",
       "0           30     12.0                1.0         NaN  \n",
       "1           37     21.0                1.0         1.0  \n",
       "2           17     10.0                1.0         1.0  \n",
       "3           19     76.0                1.0         NaN  \n",
       "4           33     34.0                1.0         NaN  \n",
       "...        ...      ...                ...         ...  \n",
       "1046        39     75.0                1.0         NaN  \n",
       "1047        41    146.0                1.0         1.0  \n",
       "1048       171    126.0                1.0         1.0  \n",
       "1049        32    154.0                1.0         1.0  \n",
       "1050        47     74.0                1.0         2.0  \n",
       "\n",
       "[1051 rows x 51 columns]"
      ]
     },
     "execution_count": 149,
     "metadata": {},
     "output_type": "execute_result"
    }
   ],
   "source": [
    "modify_screening_data"
   ]
  },
  {
   "cell_type": "code",
   "execution_count": 150,
   "metadata": {
    "collapsed": false,
    "pycharm": {
     "name": "#%%\n"
    }
   },
   "outputs": [],
   "source": [
    "modify_diagnois_data = diagnois_data.copy()\n"
   ]
  },
  {
   "cell_type": "code",
   "execution_count": 151,
   "metadata": {
    "collapsed": false,
    "pycharm": {
     "name": "#%%\n"
    }
   },
   "outputs": [
    {
     "data": {
      "text/html": [
       "<div>\n",
       "<style scoped>\n",
       "    .dataframe tbody tr th:only-of-type {\n",
       "        vertical-align: middle;\n",
       "    }\n",
       "\n",
       "    .dataframe tbody tr th {\n",
       "        vertical-align: top;\n",
       "    }\n",
       "\n",
       "    .dataframe thead th {\n",
       "        text-align: right;\n",
       "    }\n",
       "</style>\n",
       "<table border=\"1\" class=\"dataframe\">\n",
       "  <thead>\n",
       "    <tr style=\"text-align: right;\">\n",
       "      <th></th>\n",
       "      <th>RN_INDI</th>\n",
       "      <th>RN_KEY</th>\n",
       "      <th>MDCARE_STRT_DT</th>\n",
       "      <th>FORM_CD</th>\n",
       "      <th>MCEX_SICK_SYM</th>\n",
       "      <th>DETAIL_TMSG_SUBJ_CD</th>\n",
       "      <th>SICK_CLSF_TYPE</th>\n",
       "      <th>STD_YYYY</th>\n",
       "      <th>대분류</th>\n",
       "      <th>소분류</th>\n",
       "    </tr>\n",
       "  </thead>\n",
       "  <tbody>\n",
       "    <tr>\n",
       "      <th>0</th>\n",
       "      <td>596535</td>\n",
       "      <td>2002120187152</td>\n",
       "      <td>20021202</td>\n",
       "      <td>3</td>\n",
       "      <td>J209</td>\n",
       "      <td>NaN</td>\n",
       "      <td>NaN</td>\n",
       "      <td>2002</td>\n",
       "      <td>J20</td>\n",
       "      <td>J209</td>\n",
       "    </tr>\n",
       "    <tr>\n",
       "      <th>1</th>\n",
       "      <td>615374</td>\n",
       "      <td>2002121012274</td>\n",
       "      <td>20021202</td>\n",
       "      <td>3</td>\n",
       "      <td>J209</td>\n",
       "      <td>NaN</td>\n",
       "      <td>NaN</td>\n",
       "      <td>2002</td>\n",
       "      <td>J20</td>\n",
       "      <td>J209</td>\n",
       "    </tr>\n",
       "    <tr>\n",
       "      <th>2</th>\n",
       "      <td>1005547</td>\n",
       "      <td>2002120808216</td>\n",
       "      <td>20021202</td>\n",
       "      <td>3</td>\n",
       "      <td>J209</td>\n",
       "      <td>NaN</td>\n",
       "      <td>NaN</td>\n",
       "      <td>2002</td>\n",
       "      <td>J20</td>\n",
       "      <td>J209</td>\n",
       "    </tr>\n",
       "    <tr>\n",
       "      <th>3</th>\n",
       "      <td>226594</td>\n",
       "      <td>2002120381612</td>\n",
       "      <td>20021202</td>\n",
       "      <td>3</td>\n",
       "      <td>J209</td>\n",
       "      <td>NaN</td>\n",
       "      <td>NaN</td>\n",
       "      <td>2002</td>\n",
       "      <td>J20</td>\n",
       "      <td>J209</td>\n",
       "    </tr>\n",
       "    <tr>\n",
       "      <th>4</th>\n",
       "      <td>204930</td>\n",
       "      <td>2002120790182</td>\n",
       "      <td>20021202</td>\n",
       "      <td>3</td>\n",
       "      <td>J209</td>\n",
       "      <td>NaN</td>\n",
       "      <td>NaN</td>\n",
       "      <td>2002</td>\n",
       "      <td>J20</td>\n",
       "      <td>J209</td>\n",
       "    </tr>\n",
       "    <tr>\n",
       "      <th>...</th>\n",
       "      <td>...</td>\n",
       "      <td>...</td>\n",
       "      <td>...</td>\n",
       "      <td>...</td>\n",
       "      <td>...</td>\n",
       "      <td>...</td>\n",
       "      <td>...</td>\n",
       "      <td>...</td>\n",
       "      <td>...</td>\n",
       "      <td>...</td>\n",
       "    </tr>\n",
       "    <tr>\n",
       "      <th>340591</th>\n",
       "      <td>2089576</td>\n",
       "      <td>2015082315258</td>\n",
       "      <td>20150810</td>\n",
       "      <td>3</td>\n",
       "      <td>J320</td>\n",
       "      <td>00</td>\n",
       "      <td>1.0</td>\n",
       "      <td>2015</td>\n",
       "      <td>J32</td>\n",
       "      <td>J320</td>\n",
       "    </tr>\n",
       "    <tr>\n",
       "      <th>340592</th>\n",
       "      <td>2089576</td>\n",
       "      <td>2015082312462</td>\n",
       "      <td>20150824</td>\n",
       "      <td>3</td>\n",
       "      <td>J320</td>\n",
       "      <td>00</td>\n",
       "      <td>1.0</td>\n",
       "      <td>2015</td>\n",
       "      <td>J32</td>\n",
       "      <td>J320</td>\n",
       "    </tr>\n",
       "    <tr>\n",
       "      <th>340593</th>\n",
       "      <td>2090701</td>\n",
       "      <td>2015012530018</td>\n",
       "      <td>20150117</td>\n",
       "      <td>3</td>\n",
       "      <td>F_</td>\n",
       "      <td>NaN</td>\n",
       "      <td>1.0</td>\n",
       "      <td>2015</td>\n",
       "      <td>F_</td>\n",
       "      <td>F_</td>\n",
       "    </tr>\n",
       "    <tr>\n",
       "      <th>340594</th>\n",
       "      <td>2090701</td>\n",
       "      <td>2015062184186</td>\n",
       "      <td>20150627</td>\n",
       "      <td>3</td>\n",
       "      <td>F_</td>\n",
       "      <td>NaN</td>\n",
       "      <td>1.0</td>\n",
       "      <td>2015</td>\n",
       "      <td>F_</td>\n",
       "      <td>F_</td>\n",
       "    </tr>\n",
       "    <tr>\n",
       "      <th>340595</th>\n",
       "      <td>2090701</td>\n",
       "      <td>2015062184456</td>\n",
       "      <td>20150613</td>\n",
       "      <td>3</td>\n",
       "      <td>F_</td>\n",
       "      <td>NaN</td>\n",
       "      <td>1.0</td>\n",
       "      <td>2015</td>\n",
       "      <td>F_</td>\n",
       "      <td>F_</td>\n",
       "    </tr>\n",
       "  </tbody>\n",
       "</table>\n",
       "<p>340596 rows × 10 columns</p>\n",
       "</div>"
      ],
      "text/plain": [
       "        RN_INDI         RN_KEY  MDCARE_STRT_DT  FORM_CD MCEX_SICK_SYM  \\\n",
       "0        596535  2002120187152        20021202        3          J209   \n",
       "1        615374  2002121012274        20021202        3          J209   \n",
       "2       1005547  2002120808216        20021202        3          J209   \n",
       "3        226594  2002120381612        20021202        3          J209   \n",
       "4        204930  2002120790182        20021202        3          J209   \n",
       "...         ...            ...             ...      ...           ...   \n",
       "340591  2089576  2015082315258        20150810        3          J320   \n",
       "340592  2089576  2015082312462        20150824        3          J320   \n",
       "340593  2090701  2015012530018        20150117        3            F_   \n",
       "340594  2090701  2015062184186        20150627        3            F_   \n",
       "340595  2090701  2015062184456        20150613        3            F_   \n",
       "\n",
       "       DETAIL_TMSG_SUBJ_CD  SICK_CLSF_TYPE  STD_YYYY  대분류   소분류  \n",
       "0                      NaN             NaN      2002  J20  J209  \n",
       "1                      NaN             NaN      2002  J20  J209  \n",
       "2                      NaN             NaN      2002  J20  J209  \n",
       "3                      NaN             NaN      2002  J20  J209  \n",
       "4                      NaN             NaN      2002  J20  J209  \n",
       "...                    ...             ...       ...  ...   ...  \n",
       "340591                  00             1.0      2015  J32  J320  \n",
       "340592                  00             1.0      2015  J32  J320  \n",
       "340593                 NaN             1.0      2015   F_    F_  \n",
       "340594                 NaN             1.0      2015   F_    F_  \n",
       "340595                 NaN             1.0      2015   F_    F_  \n",
       "\n",
       "[340596 rows x 10 columns]"
      ]
     },
     "execution_count": 151,
     "metadata": {},
     "output_type": "execute_result"
    }
   ],
   "source": [
    "modify_diagnois_data\n"
   ]
  },
  {
   "cell_type": "code",
   "execution_count": null,
   "metadata": {
    "collapsed": false,
    "pycharm": {
     "name": "#%%\n"
    }
   },
   "outputs": [],
   "source": [
    "screening2_data = pd.read_excel(\"data/건강검진테이블2_1000.xlsx\")\n",
    "modify_screening2_data = screening2_data.copy()\n",
    "modify_screening2_data[\"HME_YYYYMM\"] = ['2'+str(day).strip().split('_')[2] for day in screening2_data[\"HME_YYYYMM\"]]\n",
    "modify_screening2_data[\"EXMD_BZ_YYYY\"] = ['2'+str(day).strip().split('_')[2] for day in screening2_data[\"EXMD_BZ_YYYY\"]]"
   ]
  },
  {
   "cell_type": "markdown",
   "metadata": {
    "collapsed": false
   },
   "source": [
    "### 건강검진테이블2과 변수를 통일화 하기"
   ]
  },
  {
   "cell_type": "code",
   "execution_count": 153,
   "metadata": {
    "collapsed": false,
    "pycharm": {
     "name": "#%%\n"
    }
   },
   "outputs": [],
   "source": [
    "merge_data = modify_screening_data.copy()"
   ]
  },
  {
   "cell_type": "code",
   "execution_count": 154,
   "metadata": {
    "collapsed": false,
    "pycharm": {
     "name": "#%%\n"
    }
   },
   "outputs": [
    {
     "data": {
      "text/html": [
       "<div>\n",
       "<style scoped>\n",
       "    .dataframe tbody tr th:only-of-type {\n",
       "        vertical-align: middle;\n",
       "    }\n",
       "\n",
       "    .dataframe tbody tr th {\n",
       "        vertical-align: top;\n",
       "    }\n",
       "\n",
       "    .dataframe thead th {\n",
       "        text-align: right;\n",
       "    }\n",
       "</style>\n",
       "<table border=\"1\" class=\"dataframe\">\n",
       "  <thead>\n",
       "    <tr style=\"text-align: right;\">\n",
       "      <th></th>\n",
       "      <th>EXMD_BZ_YYYY</th>\n",
       "      <th>RN_INDI</th>\n",
       "      <th>HME_YYYYMM</th>\n",
       "      <th>Q_PHX1_DZ_V0208</th>\n",
       "      <th>Q_PHX1_YR</th>\n",
       "      <th>Q_PHX1_CR</th>\n",
       "      <th>Q_PHX2_DZ_V0208</th>\n",
       "      <th>Q_PHX2_YR</th>\n",
       "      <th>Q_PHX2_CR</th>\n",
       "      <th>Q_PHX3_DZ_V0208</th>\n",
       "      <th>...</th>\n",
       "      <th>G1E_URN_OCC_BLD</th>\n",
       "      <th>G1E_URN_PH</th>\n",
       "      <th>G1E_HGB</th>\n",
       "      <th>G1E_FBS</th>\n",
       "      <th>G1E_TOT_CHOL</th>\n",
       "      <th>G1E_SGOT</th>\n",
       "      <th>G1E_SGPT</th>\n",
       "      <th>G1E_GGT</th>\n",
       "      <th>G1E_CHST_XRAY_RST</th>\n",
       "      <th>G1E_EKG_RST</th>\n",
       "    </tr>\n",
       "  </thead>\n",
       "  <tbody>\n",
       "    <tr>\n",
       "      <th>0</th>\n",
       "      <td>2002</td>\n",
       "      <td>572493</td>\n",
       "      <td>200211</td>\n",
       "      <td>0.0</td>\n",
       "      <td>NaN</td>\n",
       "      <td>NaN</td>\n",
       "      <td>0.0</td>\n",
       "      <td>NaN</td>\n",
       "      <td>NaN</td>\n",
       "      <td>0.0</td>\n",
       "      <td>...</td>\n",
       "      <td>1.0</td>\n",
       "      <td>6.0</td>\n",
       "      <td>13.3</td>\n",
       "      <td>75.0</td>\n",
       "      <td>216</td>\n",
       "      <td>26</td>\n",
       "      <td>30</td>\n",
       "      <td>12.0</td>\n",
       "      <td>1.0</td>\n",
       "      <td>NaN</td>\n",
       "    </tr>\n",
       "    <tr>\n",
       "      <th>1</th>\n",
       "      <td>2002</td>\n",
       "      <td>874800</td>\n",
       "      <td>200207</td>\n",
       "      <td>0.0</td>\n",
       "      <td>NaN</td>\n",
       "      <td>NaN</td>\n",
       "      <td>0.0</td>\n",
       "      <td>NaN</td>\n",
       "      <td>NaN</td>\n",
       "      <td>0.0</td>\n",
       "      <td>...</td>\n",
       "      <td>1.0</td>\n",
       "      <td>6.0</td>\n",
       "      <td>15.2</td>\n",
       "      <td>108.0</td>\n",
       "      <td>194</td>\n",
       "      <td>27</td>\n",
       "      <td>37</td>\n",
       "      <td>21.0</td>\n",
       "      <td>1.0</td>\n",
       "      <td>1.0</td>\n",
       "    </tr>\n",
       "    <tr>\n",
       "      <th>2</th>\n",
       "      <td>2002</td>\n",
       "      <td>88450</td>\n",
       "      <td>200207</td>\n",
       "      <td>0.0</td>\n",
       "      <td>NaN</td>\n",
       "      <td>NaN</td>\n",
       "      <td>0.0</td>\n",
       "      <td>NaN</td>\n",
       "      <td>NaN</td>\n",
       "      <td>0.0</td>\n",
       "      <td>...</td>\n",
       "      <td>1.0</td>\n",
       "      <td>6.0</td>\n",
       "      <td>14.0</td>\n",
       "      <td>81.0</td>\n",
       "      <td>196</td>\n",
       "      <td>22</td>\n",
       "      <td>17</td>\n",
       "      <td>10.0</td>\n",
       "      <td>1.0</td>\n",
       "      <td>1.0</td>\n",
       "    </tr>\n",
       "    <tr>\n",
       "      <th>3</th>\n",
       "      <td>2002</td>\n",
       "      <td>56993</td>\n",
       "      <td>200212</td>\n",
       "      <td>0.0</td>\n",
       "      <td>NaN</td>\n",
       "      <td>NaN</td>\n",
       "      <td>0.0</td>\n",
       "      <td>NaN</td>\n",
       "      <td>NaN</td>\n",
       "      <td>0.0</td>\n",
       "      <td>...</td>\n",
       "      <td>1.0</td>\n",
       "      <td>6.0</td>\n",
       "      <td>14.7</td>\n",
       "      <td>89.0</td>\n",
       "      <td>159</td>\n",
       "      <td>12</td>\n",
       "      <td>19</td>\n",
       "      <td>76.0</td>\n",
       "      <td>1.0</td>\n",
       "      <td>NaN</td>\n",
       "    </tr>\n",
       "    <tr>\n",
       "      <th>4</th>\n",
       "      <td>2002</td>\n",
       "      <td>591264</td>\n",
       "      <td>200210</td>\n",
       "      <td>0.0</td>\n",
       "      <td>NaN</td>\n",
       "      <td>NaN</td>\n",
       "      <td>0.0</td>\n",
       "      <td>NaN</td>\n",
       "      <td>NaN</td>\n",
       "      <td>0.0</td>\n",
       "      <td>...</td>\n",
       "      <td>1.0</td>\n",
       "      <td>6.0</td>\n",
       "      <td>17.2</td>\n",
       "      <td>104.0</td>\n",
       "      <td>198</td>\n",
       "      <td>33</td>\n",
       "      <td>33</td>\n",
       "      <td>34.0</td>\n",
       "      <td>1.0</td>\n",
       "      <td>NaN</td>\n",
       "    </tr>\n",
       "    <tr>\n",
       "      <th>...</th>\n",
       "      <td>...</td>\n",
       "      <td>...</td>\n",
       "      <td>...</td>\n",
       "      <td>...</td>\n",
       "      <td>...</td>\n",
       "      <td>...</td>\n",
       "      <td>...</td>\n",
       "      <td>...</td>\n",
       "      <td>...</td>\n",
       "      <td>...</td>\n",
       "      <td>...</td>\n",
       "      <td>...</td>\n",
       "      <td>...</td>\n",
       "      <td>...</td>\n",
       "      <td>...</td>\n",
       "      <td>...</td>\n",
       "      <td>...</td>\n",
       "      <td>...</td>\n",
       "      <td>...</td>\n",
       "      <td>...</td>\n",
       "      <td>...</td>\n",
       "    </tr>\n",
       "    <tr>\n",
       "      <th>1046</th>\n",
       "      <td>2008</td>\n",
       "      <td>218649</td>\n",
       "      <td>200806</td>\n",
       "      <td>1.0</td>\n",
       "      <td>1982.0</td>\n",
       "      <td>1.0</td>\n",
       "      <td>NaN</td>\n",
       "      <td>NaN</td>\n",
       "      <td>NaN</td>\n",
       "      <td>NaN</td>\n",
       "      <td>...</td>\n",
       "      <td>1.0</td>\n",
       "      <td>6.0</td>\n",
       "      <td>16.1</td>\n",
       "      <td>84.0</td>\n",
       "      <td>264</td>\n",
       "      <td>31</td>\n",
       "      <td>39</td>\n",
       "      <td>75.0</td>\n",
       "      <td>1.0</td>\n",
       "      <td>NaN</td>\n",
       "    </tr>\n",
       "    <tr>\n",
       "      <th>1047</th>\n",
       "      <td>2008</td>\n",
       "      <td>39217</td>\n",
       "      <td>200812</td>\n",
       "      <td>NaN</td>\n",
       "      <td>NaN</td>\n",
       "      <td>NaN</td>\n",
       "      <td>NaN</td>\n",
       "      <td>NaN</td>\n",
       "      <td>NaN</td>\n",
       "      <td>NaN</td>\n",
       "      <td>...</td>\n",
       "      <td>1.0</td>\n",
       "      <td>6.0</td>\n",
       "      <td>13.8</td>\n",
       "      <td>225.0</td>\n",
       "      <td>265</td>\n",
       "      <td>38</td>\n",
       "      <td>41</td>\n",
       "      <td>146.0</td>\n",
       "      <td>1.0</td>\n",
       "      <td>1.0</td>\n",
       "    </tr>\n",
       "    <tr>\n",
       "      <th>1048</th>\n",
       "      <td>2008</td>\n",
       "      <td>756414</td>\n",
       "      <td>200812</td>\n",
       "      <td>NaN</td>\n",
       "      <td>NaN</td>\n",
       "      <td>NaN</td>\n",
       "      <td>NaN</td>\n",
       "      <td>NaN</td>\n",
       "      <td>NaN</td>\n",
       "      <td>NaN</td>\n",
       "      <td>...</td>\n",
       "      <td>1.0</td>\n",
       "      <td>7.0</td>\n",
       "      <td>13.2</td>\n",
       "      <td>117.0</td>\n",
       "      <td>178</td>\n",
       "      <td>88</td>\n",
       "      <td>171</td>\n",
       "      <td>126.0</td>\n",
       "      <td>1.0</td>\n",
       "      <td>1.0</td>\n",
       "    </tr>\n",
       "    <tr>\n",
       "      <th>1049</th>\n",
       "      <td>2008</td>\n",
       "      <td>642899</td>\n",
       "      <td>200806</td>\n",
       "      <td>NaN</td>\n",
       "      <td>NaN</td>\n",
       "      <td>NaN</td>\n",
       "      <td>NaN</td>\n",
       "      <td>NaN</td>\n",
       "      <td>NaN</td>\n",
       "      <td>NaN</td>\n",
       "      <td>...</td>\n",
       "      <td>1.0</td>\n",
       "      <td>6.0</td>\n",
       "      <td>11.3</td>\n",
       "      <td>68.0</td>\n",
       "      <td>177</td>\n",
       "      <td>49</td>\n",
       "      <td>32</td>\n",
       "      <td>154.0</td>\n",
       "      <td>1.0</td>\n",
       "      <td>1.0</td>\n",
       "    </tr>\n",
       "    <tr>\n",
       "      <th>1050</th>\n",
       "      <td>2008</td>\n",
       "      <td>238542</td>\n",
       "      <td>200806</td>\n",
       "      <td>2.0</td>\n",
       "      <td>1991.0</td>\n",
       "      <td>2.0</td>\n",
       "      <td>NaN</td>\n",
       "      <td>NaN</td>\n",
       "      <td>NaN</td>\n",
       "      <td>NaN</td>\n",
       "      <td>...</td>\n",
       "      <td>1.0</td>\n",
       "      <td>6.5</td>\n",
       "      <td>15.4</td>\n",
       "      <td>84.0</td>\n",
       "      <td>203</td>\n",
       "      <td>84</td>\n",
       "      <td>47</td>\n",
       "      <td>74.0</td>\n",
       "      <td>1.0</td>\n",
       "      <td>2.0</td>\n",
       "    </tr>\n",
       "  </tbody>\n",
       "</table>\n",
       "<p>1051 rows × 51 columns</p>\n",
       "</div>"
      ],
      "text/plain": [
       "     EXMD_BZ_YYYY  RN_INDI HME_YYYYMM  Q_PHX1_DZ_V0208  Q_PHX1_YR  Q_PHX1_CR  \\\n",
       "0            2002   572493     200211              0.0        NaN        NaN   \n",
       "1            2002   874800     200207              0.0        NaN        NaN   \n",
       "2            2002    88450     200207              0.0        NaN        NaN   \n",
       "3            2002    56993     200212              0.0        NaN        NaN   \n",
       "4            2002   591264     200210              0.0        NaN        NaN   \n",
       "...           ...      ...        ...              ...        ...        ...   \n",
       "1046         2008   218649     200806              1.0     1982.0        1.0   \n",
       "1047         2008    39217     200812              NaN        NaN        NaN   \n",
       "1048         2008   756414     200812              NaN        NaN        NaN   \n",
       "1049         2008   642899     200806              NaN        NaN        NaN   \n",
       "1050         2008   238542     200806              2.0     1991.0        2.0   \n",
       "\n",
       "      Q_PHX2_DZ_V0208  Q_PHX2_YR  Q_PHX2_CR  Q_PHX3_DZ_V0208  ...  \\\n",
       "0                 0.0        NaN        NaN              0.0  ...   \n",
       "1                 0.0        NaN        NaN              0.0  ...   \n",
       "2                 0.0        NaN        NaN              0.0  ...   \n",
       "3                 0.0        NaN        NaN              0.0  ...   \n",
       "4                 0.0        NaN        NaN              0.0  ...   \n",
       "...               ...        ...        ...              ...  ...   \n",
       "1046              NaN        NaN        NaN              NaN  ...   \n",
       "1047              NaN        NaN        NaN              NaN  ...   \n",
       "1048              NaN        NaN        NaN              NaN  ...   \n",
       "1049              NaN        NaN        NaN              NaN  ...   \n",
       "1050              NaN        NaN        NaN              NaN  ...   \n",
       "\n",
       "      G1E_URN_OCC_BLD  G1E_URN_PH  G1E_HGB  G1E_FBS  G1E_TOT_CHOL  G1E_SGOT  \\\n",
       "0                 1.0         6.0     13.3     75.0           216        26   \n",
       "1                 1.0         6.0     15.2    108.0           194        27   \n",
       "2                 1.0         6.0     14.0     81.0           196        22   \n",
       "3                 1.0         6.0     14.7     89.0           159        12   \n",
       "4                 1.0         6.0     17.2    104.0           198        33   \n",
       "...               ...         ...      ...      ...           ...       ...   \n",
       "1046              1.0         6.0     16.1     84.0           264        31   \n",
       "1047              1.0         6.0     13.8    225.0           265        38   \n",
       "1048              1.0         7.0     13.2    117.0           178        88   \n",
       "1049              1.0         6.0     11.3     68.0           177        49   \n",
       "1050              1.0         6.5     15.4     84.0           203        84   \n",
       "\n",
       "      G1E_SGPT  G1E_GGT  G1E_CHST_XRAY_RST G1E_EKG_RST  \n",
       "0           30     12.0                1.0         NaN  \n",
       "1           37     21.0                1.0         1.0  \n",
       "2           17     10.0                1.0         1.0  \n",
       "3           19     76.0                1.0         NaN  \n",
       "4           33     34.0                1.0         NaN  \n",
       "...        ...      ...                ...         ...  \n",
       "1046        39     75.0                1.0         NaN  \n",
       "1047        41    146.0                1.0         1.0  \n",
       "1048       171    126.0                1.0         1.0  \n",
       "1049        32    154.0                1.0         1.0  \n",
       "1050        47     74.0                1.0         2.0  \n",
       "\n",
       "[1051 rows x 51 columns]"
      ]
     },
     "execution_count": 154,
     "metadata": {},
     "output_type": "execute_result"
    }
   ],
   "source": [
    "merge_data"
   ]
  },
  {
   "cell_type": "markdown",
   "metadata": {
    "collapsed": false,
    "pycharm": {
     "name": "#%% md\n"
    }
   },
   "source": [
    "- 필요없는 열 없애기"
   ]
  },
  {
   "cell_type": "code",
   "execution_count": 155,
   "metadata": {
    "collapsed": false,
    "pycharm": {
     "name": "#%%\n"
    }
   },
   "outputs": [
    {
     "data": {
      "text/html": [
       "<div>\n",
       "<style scoped>\n",
       "    .dataframe tbody tr th:only-of-type {\n",
       "        vertical-align: middle;\n",
       "    }\n",
       "\n",
       "    .dataframe tbody tr th {\n",
       "        vertical-align: top;\n",
       "    }\n",
       "\n",
       "    .dataframe thead th {\n",
       "        text-align: right;\n",
       "    }\n",
       "</style>\n",
       "<table border=\"1\" class=\"dataframe\">\n",
       "  <thead>\n",
       "    <tr style=\"text-align: right;\">\n",
       "      <th></th>\n",
       "      <th>EXMD_BZ_YYYY</th>\n",
       "      <th>RN_INDI</th>\n",
       "      <th>HME_YYYYMM</th>\n",
       "      <th>Q_PHX1_DZ_V0208</th>\n",
       "      <th>Q_PHX2_DZ_V0208</th>\n",
       "      <th>Q_PHX3_DZ_V0208</th>\n",
       "      <th>Q_FHX_LVDZ</th>\n",
       "      <th>Q_FHX_HTN</th>\n",
       "      <th>Q_FHX_STK</th>\n",
       "      <th>Q_FHX_HTDZ</th>\n",
       "      <th>...</th>\n",
       "      <th>G1E_BMI</th>\n",
       "      <th>G1E_WSTC</th>\n",
       "      <th>G1E_BP_SYS</th>\n",
       "      <th>G1E_BP_DIA</th>\n",
       "      <th>G1E_URN_PROT</th>\n",
       "      <th>G1E_HGB</th>\n",
       "      <th>G1E_FBS</th>\n",
       "      <th>G1E_TOT_CHOL</th>\n",
       "      <th>G1E_SGOT</th>\n",
       "      <th>G1E_SGPT</th>\n",
       "    </tr>\n",
       "  </thead>\n",
       "  <tbody>\n",
       "    <tr>\n",
       "      <th>0</th>\n",
       "      <td>2002</td>\n",
       "      <td>572493</td>\n",
       "      <td>200211</td>\n",
       "      <td>0.0</td>\n",
       "      <td>0.0</td>\n",
       "      <td>0.0</td>\n",
       "      <td>1.0</td>\n",
       "      <td>1.0</td>\n",
       "      <td>1.0</td>\n",
       "      <td>1.0</td>\n",
       "      <td>...</td>\n",
       "      <td>23.2</td>\n",
       "      <td>NaN</td>\n",
       "      <td>120</td>\n",
       "      <td>80</td>\n",
       "      <td>1.0</td>\n",
       "      <td>13.3</td>\n",
       "      <td>75.0</td>\n",
       "      <td>216</td>\n",
       "      <td>26</td>\n",
       "      <td>30</td>\n",
       "    </tr>\n",
       "    <tr>\n",
       "      <th>1</th>\n",
       "      <td>2002</td>\n",
       "      <td>874800</td>\n",
       "      <td>200207</td>\n",
       "      <td>0.0</td>\n",
       "      <td>0.0</td>\n",
       "      <td>0.0</td>\n",
       "      <td>1.0</td>\n",
       "      <td>1.0</td>\n",
       "      <td>1.0</td>\n",
       "      <td>1.0</td>\n",
       "      <td>...</td>\n",
       "      <td>29.4</td>\n",
       "      <td>NaN</td>\n",
       "      <td>120</td>\n",
       "      <td>80</td>\n",
       "      <td>1.0</td>\n",
       "      <td>15.2</td>\n",
       "      <td>108.0</td>\n",
       "      <td>194</td>\n",
       "      <td>27</td>\n",
       "      <td>37</td>\n",
       "    </tr>\n",
       "    <tr>\n",
       "      <th>2</th>\n",
       "      <td>2002</td>\n",
       "      <td>88450</td>\n",
       "      <td>200207</td>\n",
       "      <td>0.0</td>\n",
       "      <td>0.0</td>\n",
       "      <td>0.0</td>\n",
       "      <td>1.0</td>\n",
       "      <td>1.0</td>\n",
       "      <td>1.0</td>\n",
       "      <td>1.0</td>\n",
       "      <td>...</td>\n",
       "      <td>23.4</td>\n",
       "      <td>NaN</td>\n",
       "      <td>130</td>\n",
       "      <td>80</td>\n",
       "      <td>1.0</td>\n",
       "      <td>14.0</td>\n",
       "      <td>81.0</td>\n",
       "      <td>196</td>\n",
       "      <td>22</td>\n",
       "      <td>17</td>\n",
       "    </tr>\n",
       "    <tr>\n",
       "      <th>3</th>\n",
       "      <td>2002</td>\n",
       "      <td>56993</td>\n",
       "      <td>200212</td>\n",
       "      <td>0.0</td>\n",
       "      <td>0.0</td>\n",
       "      <td>0.0</td>\n",
       "      <td>NaN</td>\n",
       "      <td>NaN</td>\n",
       "      <td>NaN</td>\n",
       "      <td>NaN</td>\n",
       "      <td>...</td>\n",
       "      <td>25.6</td>\n",
       "      <td>NaN</td>\n",
       "      <td>130</td>\n",
       "      <td>80</td>\n",
       "      <td>1.0</td>\n",
       "      <td>14.7</td>\n",
       "      <td>89.0</td>\n",
       "      <td>159</td>\n",
       "      <td>12</td>\n",
       "      <td>19</td>\n",
       "    </tr>\n",
       "    <tr>\n",
       "      <th>4</th>\n",
       "      <td>2002</td>\n",
       "      <td>591264</td>\n",
       "      <td>200210</td>\n",
       "      <td>0.0</td>\n",
       "      <td>0.0</td>\n",
       "      <td>0.0</td>\n",
       "      <td>1.0</td>\n",
       "      <td>1.0</td>\n",
       "      <td>1.0</td>\n",
       "      <td>1.0</td>\n",
       "      <td>...</td>\n",
       "      <td>29.7</td>\n",
       "      <td>NaN</td>\n",
       "      <td>130</td>\n",
       "      <td>80</td>\n",
       "      <td>1.0</td>\n",
       "      <td>17.2</td>\n",
       "      <td>104.0</td>\n",
       "      <td>198</td>\n",
       "      <td>33</td>\n",
       "      <td>33</td>\n",
       "    </tr>\n",
       "    <tr>\n",
       "      <th>...</th>\n",
       "      <td>...</td>\n",
       "      <td>...</td>\n",
       "      <td>...</td>\n",
       "      <td>...</td>\n",
       "      <td>...</td>\n",
       "      <td>...</td>\n",
       "      <td>...</td>\n",
       "      <td>...</td>\n",
       "      <td>...</td>\n",
       "      <td>...</td>\n",
       "      <td>...</td>\n",
       "      <td>...</td>\n",
       "      <td>...</td>\n",
       "      <td>...</td>\n",
       "      <td>...</td>\n",
       "      <td>...</td>\n",
       "      <td>...</td>\n",
       "      <td>...</td>\n",
       "      <td>...</td>\n",
       "      <td>...</td>\n",
       "      <td>...</td>\n",
       "    </tr>\n",
       "    <tr>\n",
       "      <th>1046</th>\n",
       "      <td>2008</td>\n",
       "      <td>218649</td>\n",
       "      <td>200806</td>\n",
       "      <td>1.0</td>\n",
       "      <td>NaN</td>\n",
       "      <td>NaN</td>\n",
       "      <td>1.0</td>\n",
       "      <td>1.0</td>\n",
       "      <td>1.0</td>\n",
       "      <td>1.0</td>\n",
       "      <td>...</td>\n",
       "      <td>24.3</td>\n",
       "      <td>89.0</td>\n",
       "      <td>120</td>\n",
       "      <td>80</td>\n",
       "      <td>1.0</td>\n",
       "      <td>16.1</td>\n",
       "      <td>84.0</td>\n",
       "      <td>264</td>\n",
       "      <td>31</td>\n",
       "      <td>39</td>\n",
       "    </tr>\n",
       "    <tr>\n",
       "      <th>1047</th>\n",
       "      <td>2008</td>\n",
       "      <td>39217</td>\n",
       "      <td>200812</td>\n",
       "      <td>NaN</td>\n",
       "      <td>NaN</td>\n",
       "      <td>NaN</td>\n",
       "      <td>1.0</td>\n",
       "      <td>1.0</td>\n",
       "      <td>1.0</td>\n",
       "      <td>1.0</td>\n",
       "      <td>...</td>\n",
       "      <td>29.8</td>\n",
       "      <td>90.0</td>\n",
       "      <td>140</td>\n",
       "      <td>100</td>\n",
       "      <td>4.0</td>\n",
       "      <td>13.8</td>\n",
       "      <td>225.0</td>\n",
       "      <td>265</td>\n",
       "      <td>38</td>\n",
       "      <td>41</td>\n",
       "    </tr>\n",
       "    <tr>\n",
       "      <th>1048</th>\n",
       "      <td>2008</td>\n",
       "      <td>756414</td>\n",
       "      <td>200812</td>\n",
       "      <td>NaN</td>\n",
       "      <td>NaN</td>\n",
       "      <td>NaN</td>\n",
       "      <td>1.0</td>\n",
       "      <td>1.0</td>\n",
       "      <td>1.0</td>\n",
       "      <td>1.0</td>\n",
       "      <td>...</td>\n",
       "      <td>22.7</td>\n",
       "      <td>71.0</td>\n",
       "      <td>137</td>\n",
       "      <td>85</td>\n",
       "      <td>1.0</td>\n",
       "      <td>13.2</td>\n",
       "      <td>117.0</td>\n",
       "      <td>178</td>\n",
       "      <td>88</td>\n",
       "      <td>171</td>\n",
       "    </tr>\n",
       "    <tr>\n",
       "      <th>1049</th>\n",
       "      <td>2008</td>\n",
       "      <td>642899</td>\n",
       "      <td>200806</td>\n",
       "      <td>NaN</td>\n",
       "      <td>NaN</td>\n",
       "      <td>NaN</td>\n",
       "      <td>1.0</td>\n",
       "      <td>2.0</td>\n",
       "      <td>1.0</td>\n",
       "      <td>1.0</td>\n",
       "      <td>...</td>\n",
       "      <td>21.6</td>\n",
       "      <td>70.0</td>\n",
       "      <td>108</td>\n",
       "      <td>66</td>\n",
       "      <td>1.0</td>\n",
       "      <td>11.3</td>\n",
       "      <td>68.0</td>\n",
       "      <td>177</td>\n",
       "      <td>49</td>\n",
       "      <td>32</td>\n",
       "    </tr>\n",
       "    <tr>\n",
       "      <th>1050</th>\n",
       "      <td>2008</td>\n",
       "      <td>238542</td>\n",
       "      <td>200806</td>\n",
       "      <td>2.0</td>\n",
       "      <td>NaN</td>\n",
       "      <td>NaN</td>\n",
       "      <td>1.0</td>\n",
       "      <td>1.0</td>\n",
       "      <td>1.0</td>\n",
       "      <td>1.0</td>\n",
       "      <td>...</td>\n",
       "      <td>31.6</td>\n",
       "      <td>96.0</td>\n",
       "      <td>115</td>\n",
       "      <td>70</td>\n",
       "      <td>2.0</td>\n",
       "      <td>15.4</td>\n",
       "      <td>84.0</td>\n",
       "      <td>203</td>\n",
       "      <td>84</td>\n",
       "      <td>47</td>\n",
       "    </tr>\n",
       "  </tbody>\n",
       "</table>\n",
       "<p>1051 rows × 30 columns</p>\n",
       "</div>"
      ],
      "text/plain": [
       "     EXMD_BZ_YYYY  RN_INDI HME_YYYYMM  Q_PHX1_DZ_V0208  Q_PHX2_DZ_V0208  \\\n",
       "0            2002   572493     200211              0.0              0.0   \n",
       "1            2002   874800     200207              0.0              0.0   \n",
       "2            2002    88450     200207              0.0              0.0   \n",
       "3            2002    56993     200212              0.0              0.0   \n",
       "4            2002   591264     200210              0.0              0.0   \n",
       "...           ...      ...        ...              ...              ...   \n",
       "1046         2008   218649     200806              1.0              NaN   \n",
       "1047         2008    39217     200812              NaN              NaN   \n",
       "1048         2008   756414     200812              NaN              NaN   \n",
       "1049         2008   642899     200806              NaN              NaN   \n",
       "1050         2008   238542     200806              2.0              NaN   \n",
       "\n",
       "      Q_PHX3_DZ_V0208  Q_FHX_LVDZ  Q_FHX_HTN  Q_FHX_STK  Q_FHX_HTDZ  ...  \\\n",
       "0                 0.0         1.0        1.0        1.0         1.0  ...   \n",
       "1                 0.0         1.0        1.0        1.0         1.0  ...   \n",
       "2                 0.0         1.0        1.0        1.0         1.0  ...   \n",
       "3                 0.0         NaN        NaN        NaN         NaN  ...   \n",
       "4                 0.0         1.0        1.0        1.0         1.0  ...   \n",
       "...               ...         ...        ...        ...         ...  ...   \n",
       "1046              NaN         1.0        1.0        1.0         1.0  ...   \n",
       "1047              NaN         1.0        1.0        1.0         1.0  ...   \n",
       "1048              NaN         1.0        1.0        1.0         1.0  ...   \n",
       "1049              NaN         1.0        2.0        1.0         1.0  ...   \n",
       "1050              NaN         1.0        1.0        1.0         1.0  ...   \n",
       "\n",
       "      G1E_BMI  G1E_WSTC  G1E_BP_SYS  G1E_BP_DIA  G1E_URN_PROT  G1E_HGB  \\\n",
       "0        23.2       NaN         120          80           1.0     13.3   \n",
       "1        29.4       NaN         120          80           1.0     15.2   \n",
       "2        23.4       NaN         130          80           1.0     14.0   \n",
       "3        25.6       NaN         130          80           1.0     14.7   \n",
       "4        29.7       NaN         130          80           1.0     17.2   \n",
       "...       ...       ...         ...         ...           ...      ...   \n",
       "1046     24.3      89.0         120          80           1.0     16.1   \n",
       "1047     29.8      90.0         140         100           4.0     13.8   \n",
       "1048     22.7      71.0         137          85           1.0     13.2   \n",
       "1049     21.6      70.0         108          66           1.0     11.3   \n",
       "1050     31.6      96.0         115          70           2.0     15.4   \n",
       "\n",
       "      G1E_FBS  G1E_TOT_CHOL  G1E_SGOT  G1E_SGPT  \n",
       "0        75.0           216        26        30  \n",
       "1       108.0           194        27        37  \n",
       "2        81.0           196        22        17  \n",
       "3        89.0           159        12        19  \n",
       "4       104.0           198        33        33  \n",
       "...       ...           ...       ...       ...  \n",
       "1046     84.0           264        31        39  \n",
       "1047    225.0           265        38        41  \n",
       "1048    117.0           178        88       171  \n",
       "1049     68.0           177        49        32  \n",
       "1050     84.0           203        84        47  \n",
       "\n",
       "[1051 rows x 30 columns]"
      ]
     },
     "execution_count": 155,
     "metadata": {},
     "output_type": "execute_result"
    }
   ],
   "source": [
    "merge_data.drop([\"Q_PHX1_YR\",\"Q_PHX2_YR\",\"Q_PHX3_YR\",\n",
    "                 \"Q_PHX1_CR\",\"Q_PHX2_CR\",\"Q_PHX3_CR\",\"G1E_EKG_RST\",\"Q_AWR_YN\",\"Q_AWR_DZ\",\n",
    "                 \"Q_NTR_PRF\",\"G1E_HGHT\",\"G1E_WGHT\",\"G1E_VA_LT\",\"G1E_VA_RT\",\"G1E_HA_LT\",\"G1E_HA_RT\",\n",
    "                 \"G1E_URN_GLU\",\"G1E_URN_OCC_BLD\",\"G1E_URN_PH\",\"G1E_CHST_XRAY_RST\",\"G1E_GGT\",\n",
    "                 \"G1E_CHST_XRAY_RST\"],axis=1,inplace=True)\n",
    "merge_data"
   ]
  },
  {
   "cell_type": "markdown",
   "metadata": {
    "collapsed": false,
    "pycharm": {
     "name": "#%% md\n"
    }
   },
   "source": [
    "- 건강검진테이블2과 변수를 통일화 하기(과거 질병병력유무 열 추가)"
   ]
  },
  {
   "cell_type": "code",
   "execution_count": 156,
   "metadata": {
    "collapsed": false,
    "pycharm": {
     "name": "#%%\n"
    }
   },
   "outputs": [],
   "source": [
    "merge_data[\"Q_PHX_DX_STK\"]=0\n",
    "merge_data[\"Q_PHX_DX_HTDZ\"]=0\n",
    "merge_data[\"Q_PHX_DX_HTN\"]=0\n",
    "merge_data[\"Q_PHX_DX_DM\"]=0\n",
    "merge_data[\"Q_PHX_DX_PTB\"]=0\n",
    "merge_data[\"Q_PHX_DX_ETC\"]=0\n",
    "# merge_data[\"Q_PHX_TX_STK\"]=0\n",
    "# merge_data[\"Q_PHX_TX_HTDZ\"]=0\n",
    "# merge_data[\"Q_PHX_TX_HTN\"]=0\n",
    "# merge_data[\"Q_PHX_TX_DM\"]=0\n",
    "# merge_data[\"Q_PHX_TX_STK\"]=0\n",
    "# merge_data[\"Q_PHX_DX_STK\"]=0"
   ]
  },
  {
   "cell_type": "code",
   "execution_count": 157,
   "metadata": {
    "collapsed": false,
    "pycharm": {
     "name": "#%%\n"
    }
   },
   "outputs": [],
   "source": [
    "merge_data[[\"Q_PHX1_DZ_V0208\",\"Q_PHX2_DZ_V0208\",\"Q_PHX3_DZ_V0208\"]] = merge_data[[\"Q_PHX1_DZ_V0208\",\"Q_PHX2_DZ_V0208\",\"Q_PHX3_DZ_V0208\"]].fillna(0)\n",
    "merge_data[[\"Q_PHX1_DZ_V0208\",\"Q_PHX2_DZ_V0208\",\"Q_PHX3_DZ_V0208\"]] = merge_data[[\"Q_PHX1_DZ_V0208\",\"Q_PHX2_DZ_V0208\",\"Q_PHX3_DZ_V0208\"]].astype(\"int\")"
   ]
  },
  {
   "cell_type": "code",
   "execution_count": 158,
   "metadata": {
    "collapsed": false,
    "pycharm": {
     "name": "#%%\n"
    }
   },
   "outputs": [
    {
     "data": {
      "text/html": [
       "<div>\n",
       "<style scoped>\n",
       "    .dataframe tbody tr th:only-of-type {\n",
       "        vertical-align: middle;\n",
       "    }\n",
       "\n",
       "    .dataframe tbody tr th {\n",
       "        vertical-align: top;\n",
       "    }\n",
       "\n",
       "    .dataframe thead th {\n",
       "        text-align: right;\n",
       "    }\n",
       "</style>\n",
       "<table border=\"1\" class=\"dataframe\">\n",
       "  <thead>\n",
       "    <tr style=\"text-align: right;\">\n",
       "      <th></th>\n",
       "      <th>Q_PHX1_DZ_V0208</th>\n",
       "      <th>Q_PHX2_DZ_V0208</th>\n",
       "      <th>Q_PHX3_DZ_V0208</th>\n",
       "    </tr>\n",
       "  </thead>\n",
       "  <tbody>\n",
       "    <tr>\n",
       "      <th>0</th>\n",
       "      <td>0</td>\n",
       "      <td>0</td>\n",
       "      <td>0</td>\n",
       "    </tr>\n",
       "    <tr>\n",
       "      <th>1</th>\n",
       "      <td>0</td>\n",
       "      <td>0</td>\n",
       "      <td>0</td>\n",
       "    </tr>\n",
       "    <tr>\n",
       "      <th>2</th>\n",
       "      <td>0</td>\n",
       "      <td>0</td>\n",
       "      <td>0</td>\n",
       "    </tr>\n",
       "    <tr>\n",
       "      <th>3</th>\n",
       "      <td>0</td>\n",
       "      <td>0</td>\n",
       "      <td>0</td>\n",
       "    </tr>\n",
       "    <tr>\n",
       "      <th>4</th>\n",
       "      <td>0</td>\n",
       "      <td>0</td>\n",
       "      <td>0</td>\n",
       "    </tr>\n",
       "    <tr>\n",
       "      <th>...</th>\n",
       "      <td>...</td>\n",
       "      <td>...</td>\n",
       "      <td>...</td>\n",
       "    </tr>\n",
       "    <tr>\n",
       "      <th>1046</th>\n",
       "      <td>1</td>\n",
       "      <td>0</td>\n",
       "      <td>0</td>\n",
       "    </tr>\n",
       "    <tr>\n",
       "      <th>1047</th>\n",
       "      <td>0</td>\n",
       "      <td>0</td>\n",
       "      <td>0</td>\n",
       "    </tr>\n",
       "    <tr>\n",
       "      <th>1048</th>\n",
       "      <td>0</td>\n",
       "      <td>0</td>\n",
       "      <td>0</td>\n",
       "    </tr>\n",
       "    <tr>\n",
       "      <th>1049</th>\n",
       "      <td>0</td>\n",
       "      <td>0</td>\n",
       "      <td>0</td>\n",
       "    </tr>\n",
       "    <tr>\n",
       "      <th>1050</th>\n",
       "      <td>2</td>\n",
       "      <td>0</td>\n",
       "      <td>0</td>\n",
       "    </tr>\n",
       "  </tbody>\n",
       "</table>\n",
       "<p>1051 rows × 3 columns</p>\n",
       "</div>"
      ],
      "text/plain": [
       "      Q_PHX1_DZ_V0208  Q_PHX2_DZ_V0208  Q_PHX3_DZ_V0208\n",
       "0                   0                0                0\n",
       "1                   0                0                0\n",
       "2                   0                0                0\n",
       "3                   0                0                0\n",
       "4                   0                0                0\n",
       "...               ...              ...              ...\n",
       "1046                1                0                0\n",
       "1047                0                0                0\n",
       "1048                0                0                0\n",
       "1049                0                0                0\n",
       "1050                2                0                0\n",
       "\n",
       "[1051 rows x 3 columns]"
      ]
     },
     "execution_count": 158,
     "metadata": {},
     "output_type": "execute_result"
    }
   ],
   "source": [
    "merge_data[[\"Q_PHX1_DZ_V0208\",\"Q_PHX2_DZ_V0208\",\"Q_PHX3_DZ_V0208\"]]"
   ]
  },
  {
   "cell_type": "markdown",
   "metadata": {
    "collapsed": false,
    "pycharm": {
     "name": "#%% md\n"
    }
   },
   "source": [
    "- 과거 병력값에 따라 과거 질병병력유무에 값추가"
   ]
  },
  {
   "cell_type": "code",
   "execution_count": null,
   "metadata": {
    "collapsed": false,
    "pycharm": {
     "name": "#%%\n"
    }
   },
   "outputs": [],
   "source": [
    "for idx, dias_list in merge_data[[\"Q_PHX1_DZ_V0208\",\"Q_PHX2_DZ_V0208\",\"Q_PHX3_DZ_V0208\"]].iterrows():\n",
    "    for dias in dias_list:\n",
    "        if dias == 1: merge_data[\"Q_PHX_DX_PTB\"][idx] = 1\n",
    "        elif dias == 4: merge_data[\"Q_PHX_DX_HTN\"][idx] = 1\n",
    "        elif dias == 5: merge_data[\"Q_PHX_DX_HTDZ\"][idx] = 1\n",
    "        elif dias == 6: merge_data[\"Q_PHX_DX_STK\"][idx] = 1\n",
    "        elif dias == 7: merge_data[\"Q_PHX_DX_DM\"][idx]= 1\n",
    "        elif dias == 8: merge_data[\"Q_PHX_DX_ETC\"][idx] = 1\n",
    "        elif dias == 9: merge_data[\"Q_PHX_DX_ETC\"][idx] = 1"
   ]
  },
  {
   "cell_type": "code",
   "execution_count": 160,
   "metadata": {
    "collapsed": false,
    "pycharm": {
     "name": "#%%\n"
    }
   },
   "outputs": [
    {
     "data": {
      "text/html": [
       "<div>\n",
       "<style scoped>\n",
       "    .dataframe tbody tr th:only-of-type {\n",
       "        vertical-align: middle;\n",
       "    }\n",
       "\n",
       "    .dataframe tbody tr th {\n",
       "        vertical-align: top;\n",
       "    }\n",
       "\n",
       "    .dataframe thead th {\n",
       "        text-align: right;\n",
       "    }\n",
       "</style>\n",
       "<table border=\"1\" class=\"dataframe\">\n",
       "  <thead>\n",
       "    <tr style=\"text-align: right;\">\n",
       "      <th></th>\n",
       "      <th>Q_PHX1_DZ_V0208</th>\n",
       "      <th>Q_PHX2_DZ_V0208</th>\n",
       "      <th>Q_PHX3_DZ_V0208</th>\n",
       "    </tr>\n",
       "  </thead>\n",
       "  <tbody>\n",
       "    <tr>\n",
       "      <th>0</th>\n",
       "      <td>0</td>\n",
       "      <td>0</td>\n",
       "      <td>0</td>\n",
       "    </tr>\n",
       "    <tr>\n",
       "      <th>1</th>\n",
       "      <td>0</td>\n",
       "      <td>0</td>\n",
       "      <td>0</td>\n",
       "    </tr>\n",
       "    <tr>\n",
       "      <th>2</th>\n",
       "      <td>0</td>\n",
       "      <td>0</td>\n",
       "      <td>0</td>\n",
       "    </tr>\n",
       "    <tr>\n",
       "      <th>3</th>\n",
       "      <td>0</td>\n",
       "      <td>0</td>\n",
       "      <td>0</td>\n",
       "    </tr>\n",
       "    <tr>\n",
       "      <th>4</th>\n",
       "      <td>0</td>\n",
       "      <td>0</td>\n",
       "      <td>0</td>\n",
       "    </tr>\n",
       "    <tr>\n",
       "      <th>...</th>\n",
       "      <td>...</td>\n",
       "      <td>...</td>\n",
       "      <td>...</td>\n",
       "    </tr>\n",
       "    <tr>\n",
       "      <th>1046</th>\n",
       "      <td>1</td>\n",
       "      <td>0</td>\n",
       "      <td>0</td>\n",
       "    </tr>\n",
       "    <tr>\n",
       "      <th>1047</th>\n",
       "      <td>0</td>\n",
       "      <td>0</td>\n",
       "      <td>0</td>\n",
       "    </tr>\n",
       "    <tr>\n",
       "      <th>1048</th>\n",
       "      <td>0</td>\n",
       "      <td>0</td>\n",
       "      <td>0</td>\n",
       "    </tr>\n",
       "    <tr>\n",
       "      <th>1049</th>\n",
       "      <td>0</td>\n",
       "      <td>0</td>\n",
       "      <td>0</td>\n",
       "    </tr>\n",
       "    <tr>\n",
       "      <th>1050</th>\n",
       "      <td>2</td>\n",
       "      <td>0</td>\n",
       "      <td>0</td>\n",
       "    </tr>\n",
       "  </tbody>\n",
       "</table>\n",
       "<p>1051 rows × 3 columns</p>\n",
       "</div>"
      ],
      "text/plain": [
       "      Q_PHX1_DZ_V0208  Q_PHX2_DZ_V0208  Q_PHX3_DZ_V0208\n",
       "0                   0                0                0\n",
       "1                   0                0                0\n",
       "2                   0                0                0\n",
       "3                   0                0                0\n",
       "4                   0                0                0\n",
       "...               ...              ...              ...\n",
       "1046                1                0                0\n",
       "1047                0                0                0\n",
       "1048                0                0                0\n",
       "1049                0                0                0\n",
       "1050                2                0                0\n",
       "\n",
       "[1051 rows x 3 columns]"
      ]
     },
     "execution_count": 160,
     "metadata": {},
     "output_type": "execute_result"
    }
   ],
   "source": [
    "merge_data[[\"Q_PHX1_DZ_V0208\",\"Q_PHX2_DZ_V0208\",\"Q_PHX3_DZ_V0208\"]]"
   ]
  },
  {
   "cell_type": "code",
   "execution_count": 161,
   "metadata": {
    "collapsed": false,
    "pycharm": {
     "name": "#%%\n"
    }
   },
   "outputs": [
    {
     "data": {
      "text/html": [
       "<div>\n",
       "<style scoped>\n",
       "    .dataframe tbody tr th:only-of-type {\n",
       "        vertical-align: middle;\n",
       "    }\n",
       "\n",
       "    .dataframe tbody tr th {\n",
       "        vertical-align: top;\n",
       "    }\n",
       "\n",
       "    .dataframe thead th {\n",
       "        text-align: right;\n",
       "    }\n",
       "</style>\n",
       "<table border=\"1\" class=\"dataframe\">\n",
       "  <thead>\n",
       "    <tr style=\"text-align: right;\">\n",
       "      <th></th>\n",
       "      <th>Q_PHX_DX_PTB</th>\n",
       "      <th>Q_PHX_DX_HTN</th>\n",
       "      <th>Q_PHX_DX_HTDZ</th>\n",
       "      <th>Q_PHX_DX_STK</th>\n",
       "      <th>Q_PHX_DX_DM</th>\n",
       "      <th>Q_PHX_DX_ETC</th>\n",
       "    </tr>\n",
       "  </thead>\n",
       "  <tbody>\n",
       "    <tr>\n",
       "      <th>0</th>\n",
       "      <td>0</td>\n",
       "      <td>0</td>\n",
       "      <td>0</td>\n",
       "      <td>0</td>\n",
       "      <td>0</td>\n",
       "      <td>0</td>\n",
       "    </tr>\n",
       "    <tr>\n",
       "      <th>1</th>\n",
       "      <td>0</td>\n",
       "      <td>0</td>\n",
       "      <td>0</td>\n",
       "      <td>0</td>\n",
       "      <td>0</td>\n",
       "      <td>0</td>\n",
       "    </tr>\n",
       "    <tr>\n",
       "      <th>2</th>\n",
       "      <td>0</td>\n",
       "      <td>0</td>\n",
       "      <td>0</td>\n",
       "      <td>0</td>\n",
       "      <td>0</td>\n",
       "      <td>0</td>\n",
       "    </tr>\n",
       "    <tr>\n",
       "      <th>3</th>\n",
       "      <td>0</td>\n",
       "      <td>0</td>\n",
       "      <td>0</td>\n",
       "      <td>0</td>\n",
       "      <td>0</td>\n",
       "      <td>0</td>\n",
       "    </tr>\n",
       "    <tr>\n",
       "      <th>4</th>\n",
       "      <td>0</td>\n",
       "      <td>0</td>\n",
       "      <td>0</td>\n",
       "      <td>0</td>\n",
       "      <td>0</td>\n",
       "      <td>0</td>\n",
       "    </tr>\n",
       "    <tr>\n",
       "      <th>...</th>\n",
       "      <td>...</td>\n",
       "      <td>...</td>\n",
       "      <td>...</td>\n",
       "      <td>...</td>\n",
       "      <td>...</td>\n",
       "      <td>...</td>\n",
       "    </tr>\n",
       "    <tr>\n",
       "      <th>1046</th>\n",
       "      <td>1</td>\n",
       "      <td>0</td>\n",
       "      <td>0</td>\n",
       "      <td>0</td>\n",
       "      <td>0</td>\n",
       "      <td>0</td>\n",
       "    </tr>\n",
       "    <tr>\n",
       "      <th>1047</th>\n",
       "      <td>0</td>\n",
       "      <td>0</td>\n",
       "      <td>0</td>\n",
       "      <td>0</td>\n",
       "      <td>0</td>\n",
       "      <td>0</td>\n",
       "    </tr>\n",
       "    <tr>\n",
       "      <th>1048</th>\n",
       "      <td>0</td>\n",
       "      <td>0</td>\n",
       "      <td>0</td>\n",
       "      <td>0</td>\n",
       "      <td>0</td>\n",
       "      <td>0</td>\n",
       "    </tr>\n",
       "    <tr>\n",
       "      <th>1049</th>\n",
       "      <td>0</td>\n",
       "      <td>0</td>\n",
       "      <td>0</td>\n",
       "      <td>0</td>\n",
       "      <td>0</td>\n",
       "      <td>0</td>\n",
       "    </tr>\n",
       "    <tr>\n",
       "      <th>1050</th>\n",
       "      <td>0</td>\n",
       "      <td>0</td>\n",
       "      <td>0</td>\n",
       "      <td>0</td>\n",
       "      <td>0</td>\n",
       "      <td>0</td>\n",
       "    </tr>\n",
       "  </tbody>\n",
       "</table>\n",
       "<p>1051 rows × 6 columns</p>\n",
       "</div>"
      ],
      "text/plain": [
       "      Q_PHX_DX_PTB  Q_PHX_DX_HTN  Q_PHX_DX_HTDZ  Q_PHX_DX_STK  Q_PHX_DX_DM  \\\n",
       "0                0             0              0             0            0   \n",
       "1                0             0              0             0            0   \n",
       "2                0             0              0             0            0   \n",
       "3                0             0              0             0            0   \n",
       "4                0             0              0             0            0   \n",
       "...            ...           ...            ...           ...          ...   \n",
       "1046             1             0              0             0            0   \n",
       "1047             0             0              0             0            0   \n",
       "1048             0             0              0             0            0   \n",
       "1049             0             0              0             0            0   \n",
       "1050             0             0              0             0            0   \n",
       "\n",
       "      Q_PHX_DX_ETC  \n",
       "0                0  \n",
       "1                0  \n",
       "2                0  \n",
       "3                0  \n",
       "4                0  \n",
       "...            ...  \n",
       "1046             0  \n",
       "1047             0  \n",
       "1048             0  \n",
       "1049             0  \n",
       "1050             0  \n",
       "\n",
       "[1051 rows x 6 columns]"
      ]
     },
     "execution_count": 161,
     "metadata": {},
     "output_type": "execute_result"
    }
   ],
   "source": [
    "merge_data[[\"Q_PHX_DX_PTB\",\"Q_PHX_DX_HTN\",\"Q_PHX_DX_HTDZ\",\"Q_PHX_DX_STK\",\"Q_PHX_DX_DM\",\"Q_PHX_DX_ETC\"]]"
   ]
  },
  {
   "cell_type": "markdown",
   "metadata": {
    "collapsed": false,
    "pycharm": {
     "name": "#%% md\n"
    }
   },
   "source": [
    "- 과거병력코드 1, 2, 3 열 없애기"
   ]
  },
  {
   "cell_type": "code",
   "execution_count": 162,
   "metadata": {
    "collapsed": false,
    "pycharm": {
     "name": "#%%\n"
    }
   },
   "outputs": [],
   "source": [
    "merge_data.drop([\"Q_PHX1_DZ_V0208\",\"Q_PHX2_DZ_V0208\",\"Q_PHX3_DZ_V0208\"],axis=1,inplace=True)"
   ]
  },
  {
   "cell_type": "code",
   "execution_count": 163,
   "metadata": {
    "collapsed": false,
    "pycharm": {
     "name": "#%%\n"
    }
   },
   "outputs": [
    {
     "data": {
      "text/html": [
       "<div>\n",
       "<style scoped>\n",
       "    .dataframe tbody tr th:only-of-type {\n",
       "        vertical-align: middle;\n",
       "    }\n",
       "\n",
       "    .dataframe tbody tr th {\n",
       "        vertical-align: top;\n",
       "    }\n",
       "\n",
       "    .dataframe thead th {\n",
       "        text-align: right;\n",
       "    }\n",
       "</style>\n",
       "<table border=\"1\" class=\"dataframe\">\n",
       "  <thead>\n",
       "    <tr style=\"text-align: right;\">\n",
       "      <th></th>\n",
       "      <th>EXMD_BZ_YYYY</th>\n",
       "      <th>RN_INDI</th>\n",
       "      <th>HME_YYYYMM</th>\n",
       "      <th>Q_FHX_LVDZ</th>\n",
       "      <th>Q_FHX_HTN</th>\n",
       "      <th>Q_FHX_STK</th>\n",
       "      <th>Q_FHX_HTDZ</th>\n",
       "      <th>Q_FHX_DM</th>\n",
       "      <th>Q_FHX_CC</th>\n",
       "      <th>Q_DRK_FRQ_V0108</th>\n",
       "      <th>...</th>\n",
       "      <th>G1E_FBS</th>\n",
       "      <th>G1E_TOT_CHOL</th>\n",
       "      <th>G1E_SGOT</th>\n",
       "      <th>G1E_SGPT</th>\n",
       "      <th>Q_PHX_DX_STK</th>\n",
       "      <th>Q_PHX_DX_HTDZ</th>\n",
       "      <th>Q_PHX_DX_HTN</th>\n",
       "      <th>Q_PHX_DX_DM</th>\n",
       "      <th>Q_PHX_DX_PTB</th>\n",
       "      <th>Q_PHX_DX_ETC</th>\n",
       "    </tr>\n",
       "  </thead>\n",
       "  <tbody>\n",
       "    <tr>\n",
       "      <th>0</th>\n",
       "      <td>2002</td>\n",
       "      <td>572493</td>\n",
       "      <td>200211</td>\n",
       "      <td>1.0</td>\n",
       "      <td>1.0</td>\n",
       "      <td>1.0</td>\n",
       "      <td>1.0</td>\n",
       "      <td>1.0</td>\n",
       "      <td>1.0</td>\n",
       "      <td>1.0</td>\n",
       "      <td>...</td>\n",
       "      <td>75.0</td>\n",
       "      <td>216</td>\n",
       "      <td>26</td>\n",
       "      <td>30</td>\n",
       "      <td>0</td>\n",
       "      <td>0</td>\n",
       "      <td>0</td>\n",
       "      <td>0</td>\n",
       "      <td>0</td>\n",
       "      <td>0</td>\n",
       "    </tr>\n",
       "    <tr>\n",
       "      <th>1</th>\n",
       "      <td>2002</td>\n",
       "      <td>874800</td>\n",
       "      <td>200207</td>\n",
       "      <td>1.0</td>\n",
       "      <td>1.0</td>\n",
       "      <td>1.0</td>\n",
       "      <td>1.0</td>\n",
       "      <td>1.0</td>\n",
       "      <td>1.0</td>\n",
       "      <td>1.0</td>\n",
       "      <td>...</td>\n",
       "      <td>108.0</td>\n",
       "      <td>194</td>\n",
       "      <td>27</td>\n",
       "      <td>37</td>\n",
       "      <td>0</td>\n",
       "      <td>0</td>\n",
       "      <td>0</td>\n",
       "      <td>0</td>\n",
       "      <td>0</td>\n",
       "      <td>0</td>\n",
       "    </tr>\n",
       "    <tr>\n",
       "      <th>2</th>\n",
       "      <td>2002</td>\n",
       "      <td>88450</td>\n",
       "      <td>200207</td>\n",
       "      <td>1.0</td>\n",
       "      <td>1.0</td>\n",
       "      <td>1.0</td>\n",
       "      <td>1.0</td>\n",
       "      <td>1.0</td>\n",
       "      <td>2.0</td>\n",
       "      <td>1.0</td>\n",
       "      <td>...</td>\n",
       "      <td>81.0</td>\n",
       "      <td>196</td>\n",
       "      <td>22</td>\n",
       "      <td>17</td>\n",
       "      <td>0</td>\n",
       "      <td>0</td>\n",
       "      <td>0</td>\n",
       "      <td>0</td>\n",
       "      <td>0</td>\n",
       "      <td>0</td>\n",
       "    </tr>\n",
       "    <tr>\n",
       "      <th>3</th>\n",
       "      <td>2002</td>\n",
       "      <td>56993</td>\n",
       "      <td>200212</td>\n",
       "      <td>NaN</td>\n",
       "      <td>NaN</td>\n",
       "      <td>NaN</td>\n",
       "      <td>NaN</td>\n",
       "      <td>2.0</td>\n",
       "      <td>NaN</td>\n",
       "      <td>2.0</td>\n",
       "      <td>...</td>\n",
       "      <td>89.0</td>\n",
       "      <td>159</td>\n",
       "      <td>12</td>\n",
       "      <td>19</td>\n",
       "      <td>0</td>\n",
       "      <td>0</td>\n",
       "      <td>0</td>\n",
       "      <td>0</td>\n",
       "      <td>0</td>\n",
       "      <td>0</td>\n",
       "    </tr>\n",
       "    <tr>\n",
       "      <th>4</th>\n",
       "      <td>2002</td>\n",
       "      <td>591264</td>\n",
       "      <td>200210</td>\n",
       "      <td>1.0</td>\n",
       "      <td>1.0</td>\n",
       "      <td>1.0</td>\n",
       "      <td>1.0</td>\n",
       "      <td>1.0</td>\n",
       "      <td>1.0</td>\n",
       "      <td>2.0</td>\n",
       "      <td>...</td>\n",
       "      <td>104.0</td>\n",
       "      <td>198</td>\n",
       "      <td>33</td>\n",
       "      <td>33</td>\n",
       "      <td>0</td>\n",
       "      <td>0</td>\n",
       "      <td>0</td>\n",
       "      <td>0</td>\n",
       "      <td>0</td>\n",
       "      <td>0</td>\n",
       "    </tr>\n",
       "    <tr>\n",
       "      <th>...</th>\n",
       "      <td>...</td>\n",
       "      <td>...</td>\n",
       "      <td>...</td>\n",
       "      <td>...</td>\n",
       "      <td>...</td>\n",
       "      <td>...</td>\n",
       "      <td>...</td>\n",
       "      <td>...</td>\n",
       "      <td>...</td>\n",
       "      <td>...</td>\n",
       "      <td>...</td>\n",
       "      <td>...</td>\n",
       "      <td>...</td>\n",
       "      <td>...</td>\n",
       "      <td>...</td>\n",
       "      <td>...</td>\n",
       "      <td>...</td>\n",
       "      <td>...</td>\n",
       "      <td>...</td>\n",
       "      <td>...</td>\n",
       "      <td>...</td>\n",
       "    </tr>\n",
       "    <tr>\n",
       "      <th>1046</th>\n",
       "      <td>2008</td>\n",
       "      <td>218649</td>\n",
       "      <td>200806</td>\n",
       "      <td>1.0</td>\n",
       "      <td>1.0</td>\n",
       "      <td>1.0</td>\n",
       "      <td>1.0</td>\n",
       "      <td>1.0</td>\n",
       "      <td>1.0</td>\n",
       "      <td>3.0</td>\n",
       "      <td>...</td>\n",
       "      <td>84.0</td>\n",
       "      <td>264</td>\n",
       "      <td>31</td>\n",
       "      <td>39</td>\n",
       "      <td>0</td>\n",
       "      <td>0</td>\n",
       "      <td>0</td>\n",
       "      <td>0</td>\n",
       "      <td>1</td>\n",
       "      <td>0</td>\n",
       "    </tr>\n",
       "    <tr>\n",
       "      <th>1047</th>\n",
       "      <td>2008</td>\n",
       "      <td>39217</td>\n",
       "      <td>200812</td>\n",
       "      <td>1.0</td>\n",
       "      <td>1.0</td>\n",
       "      <td>1.0</td>\n",
       "      <td>1.0</td>\n",
       "      <td>2.0</td>\n",
       "      <td>1.0</td>\n",
       "      <td>3.0</td>\n",
       "      <td>...</td>\n",
       "      <td>225.0</td>\n",
       "      <td>265</td>\n",
       "      <td>38</td>\n",
       "      <td>41</td>\n",
       "      <td>0</td>\n",
       "      <td>0</td>\n",
       "      <td>0</td>\n",
       "      <td>0</td>\n",
       "      <td>0</td>\n",
       "      <td>0</td>\n",
       "    </tr>\n",
       "    <tr>\n",
       "      <th>1048</th>\n",
       "      <td>2008</td>\n",
       "      <td>756414</td>\n",
       "      <td>200812</td>\n",
       "      <td>1.0</td>\n",
       "      <td>1.0</td>\n",
       "      <td>1.0</td>\n",
       "      <td>1.0</td>\n",
       "      <td>1.0</td>\n",
       "      <td>1.0</td>\n",
       "      <td>1.0</td>\n",
       "      <td>...</td>\n",
       "      <td>117.0</td>\n",
       "      <td>178</td>\n",
       "      <td>88</td>\n",
       "      <td>171</td>\n",
       "      <td>0</td>\n",
       "      <td>0</td>\n",
       "      <td>0</td>\n",
       "      <td>0</td>\n",
       "      <td>0</td>\n",
       "      <td>0</td>\n",
       "    </tr>\n",
       "    <tr>\n",
       "      <th>1049</th>\n",
       "      <td>2008</td>\n",
       "      <td>642899</td>\n",
       "      <td>200806</td>\n",
       "      <td>1.0</td>\n",
       "      <td>2.0</td>\n",
       "      <td>1.0</td>\n",
       "      <td>1.0</td>\n",
       "      <td>1.0</td>\n",
       "      <td>1.0</td>\n",
       "      <td>1.0</td>\n",
       "      <td>...</td>\n",
       "      <td>68.0</td>\n",
       "      <td>177</td>\n",
       "      <td>49</td>\n",
       "      <td>32</td>\n",
       "      <td>0</td>\n",
       "      <td>0</td>\n",
       "      <td>0</td>\n",
       "      <td>0</td>\n",
       "      <td>0</td>\n",
       "      <td>0</td>\n",
       "    </tr>\n",
       "    <tr>\n",
       "      <th>1050</th>\n",
       "      <td>2008</td>\n",
       "      <td>238542</td>\n",
       "      <td>200806</td>\n",
       "      <td>1.0</td>\n",
       "      <td>1.0</td>\n",
       "      <td>1.0</td>\n",
       "      <td>1.0</td>\n",
       "      <td>1.0</td>\n",
       "      <td>1.0</td>\n",
       "      <td>3.0</td>\n",
       "      <td>...</td>\n",
       "      <td>84.0</td>\n",
       "      <td>203</td>\n",
       "      <td>84</td>\n",
       "      <td>47</td>\n",
       "      <td>0</td>\n",
       "      <td>0</td>\n",
       "      <td>0</td>\n",
       "      <td>0</td>\n",
       "      <td>0</td>\n",
       "      <td>0</td>\n",
       "    </tr>\n",
       "  </tbody>\n",
       "</table>\n",
       "<p>1051 rows × 33 columns</p>\n",
       "</div>"
      ],
      "text/plain": [
       "     EXMD_BZ_YYYY  RN_INDI HME_YYYYMM  Q_FHX_LVDZ  Q_FHX_HTN  Q_FHX_STK  \\\n",
       "0            2002   572493     200211         1.0        1.0        1.0   \n",
       "1            2002   874800     200207         1.0        1.0        1.0   \n",
       "2            2002    88450     200207         1.0        1.0        1.0   \n",
       "3            2002    56993     200212         NaN        NaN        NaN   \n",
       "4            2002   591264     200210         1.0        1.0        1.0   \n",
       "...           ...      ...        ...         ...        ...        ...   \n",
       "1046         2008   218649     200806         1.0        1.0        1.0   \n",
       "1047         2008    39217     200812         1.0        1.0        1.0   \n",
       "1048         2008   756414     200812         1.0        1.0        1.0   \n",
       "1049         2008   642899     200806         1.0        2.0        1.0   \n",
       "1050         2008   238542     200806         1.0        1.0        1.0   \n",
       "\n",
       "      Q_FHX_HTDZ  Q_FHX_DM  Q_FHX_CC  Q_DRK_FRQ_V0108  ...  G1E_FBS  \\\n",
       "0            1.0       1.0       1.0              1.0  ...     75.0   \n",
       "1            1.0       1.0       1.0              1.0  ...    108.0   \n",
       "2            1.0       1.0       2.0              1.0  ...     81.0   \n",
       "3            NaN       2.0       NaN              2.0  ...     89.0   \n",
       "4            1.0       1.0       1.0              2.0  ...    104.0   \n",
       "...          ...       ...       ...              ...  ...      ...   \n",
       "1046         1.0       1.0       1.0              3.0  ...     84.0   \n",
       "1047         1.0       2.0       1.0              3.0  ...    225.0   \n",
       "1048         1.0       1.0       1.0              1.0  ...    117.0   \n",
       "1049         1.0       1.0       1.0              1.0  ...     68.0   \n",
       "1050         1.0       1.0       1.0              3.0  ...     84.0   \n",
       "\n",
       "      G1E_TOT_CHOL  G1E_SGOT  G1E_SGPT  Q_PHX_DX_STK  Q_PHX_DX_HTDZ  \\\n",
       "0              216        26        30             0              0   \n",
       "1              194        27        37             0              0   \n",
       "2              196        22        17             0              0   \n",
       "3              159        12        19             0              0   \n",
       "4              198        33        33             0              0   \n",
       "...            ...       ...       ...           ...            ...   \n",
       "1046           264        31        39             0              0   \n",
       "1047           265        38        41             0              0   \n",
       "1048           178        88       171             0              0   \n",
       "1049           177        49        32             0              0   \n",
       "1050           203        84        47             0              0   \n",
       "\n",
       "      Q_PHX_DX_HTN  Q_PHX_DX_DM  Q_PHX_DX_PTB  Q_PHX_DX_ETC  \n",
       "0                0            0             0             0  \n",
       "1                0            0             0             0  \n",
       "2                0            0             0             0  \n",
       "3                0            0             0             0  \n",
       "4                0            0             0             0  \n",
       "...            ...          ...           ...           ...  \n",
       "1046             0            0             1             0  \n",
       "1047             0            0             0             0  \n",
       "1048             0            0             0             0  \n",
       "1049             0            0             0             0  \n",
       "1050             0            0             0             0  \n",
       "\n",
       "[1051 rows x 33 columns]"
      ]
     },
     "execution_count": 163,
     "metadata": {},
     "output_type": "execute_result"
    }
   ],
   "source": [
    "merge_data"
   ]
  },
  {
   "cell_type": "markdown",
   "metadata": {
    "collapsed": false,
    "pycharm": {
     "name": "#%% md\n"
    }
   },
   "source": [
    "- 가족력관한 열 값 바꾸기\n",
    "- 1->0 2->1로 바꾸기(건강검진테이블2과 똑같이 하기 위해)"
   ]
  },
  {
   "cell_type": "code",
   "execution_count": 164,
   "metadata": {
    "collapsed": false,
    "pycharm": {
     "name": "#%%\n"
    }
   },
   "outputs": [],
   "source": [
    "merge_data.drop([\"Q_FHX_LVDZ\"],axis=1,inplace=True)"
   ]
  },
  {
   "cell_type": "code",
   "execution_count": 165,
   "metadata": {
    "collapsed": false,
    "pycharm": {
     "name": "#%%\n"
    }
   },
   "outputs": [],
   "source": [
    "merge_data[[\"Q_FHX_HTN\",\"Q_FHX_STK\",\"Q_FHX_HTDZ\",\"Q_FHX_DM\",\"Q_FHX_CC\"]] =merge_data[[\"Q_FHX_HTN\",\"Q_FHX_STK\",\"Q_FHX_HTDZ\",\"Q_FHX_DM\",\"Q_FHX_CC\"]].fillna(1)"
   ]
  },
  {
   "cell_type": "code",
   "execution_count": 166,
   "metadata": {
    "collapsed": false,
    "pycharm": {
     "name": "#%%\n"
    }
   },
   "outputs": [
    {
     "data": {
      "text/html": [
       "<div>\n",
       "<style scoped>\n",
       "    .dataframe tbody tr th:only-of-type {\n",
       "        vertical-align: middle;\n",
       "    }\n",
       "\n",
       "    .dataframe tbody tr th {\n",
       "        vertical-align: top;\n",
       "    }\n",
       "\n",
       "    .dataframe thead th {\n",
       "        text-align: right;\n",
       "    }\n",
       "</style>\n",
       "<table border=\"1\" class=\"dataframe\">\n",
       "  <thead>\n",
       "    <tr style=\"text-align: right;\">\n",
       "      <th></th>\n",
       "      <th>Q_FHX_HTN</th>\n",
       "      <th>Q_FHX_STK</th>\n",
       "      <th>Q_FHX_HTDZ</th>\n",
       "      <th>Q_FHX_DM</th>\n",
       "      <th>Q_FHX_CC</th>\n",
       "    </tr>\n",
       "  </thead>\n",
       "  <tbody>\n",
       "    <tr>\n",
       "      <th>0</th>\n",
       "      <td>1.0</td>\n",
       "      <td>1.0</td>\n",
       "      <td>1.0</td>\n",
       "      <td>1.0</td>\n",
       "      <td>1.0</td>\n",
       "    </tr>\n",
       "    <tr>\n",
       "      <th>1</th>\n",
       "      <td>1.0</td>\n",
       "      <td>1.0</td>\n",
       "      <td>1.0</td>\n",
       "      <td>1.0</td>\n",
       "      <td>1.0</td>\n",
       "    </tr>\n",
       "    <tr>\n",
       "      <th>2</th>\n",
       "      <td>1.0</td>\n",
       "      <td>1.0</td>\n",
       "      <td>1.0</td>\n",
       "      <td>1.0</td>\n",
       "      <td>2.0</td>\n",
       "    </tr>\n",
       "    <tr>\n",
       "      <th>3</th>\n",
       "      <td>1.0</td>\n",
       "      <td>1.0</td>\n",
       "      <td>1.0</td>\n",
       "      <td>2.0</td>\n",
       "      <td>1.0</td>\n",
       "    </tr>\n",
       "    <tr>\n",
       "      <th>4</th>\n",
       "      <td>1.0</td>\n",
       "      <td>1.0</td>\n",
       "      <td>1.0</td>\n",
       "      <td>1.0</td>\n",
       "      <td>1.0</td>\n",
       "    </tr>\n",
       "    <tr>\n",
       "      <th>...</th>\n",
       "      <td>...</td>\n",
       "      <td>...</td>\n",
       "      <td>...</td>\n",
       "      <td>...</td>\n",
       "      <td>...</td>\n",
       "    </tr>\n",
       "    <tr>\n",
       "      <th>1046</th>\n",
       "      <td>1.0</td>\n",
       "      <td>1.0</td>\n",
       "      <td>1.0</td>\n",
       "      <td>1.0</td>\n",
       "      <td>1.0</td>\n",
       "    </tr>\n",
       "    <tr>\n",
       "      <th>1047</th>\n",
       "      <td>1.0</td>\n",
       "      <td>1.0</td>\n",
       "      <td>1.0</td>\n",
       "      <td>2.0</td>\n",
       "      <td>1.0</td>\n",
       "    </tr>\n",
       "    <tr>\n",
       "      <th>1048</th>\n",
       "      <td>1.0</td>\n",
       "      <td>1.0</td>\n",
       "      <td>1.0</td>\n",
       "      <td>1.0</td>\n",
       "      <td>1.0</td>\n",
       "    </tr>\n",
       "    <tr>\n",
       "      <th>1049</th>\n",
       "      <td>2.0</td>\n",
       "      <td>1.0</td>\n",
       "      <td>1.0</td>\n",
       "      <td>1.0</td>\n",
       "      <td>1.0</td>\n",
       "    </tr>\n",
       "    <tr>\n",
       "      <th>1050</th>\n",
       "      <td>1.0</td>\n",
       "      <td>1.0</td>\n",
       "      <td>1.0</td>\n",
       "      <td>1.0</td>\n",
       "      <td>1.0</td>\n",
       "    </tr>\n",
       "  </tbody>\n",
       "</table>\n",
       "<p>1051 rows × 5 columns</p>\n",
       "</div>"
      ],
      "text/plain": [
       "      Q_FHX_HTN  Q_FHX_STK  Q_FHX_HTDZ  Q_FHX_DM  Q_FHX_CC\n",
       "0           1.0        1.0         1.0       1.0       1.0\n",
       "1           1.0        1.0         1.0       1.0       1.0\n",
       "2           1.0        1.0         1.0       1.0       2.0\n",
       "3           1.0        1.0         1.0       2.0       1.0\n",
       "4           1.0        1.0         1.0       1.0       1.0\n",
       "...         ...        ...         ...       ...       ...\n",
       "1046        1.0        1.0         1.0       1.0       1.0\n",
       "1047        1.0        1.0         1.0       2.0       1.0\n",
       "1048        1.0        1.0         1.0       1.0       1.0\n",
       "1049        2.0        1.0         1.0       1.0       1.0\n",
       "1050        1.0        1.0         1.0       1.0       1.0\n",
       "\n",
       "[1051 rows x 5 columns]"
      ]
     },
     "execution_count": 166,
     "metadata": {},
     "output_type": "execute_result"
    }
   ],
   "source": [
    "merge_data[[\"Q_FHX_HTN\",\"Q_FHX_STK\",\"Q_FHX_HTDZ\",\"Q_FHX_DM\",\"Q_FHX_CC\"]]"
   ]
  },
  {
   "cell_type": "code",
   "execution_count": null,
   "metadata": {
    "collapsed": false,
    "pycharm": {
     "name": "#%%\n"
    }
   },
   "outputs": [],
   "source": [
    "for name in [\"Q_FHX_HTN\",\"Q_FHX_STK\",\"Q_FHX_HTDZ\",\"Q_FHX_DM\",\"Q_FHX_CC\"]:\n",
    "    merge_data[name][merge_data[name] == 1] = 0\n",
    "    merge_data[name][merge_data[name] == 2] = 1"
   ]
  },
  {
   "cell_type": "code",
   "execution_count": 168,
   "metadata": {
    "collapsed": false,
    "pycharm": {
     "name": "#%%\n"
    }
   },
   "outputs": [
    {
     "data": {
      "text/html": [
       "<div>\n",
       "<style scoped>\n",
       "    .dataframe tbody tr th:only-of-type {\n",
       "        vertical-align: middle;\n",
       "    }\n",
       "\n",
       "    .dataframe tbody tr th {\n",
       "        vertical-align: top;\n",
       "    }\n",
       "\n",
       "    .dataframe thead th {\n",
       "        text-align: right;\n",
       "    }\n",
       "</style>\n",
       "<table border=\"1\" class=\"dataframe\">\n",
       "  <thead>\n",
       "    <tr style=\"text-align: right;\">\n",
       "      <th></th>\n",
       "      <th>Q_FHX_HTN</th>\n",
       "      <th>Q_FHX_STK</th>\n",
       "      <th>Q_FHX_HTDZ</th>\n",
       "      <th>Q_FHX_DM</th>\n",
       "      <th>Q_FHX_CC</th>\n",
       "    </tr>\n",
       "  </thead>\n",
       "  <tbody>\n",
       "    <tr>\n",
       "      <th>0</th>\n",
       "      <td>0.0</td>\n",
       "      <td>0.0</td>\n",
       "      <td>0.0</td>\n",
       "      <td>0.0</td>\n",
       "      <td>0.0</td>\n",
       "    </tr>\n",
       "    <tr>\n",
       "      <th>1</th>\n",
       "      <td>0.0</td>\n",
       "      <td>0.0</td>\n",
       "      <td>0.0</td>\n",
       "      <td>0.0</td>\n",
       "      <td>0.0</td>\n",
       "    </tr>\n",
       "    <tr>\n",
       "      <th>2</th>\n",
       "      <td>0.0</td>\n",
       "      <td>0.0</td>\n",
       "      <td>0.0</td>\n",
       "      <td>0.0</td>\n",
       "      <td>1.0</td>\n",
       "    </tr>\n",
       "    <tr>\n",
       "      <th>3</th>\n",
       "      <td>0.0</td>\n",
       "      <td>0.0</td>\n",
       "      <td>0.0</td>\n",
       "      <td>1.0</td>\n",
       "      <td>0.0</td>\n",
       "    </tr>\n",
       "    <tr>\n",
       "      <th>4</th>\n",
       "      <td>0.0</td>\n",
       "      <td>0.0</td>\n",
       "      <td>0.0</td>\n",
       "      <td>0.0</td>\n",
       "      <td>0.0</td>\n",
       "    </tr>\n",
       "    <tr>\n",
       "      <th>...</th>\n",
       "      <td>...</td>\n",
       "      <td>...</td>\n",
       "      <td>...</td>\n",
       "      <td>...</td>\n",
       "      <td>...</td>\n",
       "    </tr>\n",
       "    <tr>\n",
       "      <th>1046</th>\n",
       "      <td>0.0</td>\n",
       "      <td>0.0</td>\n",
       "      <td>0.0</td>\n",
       "      <td>0.0</td>\n",
       "      <td>0.0</td>\n",
       "    </tr>\n",
       "    <tr>\n",
       "      <th>1047</th>\n",
       "      <td>0.0</td>\n",
       "      <td>0.0</td>\n",
       "      <td>0.0</td>\n",
       "      <td>1.0</td>\n",
       "      <td>0.0</td>\n",
       "    </tr>\n",
       "    <tr>\n",
       "      <th>1048</th>\n",
       "      <td>0.0</td>\n",
       "      <td>0.0</td>\n",
       "      <td>0.0</td>\n",
       "      <td>0.0</td>\n",
       "      <td>0.0</td>\n",
       "    </tr>\n",
       "    <tr>\n",
       "      <th>1049</th>\n",
       "      <td>1.0</td>\n",
       "      <td>0.0</td>\n",
       "      <td>0.0</td>\n",
       "      <td>0.0</td>\n",
       "      <td>0.0</td>\n",
       "    </tr>\n",
       "    <tr>\n",
       "      <th>1050</th>\n",
       "      <td>0.0</td>\n",
       "      <td>0.0</td>\n",
       "      <td>0.0</td>\n",
       "      <td>0.0</td>\n",
       "      <td>0.0</td>\n",
       "    </tr>\n",
       "  </tbody>\n",
       "</table>\n",
       "<p>1051 rows × 5 columns</p>\n",
       "</div>"
      ],
      "text/plain": [
       "      Q_FHX_HTN  Q_FHX_STK  Q_FHX_HTDZ  Q_FHX_DM  Q_FHX_CC\n",
       "0           0.0        0.0         0.0       0.0       0.0\n",
       "1           0.0        0.0         0.0       0.0       0.0\n",
       "2           0.0        0.0         0.0       0.0       1.0\n",
       "3           0.0        0.0         0.0       1.0       0.0\n",
       "4           0.0        0.0         0.0       0.0       0.0\n",
       "...         ...        ...         ...       ...       ...\n",
       "1046        0.0        0.0         0.0       0.0       0.0\n",
       "1047        0.0        0.0         0.0       1.0       0.0\n",
       "1048        0.0        0.0         0.0       0.0       0.0\n",
       "1049        1.0        0.0         0.0       0.0       0.0\n",
       "1050        0.0        0.0         0.0       0.0       0.0\n",
       "\n",
       "[1051 rows x 5 columns]"
      ]
     },
     "execution_count": 168,
     "metadata": {},
     "output_type": "execute_result"
    }
   ],
   "source": [
    "merge_data[[\"Q_FHX_HTN\",\"Q_FHX_STK\",\"Q_FHX_HTDZ\",\"Q_FHX_DM\",\"Q_FHX_CC\"]]"
   ]
  },
  {
   "cell_type": "code",
   "execution_count": 169,
   "metadata": {
    "collapsed": false,
    "pycharm": {
     "name": "#%%\n"
    }
   },
   "outputs": [],
   "source": [
    "merge_data [[\"Q_FHX_HTN\",\"Q_FHX_STK\",\"Q_FHX_HTDZ\",\"Q_FHX_DM\",\"Q_FHX_CC\"]]=merge_data [[\"Q_FHX_HTN\",\"Q_FHX_STK\",\"Q_FHX_HTDZ\",\"Q_FHX_DM\",\"Q_FHX_CC\"]].astype(\"int\")"
   ]
  },
  {
   "cell_type": "code",
   "execution_count": 170,
   "metadata": {
    "collapsed": false,
    "pycharm": {
     "name": "#%%\n"
    }
   },
   "outputs": [
    {
     "data": {
      "text/html": [
       "<div>\n",
       "<style scoped>\n",
       "    .dataframe tbody tr th:only-of-type {\n",
       "        vertical-align: middle;\n",
       "    }\n",
       "\n",
       "    .dataframe tbody tr th {\n",
       "        vertical-align: top;\n",
       "    }\n",
       "\n",
       "    .dataframe thead th {\n",
       "        text-align: right;\n",
       "    }\n",
       "</style>\n",
       "<table border=\"1\" class=\"dataframe\">\n",
       "  <thead>\n",
       "    <tr style=\"text-align: right;\">\n",
       "      <th></th>\n",
       "      <th>Q_FHX_HTN</th>\n",
       "      <th>Q_FHX_STK</th>\n",
       "      <th>Q_FHX_HTDZ</th>\n",
       "      <th>Q_FHX_DM</th>\n",
       "      <th>Q_FHX_CC</th>\n",
       "    </tr>\n",
       "  </thead>\n",
       "  <tbody>\n",
       "    <tr>\n",
       "      <th>0</th>\n",
       "      <td>0</td>\n",
       "      <td>0</td>\n",
       "      <td>0</td>\n",
       "      <td>0</td>\n",
       "      <td>0</td>\n",
       "    </tr>\n",
       "    <tr>\n",
       "      <th>1</th>\n",
       "      <td>0</td>\n",
       "      <td>0</td>\n",
       "      <td>0</td>\n",
       "      <td>0</td>\n",
       "      <td>0</td>\n",
       "    </tr>\n",
       "    <tr>\n",
       "      <th>2</th>\n",
       "      <td>0</td>\n",
       "      <td>0</td>\n",
       "      <td>0</td>\n",
       "      <td>0</td>\n",
       "      <td>1</td>\n",
       "    </tr>\n",
       "    <tr>\n",
       "      <th>3</th>\n",
       "      <td>0</td>\n",
       "      <td>0</td>\n",
       "      <td>0</td>\n",
       "      <td>1</td>\n",
       "      <td>0</td>\n",
       "    </tr>\n",
       "    <tr>\n",
       "      <th>4</th>\n",
       "      <td>0</td>\n",
       "      <td>0</td>\n",
       "      <td>0</td>\n",
       "      <td>0</td>\n",
       "      <td>0</td>\n",
       "    </tr>\n",
       "    <tr>\n",
       "      <th>...</th>\n",
       "      <td>...</td>\n",
       "      <td>...</td>\n",
       "      <td>...</td>\n",
       "      <td>...</td>\n",
       "      <td>...</td>\n",
       "    </tr>\n",
       "    <tr>\n",
       "      <th>1046</th>\n",
       "      <td>0</td>\n",
       "      <td>0</td>\n",
       "      <td>0</td>\n",
       "      <td>0</td>\n",
       "      <td>0</td>\n",
       "    </tr>\n",
       "    <tr>\n",
       "      <th>1047</th>\n",
       "      <td>0</td>\n",
       "      <td>0</td>\n",
       "      <td>0</td>\n",
       "      <td>1</td>\n",
       "      <td>0</td>\n",
       "    </tr>\n",
       "    <tr>\n",
       "      <th>1048</th>\n",
       "      <td>0</td>\n",
       "      <td>0</td>\n",
       "      <td>0</td>\n",
       "      <td>0</td>\n",
       "      <td>0</td>\n",
       "    </tr>\n",
       "    <tr>\n",
       "      <th>1049</th>\n",
       "      <td>1</td>\n",
       "      <td>0</td>\n",
       "      <td>0</td>\n",
       "      <td>0</td>\n",
       "      <td>0</td>\n",
       "    </tr>\n",
       "    <tr>\n",
       "      <th>1050</th>\n",
       "      <td>0</td>\n",
       "      <td>0</td>\n",
       "      <td>0</td>\n",
       "      <td>0</td>\n",
       "      <td>0</td>\n",
       "    </tr>\n",
       "  </tbody>\n",
       "</table>\n",
       "<p>1051 rows × 5 columns</p>\n",
       "</div>"
      ],
      "text/plain": [
       "      Q_FHX_HTN  Q_FHX_STK  Q_FHX_HTDZ  Q_FHX_DM  Q_FHX_CC\n",
       "0             0          0           0         0         0\n",
       "1             0          0           0         0         0\n",
       "2             0          0           0         0         1\n",
       "3             0          0           0         1         0\n",
       "4             0          0           0         0         0\n",
       "...         ...        ...         ...       ...       ...\n",
       "1046          0          0           0         0         0\n",
       "1047          0          0           0         1         0\n",
       "1048          0          0           0         0         0\n",
       "1049          1          0           0         0         0\n",
       "1050          0          0           0         0         0\n",
       "\n",
       "[1051 rows x 5 columns]"
      ]
     },
     "execution_count": 170,
     "metadata": {},
     "output_type": "execute_result"
    }
   ],
   "source": [
    "merge_data[[\"Q_FHX_HTN\",\"Q_FHX_STK\",\"Q_FHX_HTDZ\",\"Q_FHX_DM\",\"Q_FHX_CC\"]]"
   ]
  },
  {
   "cell_type": "markdown",
   "metadata": {
    "collapsed": false,
    "pycharm": {
     "name": "#%% md\n"
    }
   },
   "source": [
    "- 필요없는 열 다시 제거(전문가 자문으로 생애 질병 확률에는 운동, 술, 담배, 가족력, BMI을 확인하는 것이 중요)"
   ]
  },
  {
   "cell_type": "code",
   "execution_count": 171,
   "metadata": {
    "collapsed": false,
    "pycharm": {
     "name": "#%%\n"
    }
   },
   "outputs": [
    {
     "data": {
      "text/plain": [
       "Index(['EXMD_BZ_YYYY', 'RN_INDI', 'HME_YYYYMM', 'Q_FHX_HTN', 'Q_FHX_STK',\n",
       "       'Q_FHX_HTDZ', 'Q_FHX_DM', 'Q_FHX_CC', 'Q_DRK_FRQ_V0108',\n",
       "       'Q_DRK_AMT_V0108', 'Q_SMK_YN', 'Q_SMK_NOW_AMT_V0108', 'Q_SMK_DRT',\n",
       "       'Q_SMK_STRT_YR', 'Q_SMK_STOP_YR', 'Q_PA_FRQ', 'G1E_BMI', 'G1E_WSTC',\n",
       "       'G1E_BP_SYS', 'G1E_BP_DIA', 'G1E_URN_PROT', 'G1E_HGB', 'G1E_FBS',\n",
       "       'G1E_TOT_CHOL', 'G1E_SGOT', 'G1E_SGPT', 'Q_PHX_DX_STK', 'Q_PHX_DX_HTDZ',\n",
       "       'Q_PHX_DX_HTN', 'Q_PHX_DX_DM', 'Q_PHX_DX_PTB', 'Q_PHX_DX_ETC'],\n",
       "      dtype='object')"
      ]
     },
     "execution_count": 171,
     "metadata": {},
     "output_type": "execute_result"
    }
   ],
   "source": [
    "merge_data.columns"
   ]
  },
  {
   "cell_type": "code",
   "execution_count": 172,
   "metadata": {
    "collapsed": false,
    "pycharm": {
     "name": "#%%\n"
    }
   },
   "outputs": [],
   "source": [
    "merge_data.drop([\"Q_SMK_STRT_YR\",\"Q_SMK_STOP_YR\",\"Q_SMK_DRT\",\"G1E_WSTC\"],axis=1,inplace=True)\n",
    "merge_data.drop([\"G1E_URN_PROT\",\"G1E_HGB\",\"G1E_FBS\",\"G1E_TOT_CHOL\",\"G1E_SGOT\",\"G1E_SGPT\"],axis=1,inplace=True)\n",
    "merge_data.drop(['G1E_BP_SYS', 'G1E_BP_DIA',],axis=1,inplace=True)"
   ]
  },
  {
   "cell_type": "code",
   "execution_count": 173,
   "metadata": {
    "collapsed": false,
    "pycharm": {
     "name": "#%%\n"
    }
   },
   "outputs": [
    {
     "data": {
      "text/plain": [
       "Index(['EXMD_BZ_YYYY', 'RN_INDI', 'HME_YYYYMM', 'Q_FHX_HTN', 'Q_FHX_STK',\n",
       "       'Q_FHX_HTDZ', 'Q_FHX_DM', 'Q_FHX_CC', 'Q_DRK_FRQ_V0108',\n",
       "       'Q_DRK_AMT_V0108', 'Q_SMK_YN', 'Q_SMK_NOW_AMT_V0108', 'Q_PA_FRQ',\n",
       "       'G1E_BMI', 'Q_PHX_DX_STK', 'Q_PHX_DX_HTDZ', 'Q_PHX_DX_HTN',\n",
       "       'Q_PHX_DX_DM', 'Q_PHX_DX_PTB', 'Q_PHX_DX_ETC'],\n",
       "      dtype='object')"
      ]
     },
     "execution_count": 173,
     "metadata": {},
     "output_type": "execute_result"
    }
   ],
   "source": [
    "merge_data.columns"
   ]
  },
  {
   "cell_type": "code",
   "execution_count": 174,
   "metadata": {
    "collapsed": false,
    "pycharm": {
     "name": "#%%\n"
    }
   },
   "outputs": [
    {
     "data": {
      "text/html": [
       "<div>\n",
       "<style scoped>\n",
       "    .dataframe tbody tr th:only-of-type {\n",
       "        vertical-align: middle;\n",
       "    }\n",
       "\n",
       "    .dataframe tbody tr th {\n",
       "        vertical-align: top;\n",
       "    }\n",
       "\n",
       "    .dataframe thead th {\n",
       "        text-align: right;\n",
       "    }\n",
       "</style>\n",
       "<table border=\"1\" class=\"dataframe\">\n",
       "  <thead>\n",
       "    <tr style=\"text-align: right;\">\n",
       "      <th></th>\n",
       "      <th>EXMD_BZ_YYYY</th>\n",
       "      <th>RN_INDI</th>\n",
       "      <th>HME_YYYYMM</th>\n",
       "      <th>Q_FHX_HTN</th>\n",
       "      <th>Q_FHX_STK</th>\n",
       "      <th>Q_FHX_HTDZ</th>\n",
       "      <th>Q_FHX_DM</th>\n",
       "      <th>Q_FHX_CC</th>\n",
       "      <th>Q_DRK_FRQ_V0108</th>\n",
       "      <th>Q_DRK_AMT_V0108</th>\n",
       "      <th>Q_SMK_YN</th>\n",
       "      <th>Q_SMK_NOW_AMT_V0108</th>\n",
       "      <th>Q_PA_FRQ</th>\n",
       "      <th>G1E_BMI</th>\n",
       "      <th>Q_PHX_DX_STK</th>\n",
       "      <th>Q_PHX_DX_HTDZ</th>\n",
       "      <th>Q_PHX_DX_HTN</th>\n",
       "      <th>Q_PHX_DX_DM</th>\n",
       "      <th>Q_PHX_DX_PTB</th>\n",
       "      <th>Q_PHX_DX_ETC</th>\n",
       "    </tr>\n",
       "  </thead>\n",
       "  <tbody>\n",
       "    <tr>\n",
       "      <th>0</th>\n",
       "      <td>2002</td>\n",
       "      <td>572493</td>\n",
       "      <td>200211</td>\n",
       "      <td>0</td>\n",
       "      <td>0</td>\n",
       "      <td>0</td>\n",
       "      <td>0</td>\n",
       "      <td>0</td>\n",
       "      <td>1.0</td>\n",
       "      <td>NaN</td>\n",
       "      <td>1.0</td>\n",
       "      <td>NaN</td>\n",
       "      <td>1.0</td>\n",
       "      <td>23.2</td>\n",
       "      <td>0</td>\n",
       "      <td>0</td>\n",
       "      <td>0</td>\n",
       "      <td>0</td>\n",
       "      <td>0</td>\n",
       "      <td>0</td>\n",
       "    </tr>\n",
       "    <tr>\n",
       "      <th>1</th>\n",
       "      <td>2002</td>\n",
       "      <td>874800</td>\n",
       "      <td>200207</td>\n",
       "      <td>0</td>\n",
       "      <td>0</td>\n",
       "      <td>0</td>\n",
       "      <td>0</td>\n",
       "      <td>0</td>\n",
       "      <td>1.0</td>\n",
       "      <td>NaN</td>\n",
       "      <td>1.0</td>\n",
       "      <td>NaN</td>\n",
       "      <td>2.0</td>\n",
       "      <td>29.4</td>\n",
       "      <td>0</td>\n",
       "      <td>0</td>\n",
       "      <td>0</td>\n",
       "      <td>0</td>\n",
       "      <td>0</td>\n",
       "      <td>0</td>\n",
       "    </tr>\n",
       "    <tr>\n",
       "      <th>2</th>\n",
       "      <td>2002</td>\n",
       "      <td>88450</td>\n",
       "      <td>200207</td>\n",
       "      <td>0</td>\n",
       "      <td>0</td>\n",
       "      <td>0</td>\n",
       "      <td>0</td>\n",
       "      <td>1</td>\n",
       "      <td>1.0</td>\n",
       "      <td>NaN</td>\n",
       "      <td>1.0</td>\n",
       "      <td>NaN</td>\n",
       "      <td>2.0</td>\n",
       "      <td>23.4</td>\n",
       "      <td>0</td>\n",
       "      <td>0</td>\n",
       "      <td>0</td>\n",
       "      <td>0</td>\n",
       "      <td>0</td>\n",
       "      <td>0</td>\n",
       "    </tr>\n",
       "    <tr>\n",
       "      <th>3</th>\n",
       "      <td>2002</td>\n",
       "      <td>56993</td>\n",
       "      <td>200212</td>\n",
       "      <td>0</td>\n",
       "      <td>0</td>\n",
       "      <td>0</td>\n",
       "      <td>1</td>\n",
       "      <td>0</td>\n",
       "      <td>2.0</td>\n",
       "      <td>2.0</td>\n",
       "      <td>1.0</td>\n",
       "      <td>NaN</td>\n",
       "      <td>1.0</td>\n",
       "      <td>25.6</td>\n",
       "      <td>0</td>\n",
       "      <td>0</td>\n",
       "      <td>0</td>\n",
       "      <td>0</td>\n",
       "      <td>0</td>\n",
       "      <td>0</td>\n",
       "    </tr>\n",
       "    <tr>\n",
       "      <th>4</th>\n",
       "      <td>2002</td>\n",
       "      <td>591264</td>\n",
       "      <td>200210</td>\n",
       "      <td>0</td>\n",
       "      <td>0</td>\n",
       "      <td>0</td>\n",
       "      <td>0</td>\n",
       "      <td>0</td>\n",
       "      <td>2.0</td>\n",
       "      <td>2.0</td>\n",
       "      <td>3.0</td>\n",
       "      <td>2.0</td>\n",
       "      <td>1.0</td>\n",
       "      <td>29.7</td>\n",
       "      <td>0</td>\n",
       "      <td>0</td>\n",
       "      <td>0</td>\n",
       "      <td>0</td>\n",
       "      <td>0</td>\n",
       "      <td>0</td>\n",
       "    </tr>\n",
       "    <tr>\n",
       "      <th>...</th>\n",
       "      <td>...</td>\n",
       "      <td>...</td>\n",
       "      <td>...</td>\n",
       "      <td>...</td>\n",
       "      <td>...</td>\n",
       "      <td>...</td>\n",
       "      <td>...</td>\n",
       "      <td>...</td>\n",
       "      <td>...</td>\n",
       "      <td>...</td>\n",
       "      <td>...</td>\n",
       "      <td>...</td>\n",
       "      <td>...</td>\n",
       "      <td>...</td>\n",
       "      <td>...</td>\n",
       "      <td>...</td>\n",
       "      <td>...</td>\n",
       "      <td>...</td>\n",
       "      <td>...</td>\n",
       "      <td>...</td>\n",
       "    </tr>\n",
       "    <tr>\n",
       "      <th>1046</th>\n",
       "      <td>2008</td>\n",
       "      <td>218649</td>\n",
       "      <td>200806</td>\n",
       "      <td>0</td>\n",
       "      <td>0</td>\n",
       "      <td>0</td>\n",
       "      <td>0</td>\n",
       "      <td>0</td>\n",
       "      <td>3.0</td>\n",
       "      <td>4.0</td>\n",
       "      <td>2.0</td>\n",
       "      <td>NaN</td>\n",
       "      <td>1.0</td>\n",
       "      <td>24.3</td>\n",
       "      <td>0</td>\n",
       "      <td>0</td>\n",
       "      <td>0</td>\n",
       "      <td>0</td>\n",
       "      <td>1</td>\n",
       "      <td>0</td>\n",
       "    </tr>\n",
       "    <tr>\n",
       "      <th>1047</th>\n",
       "      <td>2008</td>\n",
       "      <td>39217</td>\n",
       "      <td>200812</td>\n",
       "      <td>0</td>\n",
       "      <td>0</td>\n",
       "      <td>0</td>\n",
       "      <td>1</td>\n",
       "      <td>0</td>\n",
       "      <td>3.0</td>\n",
       "      <td>3.0</td>\n",
       "      <td>2.0</td>\n",
       "      <td>NaN</td>\n",
       "      <td>1.0</td>\n",
       "      <td>29.8</td>\n",
       "      <td>0</td>\n",
       "      <td>0</td>\n",
       "      <td>0</td>\n",
       "      <td>0</td>\n",
       "      <td>0</td>\n",
       "      <td>0</td>\n",
       "    </tr>\n",
       "    <tr>\n",
       "      <th>1048</th>\n",
       "      <td>2008</td>\n",
       "      <td>756414</td>\n",
       "      <td>200812</td>\n",
       "      <td>0</td>\n",
       "      <td>0</td>\n",
       "      <td>0</td>\n",
       "      <td>0</td>\n",
       "      <td>0</td>\n",
       "      <td>1.0</td>\n",
       "      <td>NaN</td>\n",
       "      <td>1.0</td>\n",
       "      <td>NaN</td>\n",
       "      <td>1.0</td>\n",
       "      <td>22.7</td>\n",
       "      <td>0</td>\n",
       "      <td>0</td>\n",
       "      <td>0</td>\n",
       "      <td>0</td>\n",
       "      <td>0</td>\n",
       "      <td>0</td>\n",
       "    </tr>\n",
       "    <tr>\n",
       "      <th>1049</th>\n",
       "      <td>2008</td>\n",
       "      <td>642899</td>\n",
       "      <td>200806</td>\n",
       "      <td>1</td>\n",
       "      <td>0</td>\n",
       "      <td>0</td>\n",
       "      <td>0</td>\n",
       "      <td>0</td>\n",
       "      <td>1.0</td>\n",
       "      <td>NaN</td>\n",
       "      <td>1.0</td>\n",
       "      <td>NaN</td>\n",
       "      <td>5.0</td>\n",
       "      <td>21.6</td>\n",
       "      <td>0</td>\n",
       "      <td>0</td>\n",
       "      <td>0</td>\n",
       "      <td>0</td>\n",
       "      <td>0</td>\n",
       "      <td>0</td>\n",
       "    </tr>\n",
       "    <tr>\n",
       "      <th>1050</th>\n",
       "      <td>2008</td>\n",
       "      <td>238542</td>\n",
       "      <td>200806</td>\n",
       "      <td>0</td>\n",
       "      <td>0</td>\n",
       "      <td>0</td>\n",
       "      <td>0</td>\n",
       "      <td>0</td>\n",
       "      <td>3.0</td>\n",
       "      <td>1.0</td>\n",
       "      <td>1.0</td>\n",
       "      <td>NaN</td>\n",
       "      <td>2.0</td>\n",
       "      <td>31.6</td>\n",
       "      <td>0</td>\n",
       "      <td>0</td>\n",
       "      <td>0</td>\n",
       "      <td>0</td>\n",
       "      <td>0</td>\n",
       "      <td>0</td>\n",
       "    </tr>\n",
       "  </tbody>\n",
       "</table>\n",
       "<p>1051 rows × 20 columns</p>\n",
       "</div>"
      ],
      "text/plain": [
       "     EXMD_BZ_YYYY  RN_INDI HME_YYYYMM  Q_FHX_HTN  Q_FHX_STK  Q_FHX_HTDZ  \\\n",
       "0            2002   572493     200211          0          0           0   \n",
       "1            2002   874800     200207          0          0           0   \n",
       "2            2002    88450     200207          0          0           0   \n",
       "3            2002    56993     200212          0          0           0   \n",
       "4            2002   591264     200210          0          0           0   \n",
       "...           ...      ...        ...        ...        ...         ...   \n",
       "1046         2008   218649     200806          0          0           0   \n",
       "1047         2008    39217     200812          0          0           0   \n",
       "1048         2008   756414     200812          0          0           0   \n",
       "1049         2008   642899     200806          1          0           0   \n",
       "1050         2008   238542     200806          0          0           0   \n",
       "\n",
       "      Q_FHX_DM  Q_FHX_CC  Q_DRK_FRQ_V0108  Q_DRK_AMT_V0108  Q_SMK_YN  \\\n",
       "0            0         0              1.0              NaN       1.0   \n",
       "1            0         0              1.0              NaN       1.0   \n",
       "2            0         1              1.0              NaN       1.0   \n",
       "3            1         0              2.0              2.0       1.0   \n",
       "4            0         0              2.0              2.0       3.0   \n",
       "...        ...       ...              ...              ...       ...   \n",
       "1046         0         0              3.0              4.0       2.0   \n",
       "1047         1         0              3.0              3.0       2.0   \n",
       "1048         0         0              1.0              NaN       1.0   \n",
       "1049         0         0              1.0              NaN       1.0   \n",
       "1050         0         0              3.0              1.0       1.0   \n",
       "\n",
       "      Q_SMK_NOW_AMT_V0108  Q_PA_FRQ  G1E_BMI  Q_PHX_DX_STK  Q_PHX_DX_HTDZ  \\\n",
       "0                     NaN       1.0     23.2             0              0   \n",
       "1                     NaN       2.0     29.4             0              0   \n",
       "2                     NaN       2.0     23.4             0              0   \n",
       "3                     NaN       1.0     25.6             0              0   \n",
       "4                     2.0       1.0     29.7             0              0   \n",
       "...                   ...       ...      ...           ...            ...   \n",
       "1046                  NaN       1.0     24.3             0              0   \n",
       "1047                  NaN       1.0     29.8             0              0   \n",
       "1048                  NaN       1.0     22.7             0              0   \n",
       "1049                  NaN       5.0     21.6             0              0   \n",
       "1050                  NaN       2.0     31.6             0              0   \n",
       "\n",
       "      Q_PHX_DX_HTN  Q_PHX_DX_DM  Q_PHX_DX_PTB  Q_PHX_DX_ETC  \n",
       "0                0            0             0             0  \n",
       "1                0            0             0             0  \n",
       "2                0            0             0             0  \n",
       "3                0            0             0             0  \n",
       "4                0            0             0             0  \n",
       "...            ...          ...           ...           ...  \n",
       "1046             0            0             1             0  \n",
       "1047             0            0             0             0  \n",
       "1048             0            0             0             0  \n",
       "1049             0            0             0             0  \n",
       "1050             0            0             0             0  \n",
       "\n",
       "[1051 rows x 20 columns]"
      ]
     },
     "execution_count": 174,
     "metadata": {},
     "output_type": "execute_result"
    }
   ],
   "source": [
    "merge_data"
   ]
  },
  {
   "cell_type": "code",
   "execution_count": 175,
   "metadata": {
    "collapsed": false,
    "pycharm": {
     "name": "#%%\n"
    }
   },
   "outputs": [
    {
     "data": {
      "text/html": [
       "<div>\n",
       "<style scoped>\n",
       "    .dataframe tbody tr th:only-of-type {\n",
       "        vertical-align: middle;\n",
       "    }\n",
       "\n",
       "    .dataframe tbody tr th {\n",
       "        vertical-align: top;\n",
       "    }\n",
       "\n",
       "    .dataframe thead th {\n",
       "        text-align: right;\n",
       "    }\n",
       "</style>\n",
       "<table border=\"1\" class=\"dataframe\">\n",
       "  <thead>\n",
       "    <tr style=\"text-align: right;\">\n",
       "      <th></th>\n",
       "      <th>Q_DRK_FRQ_V0108</th>\n",
       "      <th>Q_DRK_AMT_V0108</th>\n",
       "      <th>Q_SMK_YN</th>\n",
       "      <th>Q_SMK_NOW_AMT_V0108</th>\n",
       "      <th>Q_PA_FRQ</th>\n",
       "    </tr>\n",
       "  </thead>\n",
       "  <tbody>\n",
       "    <tr>\n",
       "      <th>0</th>\n",
       "      <td>1.0</td>\n",
       "      <td>NaN</td>\n",
       "      <td>1.0</td>\n",
       "      <td>NaN</td>\n",
       "      <td>1.0</td>\n",
       "    </tr>\n",
       "    <tr>\n",
       "      <th>1</th>\n",
       "      <td>1.0</td>\n",
       "      <td>NaN</td>\n",
       "      <td>1.0</td>\n",
       "      <td>NaN</td>\n",
       "      <td>2.0</td>\n",
       "    </tr>\n",
       "    <tr>\n",
       "      <th>2</th>\n",
       "      <td>1.0</td>\n",
       "      <td>NaN</td>\n",
       "      <td>1.0</td>\n",
       "      <td>NaN</td>\n",
       "      <td>2.0</td>\n",
       "    </tr>\n",
       "    <tr>\n",
       "      <th>3</th>\n",
       "      <td>2.0</td>\n",
       "      <td>2.0</td>\n",
       "      <td>1.0</td>\n",
       "      <td>NaN</td>\n",
       "      <td>1.0</td>\n",
       "    </tr>\n",
       "    <tr>\n",
       "      <th>4</th>\n",
       "      <td>2.0</td>\n",
       "      <td>2.0</td>\n",
       "      <td>3.0</td>\n",
       "      <td>2.0</td>\n",
       "      <td>1.0</td>\n",
       "    </tr>\n",
       "    <tr>\n",
       "      <th>...</th>\n",
       "      <td>...</td>\n",
       "      <td>...</td>\n",
       "      <td>...</td>\n",
       "      <td>...</td>\n",
       "      <td>...</td>\n",
       "    </tr>\n",
       "    <tr>\n",
       "      <th>1046</th>\n",
       "      <td>3.0</td>\n",
       "      <td>4.0</td>\n",
       "      <td>2.0</td>\n",
       "      <td>NaN</td>\n",
       "      <td>1.0</td>\n",
       "    </tr>\n",
       "    <tr>\n",
       "      <th>1047</th>\n",
       "      <td>3.0</td>\n",
       "      <td>3.0</td>\n",
       "      <td>2.0</td>\n",
       "      <td>NaN</td>\n",
       "      <td>1.0</td>\n",
       "    </tr>\n",
       "    <tr>\n",
       "      <th>1048</th>\n",
       "      <td>1.0</td>\n",
       "      <td>NaN</td>\n",
       "      <td>1.0</td>\n",
       "      <td>NaN</td>\n",
       "      <td>1.0</td>\n",
       "    </tr>\n",
       "    <tr>\n",
       "      <th>1049</th>\n",
       "      <td>1.0</td>\n",
       "      <td>NaN</td>\n",
       "      <td>1.0</td>\n",
       "      <td>NaN</td>\n",
       "      <td>5.0</td>\n",
       "    </tr>\n",
       "    <tr>\n",
       "      <th>1050</th>\n",
       "      <td>3.0</td>\n",
       "      <td>1.0</td>\n",
       "      <td>1.0</td>\n",
       "      <td>NaN</td>\n",
       "      <td>2.0</td>\n",
       "    </tr>\n",
       "  </tbody>\n",
       "</table>\n",
       "<p>1051 rows × 5 columns</p>\n",
       "</div>"
      ],
      "text/plain": [
       "      Q_DRK_FRQ_V0108  Q_DRK_AMT_V0108  Q_SMK_YN  Q_SMK_NOW_AMT_V0108  \\\n",
       "0                 1.0              NaN       1.0                  NaN   \n",
       "1                 1.0              NaN       1.0                  NaN   \n",
       "2                 1.0              NaN       1.0                  NaN   \n",
       "3                 2.0              2.0       1.0                  NaN   \n",
       "4                 2.0              2.0       3.0                  2.0   \n",
       "...               ...              ...       ...                  ...   \n",
       "1046              3.0              4.0       2.0                  NaN   \n",
       "1047              3.0              3.0       2.0                  NaN   \n",
       "1048              1.0              NaN       1.0                  NaN   \n",
       "1049              1.0              NaN       1.0                  NaN   \n",
       "1050              3.0              1.0       1.0                  NaN   \n",
       "\n",
       "      Q_PA_FRQ  \n",
       "0          1.0  \n",
       "1          2.0  \n",
       "2          2.0  \n",
       "3          1.0  \n",
       "4          1.0  \n",
       "...        ...  \n",
       "1046       1.0  \n",
       "1047       1.0  \n",
       "1048       1.0  \n",
       "1049       5.0  \n",
       "1050       2.0  \n",
       "\n",
       "[1051 rows x 5 columns]"
      ]
     },
     "execution_count": 175,
     "metadata": {},
     "output_type": "execute_result"
    }
   ],
   "source": [
    "merge_data[[\"Q_DRK_FRQ_V0108\",\"Q_DRK_AMT_V0108\",\"Q_SMK_YN\",\"Q_SMK_NOW_AMT_V0108\",\"Q_PA_FRQ\"]]"
   ]
  },
  {
   "cell_type": "markdown",
   "metadata": {
    "collapsed": false,
    "pycharm": {
     "name": "#%% md\n"
    }
   },
   "source": [
    "- null 제거"
   ]
  },
  {
   "cell_type": "code",
   "execution_count": 176,
   "metadata": {
    "collapsed": false,
    "pycharm": {
     "name": "#%%\n"
    }
   },
   "outputs": [
    {
     "data": {
      "text/plain": [
       "EXMD_BZ_YYYY             0\n",
       "RN_INDI                  0\n",
       "HME_YYYYMM               0\n",
       "Q_FHX_HTN                0\n",
       "Q_FHX_STK                0\n",
       "Q_FHX_HTDZ               0\n",
       "Q_FHX_DM                 0\n",
       "Q_FHX_CC                 0\n",
       "Q_DRK_FRQ_V0108         39\n",
       "Q_DRK_AMT_V0108        486\n",
       "Q_SMK_YN                46\n",
       "Q_SMK_NOW_AMT_V0108    791\n",
       "Q_PA_FRQ                38\n",
       "G1E_BMI                  0\n",
       "Q_PHX_DX_STK             0\n",
       "Q_PHX_DX_HTDZ            0\n",
       "Q_PHX_DX_HTN             0\n",
       "Q_PHX_DX_DM              0\n",
       "Q_PHX_DX_PTB             0\n",
       "Q_PHX_DX_ETC             0\n",
       "dtype: int64"
      ]
     },
     "execution_count": 176,
     "metadata": {},
     "output_type": "execute_result"
    }
   ],
   "source": [
    "merge_data.isnull().sum()"
   ]
  },
  {
   "cell_type": "code",
   "execution_count": 177,
   "metadata": {
    "collapsed": false,
    "pycharm": {
     "name": "#%%\n"
    }
   },
   "outputs": [
    {
     "data": {
      "text/plain": [
       "46    NaN\n",
       "68    NaN\n",
       "76    NaN\n",
       "115   NaN\n",
       "124   NaN\n",
       "132   NaN\n",
       "188   NaN\n",
       "191   NaN\n",
       "380   NaN\n",
       "512   NaN\n",
       "542   NaN\n",
       "569   NaN\n",
       "589   NaN\n",
       "594   NaN\n",
       "597   NaN\n",
       "636   NaN\n",
       "695   NaN\n",
       "724   NaN\n",
       "725   NaN\n",
       "726   NaN\n",
       "738   NaN\n",
       "758   NaN\n",
       "759   NaN\n",
       "875   NaN\n",
       "901   NaN\n",
       "905   NaN\n",
       "918   NaN\n",
       "919   NaN\n",
       "921   NaN\n",
       "924   NaN\n",
       "927   NaN\n",
       "931   NaN\n",
       "934   NaN\n",
       "936   NaN\n",
       "938   NaN\n",
       "958   NaN\n",
       "962   NaN\n",
       "963   NaN\n",
       "966   NaN\n",
       "Name: Q_DRK_FRQ_V0108, dtype: float64"
      ]
     },
     "execution_count": 177,
     "metadata": {},
     "output_type": "execute_result"
    }
   ],
   "source": [
    "merge_data[\"Q_DRK_FRQ_V0108\"][merge_data[\"Q_DRK_FRQ_V0108\"].isnull()]\n"
   ]
  },
  {
   "cell_type": "code",
   "execution_count": 178,
   "metadata": {
    "collapsed": false,
    "pycharm": {
     "name": "#%%\n"
    }
   },
   "outputs": [],
   "source": [
    "merge_data[\"Q_DRK_FRQ_V0108\"]=merge_data[\"Q_DRK_FRQ_V0108\"].fillna(int(mode(merge_data[\"Q_DRK_FRQ_V0108\"],nan_policy=\"omit\")[0]))"
   ]
  },
  {
   "cell_type": "code",
   "execution_count": null,
   "metadata": {
    "collapsed": false,
    "pycharm": {
     "name": "#%%\n"
    }
   },
   "outputs": [],
   "source": [
    "merge_data[\"Q_DRK_AMT_V0108\"][merge_data[\"Q_DRK_FRQ_V0108\"]==1] = merge_data[\"Q_DRK_AMT_V0108\"][merge_data[\"Q_DRK_FRQ_V0108\"]==1].fillna(int(mode(merge_data[\"Q_DRK_AMT_V0108\"][merge_data[\"Q_DRK_FRQ_V0108\"]==1],nan_policy=\"omit\")[0]))\n",
    "merge_data[\"Q_DRK_AMT_V0108\"][merge_data[\"Q_DRK_FRQ_V0108\"]==2] = merge_data[\"Q_DRK_AMT_V0108\"][merge_data[\"Q_DRK_FRQ_V0108\"]==2].fillna(int(mode(merge_data[\"Q_DRK_AMT_V0108\"][merge_data[\"Q_DRK_FRQ_V0108\"]==2],nan_policy=\"omit\")[0]))\n",
    "merge_data[\"Q_DRK_AMT_V0108\"][merge_data[\"Q_DRK_FRQ_V0108\"]==3] = merge_data[\"Q_DRK_AMT_V0108\"][merge_data[\"Q_DRK_FRQ_V0108\"]==3].fillna(int(mode(merge_data[\"Q_DRK_AMT_V0108\"][merge_data[\"Q_DRK_FRQ_V0108\"]==3],nan_policy=\"omit\")[0]))\n",
    "merge_data[\"Q_DRK_AMT_V0108\"][merge_data[\"Q_DRK_FRQ_V0108\"]==4] = merge_data[\"Q_DRK_AMT_V0108\"][merge_data[\"Q_DRK_FRQ_V0108\"]==4].fillna(int(mode(merge_data[\"Q_DRK_AMT_V0108\"][merge_data[\"Q_DRK_FRQ_V0108\"]==4],nan_policy=\"omit\")[0]))\n",
    "merge_data[\"Q_DRK_AMT_V0108\"][merge_data[\"Q_DRK_FRQ_V0108\"]==5] = merge_data[\"Q_DRK_AMT_V0108\"][merge_data[\"Q_DRK_FRQ_V0108\"]==5].fillna(int(mode(merge_data[\"Q_DRK_AMT_V0108\"][merge_data[\"Q_DRK_FRQ_V0108\"]==5],nan_policy=\"omit\")[0]))\n"
   ]
  },
  {
   "cell_type": "code",
   "execution_count": 180,
   "metadata": {
    "collapsed": false,
    "pycharm": {
     "name": "#%%\n"
    }
   },
   "outputs": [
    {
     "data": {
      "text/plain": [
       "ModeResult(mode=array([1.]), count=array([9]))"
      ]
     },
     "execution_count": 180,
     "metadata": {},
     "output_type": "execute_result"
    }
   ],
   "source": [
    "mode(merge_data[\"Q_DRK_AMT_V0108\"][merge_data[\"Q_DRK_FRQ_V0108\"]==5],nan_policy=\"omit\")"
   ]
  },
  {
   "cell_type": "code",
   "execution_count": null,
   "metadata": {
    "collapsed": false,
    "pycharm": {
     "name": "#%%\n"
    }
   },
   "outputs": [],
   "source": [
    "merge_data[\"Q_DRK_AMT_V0108\"][merge_data[\"Q_DRK_AMT_V0108\"]==0]=1"
   ]
  },
  {
   "cell_type": "code",
   "execution_count": 182,
   "metadata": {
    "collapsed": false,
    "pycharm": {
     "name": "#%%\n"
    }
   },
   "outputs": [
    {
     "data": {
      "text/plain": [
       "1.0"
      ]
     },
     "execution_count": 182,
     "metadata": {},
     "output_type": "execute_result"
    }
   ],
   "source": [
    "merge_data[\"Q_DRK_FRQ_V0108\"][46]"
   ]
  },
  {
   "cell_type": "code",
   "execution_count": 183,
   "metadata": {
    "collapsed": false,
    "pycharm": {
     "name": "#%%\n"
    }
   },
   "outputs": [
    {
     "data": {
      "text/plain": [
       "Series([], Name: Q_DRK_AMT_V0108, dtype: float64)"
      ]
     },
     "execution_count": 183,
     "metadata": {},
     "output_type": "execute_result"
    }
   ],
   "source": [
    "merge_data[\"Q_DRK_AMT_V0108\"][merge_data[\"Q_DRK_AMT_V0108\"].isnull()]"
   ]
  },
  {
   "cell_type": "code",
   "execution_count": 184,
   "metadata": {
    "collapsed": false,
    "pycharm": {
     "name": "#%%\n"
    }
   },
   "outputs": [],
   "source": [
    "merge_data[\"Q_SMK_YN\"]=merge_data[\"Q_SMK_YN\"].fillna(int(mode(merge_data[\"Q_SMK_YN\"],nan_policy=\"omit\")[0]))"
   ]
  },
  {
   "cell_type": "code",
   "execution_count": null,
   "metadata": {
    "collapsed": false,
    "pycharm": {
     "name": "#%%\n"
    }
   },
   "outputs": [],
   "source": [
    "merge_data[\"Q_SMK_NOW_AMT_V0108\"][merge_data[\"Q_SMK_YN\"]==1]=merge_data[\"Q_SMK_NOW_AMT_V0108\"][merge_data[\"Q_SMK_YN\"]==1].fillna(int(mode(merge_data[\"Q_SMK_NOW_AMT_V0108\"][merge_data[\"Q_SMK_YN\"]==1],nan_policy=\"omit\")[0]))\n",
    "merge_data[\"Q_SMK_NOW_AMT_V0108\"][merge_data[\"Q_SMK_YN\"]==2]=merge_data[\"Q_SMK_NOW_AMT_V0108\"][merge_data[\"Q_SMK_YN\"]==2].fillna(int(mode(merge_data[\"Q_SMK_NOW_AMT_V0108\"][merge_data[\"Q_SMK_YN\"]==2],nan_policy=\"omit\")[0]))\n",
    "merge_data[\"Q_SMK_NOW_AMT_V0108\"][merge_data[\"Q_SMK_YN\"]==3]=merge_data[\"Q_SMK_NOW_AMT_V0108\"][merge_data[\"Q_SMK_YN\"]==3].fillna(int(mode(merge_data[\"Q_SMK_NOW_AMT_V0108\"][merge_data[\"Q_SMK_YN\"]==3],nan_policy=\"omit\")[0]))"
   ]
  },
  {
   "cell_type": "code",
   "execution_count": null,
   "metadata": {
    "collapsed": false,
    "pycharm": {
     "name": "#%%\n"
    }
   },
   "outputs": [],
   "source": [
    "merge_data[\"Q_SMK_NOW_AMT_V0108\"][merge_data[\"Q_SMK_YN\"]==1]=0\n",
    "merge_data[\"Q_SMK_NOW_AMT_V0108\"][merge_data[\"Q_SMK_YN\"]==2]=0"
   ]
  },
  {
   "cell_type": "code",
   "execution_count": 187,
   "metadata": {
    "collapsed": false,
    "pycharm": {
     "name": "#%%\n"
    }
   },
   "outputs": [],
   "source": [
    "merge_data[\"Q_PA_FRQ\"]=merge_data[\"Q_PA_FRQ\"].fillna(int(mode(merge_data[\"Q_PA_FRQ\"],nan_policy=\"omit\")[0]))"
   ]
  },
  {
   "cell_type": "code",
   "execution_count": 188,
   "metadata": {
    "collapsed": false,
    "pycharm": {
     "name": "#%%\n"
    }
   },
   "outputs": [
    {
     "data": {
      "text/plain": [
       "EXMD_BZ_YYYY           0\n",
       "RN_INDI                0\n",
       "HME_YYYYMM             0\n",
       "Q_FHX_HTN              0\n",
       "Q_FHX_STK              0\n",
       "Q_FHX_HTDZ             0\n",
       "Q_FHX_DM               0\n",
       "Q_FHX_CC               0\n",
       "Q_DRK_FRQ_V0108        0\n",
       "Q_DRK_AMT_V0108        0\n",
       "Q_SMK_YN               0\n",
       "Q_SMK_NOW_AMT_V0108    0\n",
       "Q_PA_FRQ               0\n",
       "G1E_BMI                0\n",
       "Q_PHX_DX_STK           0\n",
       "Q_PHX_DX_HTDZ          0\n",
       "Q_PHX_DX_HTN           0\n",
       "Q_PHX_DX_DM            0\n",
       "Q_PHX_DX_PTB           0\n",
       "Q_PHX_DX_ETC           0\n",
       "dtype: int64"
      ]
     },
     "execution_count": 188,
     "metadata": {},
     "output_type": "execute_result"
    }
   ],
   "source": [
    "merge_data.isnull().sum()"
   ]
  },
  {
   "cell_type": "code",
   "execution_count": 189,
   "metadata": {
    "collapsed": false,
    "pycharm": {
     "name": "#%%\n"
    }
   },
   "outputs": [
    {
     "data": {
      "text/html": [
       "<div>\n",
       "<style scoped>\n",
       "    .dataframe tbody tr th:only-of-type {\n",
       "        vertical-align: middle;\n",
       "    }\n",
       "\n",
       "    .dataframe tbody tr th {\n",
       "        vertical-align: top;\n",
       "    }\n",
       "\n",
       "    .dataframe thead th {\n",
       "        text-align: right;\n",
       "    }\n",
       "</style>\n",
       "<table border=\"1\" class=\"dataframe\">\n",
       "  <thead>\n",
       "    <tr style=\"text-align: right;\">\n",
       "      <th></th>\n",
       "      <th>Q_SMK_YN</th>\n",
       "      <th>Q_SMK_NOW_AMT_V0108</th>\n",
       "      <th>Q_PA_FRQ</th>\n",
       "      <th>Q_DRK_AMT_V0108</th>\n",
       "      <th>Q_DRK_FRQ_V0108</th>\n",
       "    </tr>\n",
       "  </thead>\n",
       "  <tbody>\n",
       "    <tr>\n",
       "      <th>0</th>\n",
       "      <td>1.0</td>\n",
       "      <td>0.0</td>\n",
       "      <td>1.0</td>\n",
       "      <td>1.0</td>\n",
       "      <td>1.0</td>\n",
       "    </tr>\n",
       "    <tr>\n",
       "      <th>1</th>\n",
       "      <td>1.0</td>\n",
       "      <td>0.0</td>\n",
       "      <td>2.0</td>\n",
       "      <td>1.0</td>\n",
       "      <td>1.0</td>\n",
       "    </tr>\n",
       "    <tr>\n",
       "      <th>2</th>\n",
       "      <td>1.0</td>\n",
       "      <td>0.0</td>\n",
       "      <td>2.0</td>\n",
       "      <td>1.0</td>\n",
       "      <td>1.0</td>\n",
       "    </tr>\n",
       "    <tr>\n",
       "      <th>3</th>\n",
       "      <td>1.0</td>\n",
       "      <td>0.0</td>\n",
       "      <td>1.0</td>\n",
       "      <td>2.0</td>\n",
       "      <td>2.0</td>\n",
       "    </tr>\n",
       "    <tr>\n",
       "      <th>4</th>\n",
       "      <td>3.0</td>\n",
       "      <td>2.0</td>\n",
       "      <td>1.0</td>\n",
       "      <td>2.0</td>\n",
       "      <td>2.0</td>\n",
       "    </tr>\n",
       "    <tr>\n",
       "      <th>...</th>\n",
       "      <td>...</td>\n",
       "      <td>...</td>\n",
       "      <td>...</td>\n",
       "      <td>...</td>\n",
       "      <td>...</td>\n",
       "    </tr>\n",
       "    <tr>\n",
       "      <th>1046</th>\n",
       "      <td>2.0</td>\n",
       "      <td>0.0</td>\n",
       "      <td>1.0</td>\n",
       "      <td>4.0</td>\n",
       "      <td>3.0</td>\n",
       "    </tr>\n",
       "    <tr>\n",
       "      <th>1047</th>\n",
       "      <td>2.0</td>\n",
       "      <td>0.0</td>\n",
       "      <td>1.0</td>\n",
       "      <td>3.0</td>\n",
       "      <td>3.0</td>\n",
       "    </tr>\n",
       "    <tr>\n",
       "      <th>1048</th>\n",
       "      <td>1.0</td>\n",
       "      <td>0.0</td>\n",
       "      <td>1.0</td>\n",
       "      <td>1.0</td>\n",
       "      <td>1.0</td>\n",
       "    </tr>\n",
       "    <tr>\n",
       "      <th>1049</th>\n",
       "      <td>1.0</td>\n",
       "      <td>0.0</td>\n",
       "      <td>5.0</td>\n",
       "      <td>1.0</td>\n",
       "      <td>1.0</td>\n",
       "    </tr>\n",
       "    <tr>\n",
       "      <th>1050</th>\n",
       "      <td>1.0</td>\n",
       "      <td>0.0</td>\n",
       "      <td>2.0</td>\n",
       "      <td>1.0</td>\n",
       "      <td>3.0</td>\n",
       "    </tr>\n",
       "  </tbody>\n",
       "</table>\n",
       "<p>1051 rows × 5 columns</p>\n",
       "</div>"
      ],
      "text/plain": [
       "      Q_SMK_YN  Q_SMK_NOW_AMT_V0108  Q_PA_FRQ  Q_DRK_AMT_V0108  \\\n",
       "0          1.0                  0.0       1.0              1.0   \n",
       "1          1.0                  0.0       2.0              1.0   \n",
       "2          1.0                  0.0       2.0              1.0   \n",
       "3          1.0                  0.0       1.0              2.0   \n",
       "4          3.0                  2.0       1.0              2.0   \n",
       "...        ...                  ...       ...              ...   \n",
       "1046       2.0                  0.0       1.0              4.0   \n",
       "1047       2.0                  0.0       1.0              3.0   \n",
       "1048       1.0                  0.0       1.0              1.0   \n",
       "1049       1.0                  0.0       5.0              1.0   \n",
       "1050       1.0                  0.0       2.0              1.0   \n",
       "\n",
       "      Q_DRK_FRQ_V0108  \n",
       "0                 1.0  \n",
       "1                 1.0  \n",
       "2                 1.0  \n",
       "3                 2.0  \n",
       "4                 2.0  \n",
       "...               ...  \n",
       "1046              3.0  \n",
       "1047              3.0  \n",
       "1048              1.0  \n",
       "1049              1.0  \n",
       "1050              3.0  \n",
       "\n",
       "[1051 rows x 5 columns]"
      ]
     },
     "execution_count": 189,
     "metadata": {},
     "output_type": "execute_result"
    }
   ],
   "source": [
    "merge_data[[\"Q_SMK_YN\",\"Q_SMK_NOW_AMT_V0108\",\"Q_PA_FRQ\",\"Q_DRK_AMT_V0108\",\"Q_DRK_FRQ_V0108\"]]"
   ]
  },
  {
   "cell_type": "code",
   "execution_count": 190,
   "metadata": {
    "collapsed": false,
    "pycharm": {
     "name": "#%%\n"
    }
   },
   "outputs": [],
   "source": [
    "merge_data[\"Q_SMK_YN\"]=merge_data[\"Q_SMK_YN\"].astype(\"int\")\n",
    "merge_data[\"Q_SMK_NOW_AMT_V0108\"]=merge_data[\"Q_SMK_NOW_AMT_V0108\"].astype(\"int\")\n",
    "merge_data[\"Q_PA_FRQ\"]=merge_data[\"Q_PA_FRQ\"].astype(\"int\")\n",
    "merge_data[\"Q_DRK_AMT_V0108\"]=merge_data[\"Q_DRK_AMT_V0108\"].astype(\"int\")\n",
    "merge_data[\"Q_DRK_FRQ_V0108\"]=merge_data[\"Q_DRK_FRQ_V0108\"].astype(\"int\")"
   ]
  },
  {
   "cell_type": "code",
   "execution_count": 191,
   "metadata": {
    "collapsed": false,
    "pycharm": {
     "name": "#%%\n"
    }
   },
   "outputs": [
    {
     "data": {
      "text/plain": [
       "0       1\n",
       "1       1\n",
       "2       1\n",
       "3       2\n",
       "7       1\n",
       "       ..\n",
       "1044    1\n",
       "1045    1\n",
       "1048    1\n",
       "1049    1\n",
       "1050    1\n",
       "Name: Q_DRK_AMT_V0108, Length: 663, dtype: int32"
      ]
     },
     "execution_count": 191,
     "metadata": {},
     "output_type": "execute_result"
    }
   ],
   "source": [
    "merge_data[\"Q_DRK_AMT_V0108\"][merge_data[\"Q_SMK_YN\"]==1]"
   ]
  },
  {
   "cell_type": "code",
   "execution_count": 192,
   "metadata": {
    "collapsed": false,
    "pycharm": {
     "name": "#%%\n"
    }
   },
   "outputs": [
    {
     "data": {
      "text/html": [
       "<div>\n",
       "<style scoped>\n",
       "    .dataframe tbody tr th:only-of-type {\n",
       "        vertical-align: middle;\n",
       "    }\n",
       "\n",
       "    .dataframe tbody tr th {\n",
       "        vertical-align: top;\n",
       "    }\n",
       "\n",
       "    .dataframe thead th {\n",
       "        text-align: right;\n",
       "    }\n",
       "</style>\n",
       "<table border=\"1\" class=\"dataframe\">\n",
       "  <thead>\n",
       "    <tr style=\"text-align: right;\">\n",
       "      <th></th>\n",
       "      <th>Q_SMK_YN</th>\n",
       "      <th>Q_SMK_NOW_AMT_V0108</th>\n",
       "      <th>Q_PA_FRQ</th>\n",
       "      <th>Q_DRK_AMT_V0108</th>\n",
       "      <th>Q_DRK_FRQ_V0108</th>\n",
       "    </tr>\n",
       "  </thead>\n",
       "  <tbody>\n",
       "    <tr>\n",
       "      <th>0</th>\n",
       "      <td>1</td>\n",
       "      <td>0</td>\n",
       "      <td>1</td>\n",
       "      <td>1</td>\n",
       "      <td>1</td>\n",
       "    </tr>\n",
       "    <tr>\n",
       "      <th>1</th>\n",
       "      <td>1</td>\n",
       "      <td>0</td>\n",
       "      <td>2</td>\n",
       "      <td>1</td>\n",
       "      <td>1</td>\n",
       "    </tr>\n",
       "    <tr>\n",
       "      <th>2</th>\n",
       "      <td>1</td>\n",
       "      <td>0</td>\n",
       "      <td>2</td>\n",
       "      <td>1</td>\n",
       "      <td>1</td>\n",
       "    </tr>\n",
       "    <tr>\n",
       "      <th>3</th>\n",
       "      <td>1</td>\n",
       "      <td>0</td>\n",
       "      <td>1</td>\n",
       "      <td>2</td>\n",
       "      <td>2</td>\n",
       "    </tr>\n",
       "    <tr>\n",
       "      <th>4</th>\n",
       "      <td>3</td>\n",
       "      <td>2</td>\n",
       "      <td>1</td>\n",
       "      <td>2</td>\n",
       "      <td>2</td>\n",
       "    </tr>\n",
       "    <tr>\n",
       "      <th>...</th>\n",
       "      <td>...</td>\n",
       "      <td>...</td>\n",
       "      <td>...</td>\n",
       "      <td>...</td>\n",
       "      <td>...</td>\n",
       "    </tr>\n",
       "    <tr>\n",
       "      <th>1046</th>\n",
       "      <td>2</td>\n",
       "      <td>0</td>\n",
       "      <td>1</td>\n",
       "      <td>4</td>\n",
       "      <td>3</td>\n",
       "    </tr>\n",
       "    <tr>\n",
       "      <th>1047</th>\n",
       "      <td>2</td>\n",
       "      <td>0</td>\n",
       "      <td>1</td>\n",
       "      <td>3</td>\n",
       "      <td>3</td>\n",
       "    </tr>\n",
       "    <tr>\n",
       "      <th>1048</th>\n",
       "      <td>1</td>\n",
       "      <td>0</td>\n",
       "      <td>1</td>\n",
       "      <td>1</td>\n",
       "      <td>1</td>\n",
       "    </tr>\n",
       "    <tr>\n",
       "      <th>1049</th>\n",
       "      <td>1</td>\n",
       "      <td>0</td>\n",
       "      <td>5</td>\n",
       "      <td>1</td>\n",
       "      <td>1</td>\n",
       "    </tr>\n",
       "    <tr>\n",
       "      <th>1050</th>\n",
       "      <td>1</td>\n",
       "      <td>0</td>\n",
       "      <td>2</td>\n",
       "      <td>1</td>\n",
       "      <td>3</td>\n",
       "    </tr>\n",
       "  </tbody>\n",
       "</table>\n",
       "<p>1051 rows × 5 columns</p>\n",
       "</div>"
      ],
      "text/plain": [
       "      Q_SMK_YN  Q_SMK_NOW_AMT_V0108  Q_PA_FRQ  Q_DRK_AMT_V0108  \\\n",
       "0            1                    0         1                1   \n",
       "1            1                    0         2                1   \n",
       "2            1                    0         2                1   \n",
       "3            1                    0         1                2   \n",
       "4            3                    2         1                2   \n",
       "...        ...                  ...       ...              ...   \n",
       "1046         2                    0         1                4   \n",
       "1047         2                    0         1                3   \n",
       "1048         1                    0         1                1   \n",
       "1049         1                    0         5                1   \n",
       "1050         1                    0         2                1   \n",
       "\n",
       "      Q_DRK_FRQ_V0108  \n",
       "0                   1  \n",
       "1                   1  \n",
       "2                   1  \n",
       "3                   2  \n",
       "4                   2  \n",
       "...               ...  \n",
       "1046                3  \n",
       "1047                3  \n",
       "1048                1  \n",
       "1049                1  \n",
       "1050                3  \n",
       "\n",
       "[1051 rows x 5 columns]"
      ]
     },
     "execution_count": 192,
     "metadata": {},
     "output_type": "execute_result"
    }
   ],
   "source": [
    "merge_data[[\"Q_SMK_YN\",\"Q_SMK_NOW_AMT_V0108\",\"Q_PA_FRQ\",\"Q_DRK_AMT_V0108\",\"Q_DRK_FRQ_V0108\"]]"
   ]
  },
  {
   "cell_type": "code",
   "execution_count": 193,
   "metadata": {
    "collapsed": false,
    "pycharm": {
     "name": "#%%\n"
    }
   },
   "outputs": [
    {
     "data": {
      "text/plain": [
       "Index(['EXMD_BZ_YYYY', 'RN_INDI', 'HME_YYYYMM', 'Q_FHX_HTN', 'Q_FHX_STK',\n",
       "       'Q_FHX_HTDZ', 'Q_FHX_DM', 'Q_FHX_CC', 'Q_DRK_FRQ_V0108',\n",
       "       'Q_DRK_AMT_V0108', 'Q_SMK_YN', 'Q_SMK_NOW_AMT_V0108', 'Q_PA_FRQ',\n",
       "       'G1E_BMI', 'Q_PHX_DX_STK', 'Q_PHX_DX_HTDZ', 'Q_PHX_DX_HTN',\n",
       "       'Q_PHX_DX_DM', 'Q_PHX_DX_PTB', 'Q_PHX_DX_ETC'],\n",
       "      dtype='object')"
      ]
     },
     "execution_count": 193,
     "metadata": {},
     "output_type": "execute_result"
    }
   ],
   "source": [
    "merge_data.columns"
   ]
  },
  {
   "cell_type": "code",
   "execution_count": 194,
   "metadata": {
    "collapsed": false,
    "pycharm": {
     "name": "#%%\n"
    }
   },
   "outputs": [
    {
     "data": {
      "text/plain": [
       "0     23.2\n",
       "1     29.4\n",
       "2     23.4\n",
       "3     25.6\n",
       "4     29.7\n",
       "5     25.1\n",
       "6     25.5\n",
       "7     22.4\n",
       "8     22.2\n",
       "9     20.6\n",
       "10    19.5\n",
       "11    25.8\n",
       "12    22.5\n",
       "13    19.8\n",
       "14    23.8\n",
       "15    22.0\n",
       "16    24.8\n",
       "17    24.8\n",
       "18    24.7\n",
       "19    29.4\n",
       "Name: G1E_BMI, dtype: float64"
      ]
     },
     "execution_count": 194,
     "metadata": {},
     "output_type": "execute_result"
    }
   ],
   "source": [
    "merge_data[\"G1E_BMI\"][:20]"
   ]
  },
  {
   "cell_type": "code",
   "execution_count": null,
   "metadata": {
    "collapsed": false,
    "pycharm": {
     "name": "#%%\n"
    }
   },
   "outputs": [],
   "source": [
    "merge_data[\"G1E_BMI\"][merge_data[\"G1E_BMI\"]<= 18.5] = 0\n",
    "merge_data[\"G1E_BMI\"][(merge_data[\"G1E_BMI\"]<= 25.0) & (merge_data[\"G1E_BMI\"]>18.5)] = 1\n",
    "merge_data[\"G1E_BMI\"][(merge_data[\"G1E_BMI\"]<= 30.0) & (merge_data[\"G1E_BMI\"]>25.0)] = 2\n",
    "merge_data[\"G1E_BMI\"][merge_data[\"G1E_BMI\"]> 30.0] = 3"
   ]
  },
  {
   "cell_type": "code",
   "execution_count": 196,
   "metadata": {
    "collapsed": false,
    "pycharm": {
     "name": "#%%\n"
    }
   },
   "outputs": [],
   "source": [
    "merge_data[\"G1E_BMI\"]=merge_data[\"G1E_BMI\"].astype(\"int\")"
   ]
  },
  {
   "cell_type": "code",
   "execution_count": 197,
   "metadata": {
    "collapsed": false,
    "pycharm": {
     "name": "#%%\n"
    }
   },
   "outputs": [
    {
     "data": {
      "text/plain": [
       "0       1\n",
       "1       2\n",
       "2       1\n",
       "3       2\n",
       "4       2\n",
       "       ..\n",
       "1046    1\n",
       "1047    2\n",
       "1048    1\n",
       "1049    1\n",
       "1050    3\n",
       "Name: G1E_BMI, Length: 1051, dtype: int32"
      ]
     },
     "execution_count": 197,
     "metadata": {},
     "output_type": "execute_result"
    }
   ],
   "source": [
    "merge_data[\"G1E_BMI\"]"
   ]
  },
  {
   "cell_type": "code",
   "execution_count": 198,
   "metadata": {
    "collapsed": false,
    "pycharm": {
     "name": "#%%\n"
    }
   },
   "outputs": [],
   "source": [
    "merge_data.rename(columns={'Q_FHX_CC':'Q_FHX_ETC'},inplace=True)"
   ]
  },
  {
   "cell_type": "code",
   "execution_count": 199,
   "metadata": {
    "collapsed": false,
    "pycharm": {
     "name": "#%%\n"
    }
   },
   "outputs": [
    {
     "data": {
      "text/plain": [
       "Index(['EXMD_BZ_YYYY', 'RN_INDI', 'HME_YYYYMM', 'Q_FHX_HTN', 'Q_FHX_STK',\n",
       "       'Q_FHX_HTDZ', 'Q_FHX_DM', 'Q_FHX_ETC', 'Q_DRK_FRQ_V0108',\n",
       "       'Q_DRK_AMT_V0108', 'Q_SMK_YN', 'Q_SMK_NOW_AMT_V0108', 'Q_PA_FRQ',\n",
       "       'G1E_BMI', 'Q_PHX_DX_STK', 'Q_PHX_DX_HTDZ', 'Q_PHX_DX_HTN',\n",
       "       'Q_PHX_DX_DM', 'Q_PHX_DX_PTB', 'Q_PHX_DX_ETC'],\n",
       "      dtype='object')"
      ]
     },
     "execution_count": 199,
     "metadata": {},
     "output_type": "execute_result"
    }
   ],
   "source": [
    "merge_data.columns"
   ]
  },
  {
   "cell_type": "markdown",
   "metadata": {
    "collapsed": false,
    "pycharm": {
     "name": "#%% md\n"
    }
   },
   "source": [
    "- 건강검진테이블2 전처리"
   ]
  },
  {
   "cell_type": "code",
   "execution_count": 200,
   "metadata": {
    "collapsed": false,
    "pycharm": {
     "name": "#%%\n"
    }
   },
   "outputs": [],
   "source": [
    "modify_screening2_data=modify_screening2_data[[\"EXMD_BZ_YYYY\",\"RN_INDI\",\"HME_YYYYMM\",\"Q_FHX_HTN\",\"Q_FHX_STK\",\"Q_FHX_HTDZ\",\"Q_FHX_DM\",\"Q_FHX_ETC\",\n",
    "                 \"Q_SMK_YN\",\"Q_SMK_NOW_AMT_V09N\",\"Q_DRK_FRQ_V09N\",\"Q_DRK_AMT_V09N\",\n",
    "                 \"Q_PA_VD\",\"Q_PA_MD\",\"Q_PA_WALK\",\"G1E_BMI\",\"Q_PHX_DX_STK\",\"Q_PHX_DX_HTDZ\",\"Q_PHX_DX_HTN\",\"Q_PHX_DX_DM\",\"Q_PHX_DX_PTB\",\"Q_PHX_DX_ETC\"]]"
   ]
  },
  {
   "cell_type": "code",
   "execution_count": 201,
   "metadata": {
    "collapsed": false,
    "pycharm": {
     "name": "#%%\n"
    }
   },
   "outputs": [
    {
     "data": {
      "text/plain": [
       "1644"
      ]
     },
     "execution_count": 201,
     "metadata": {},
     "output_type": "execute_result"
    }
   ],
   "source": [
    "len(modify_screening2_data)"
   ]
  },
  {
   "cell_type": "code",
   "execution_count": 202,
   "metadata": {
    "collapsed": false,
    "pycharm": {
     "name": "#%%\n"
    }
   },
   "outputs": [
    {
     "data": {
      "text/plain": [
       "EXMD_BZ_YYYY             0\n",
       "RN_INDI                  0\n",
       "HME_YYYYMM               0\n",
       "Q_FHX_HTN              515\n",
       "Q_FHX_STK              556\n",
       "Q_FHX_HTDZ             553\n",
       "Q_FHX_DM               534\n",
       "Q_FHX_ETC              530\n",
       "Q_SMK_YN                 2\n",
       "Q_SMK_NOW_AMT_V09N    1257\n",
       "Q_DRK_FRQ_V09N           6\n",
       "Q_DRK_AMT_V09N         643\n",
       "Q_PA_VD                  4\n",
       "Q_PA_MD                  3\n",
       "Q_PA_WALK                4\n",
       "G1E_BMI                  0\n",
       "Q_PHX_DX_STK           573\n",
       "Q_PHX_DX_HTDZ          566\n",
       "Q_PHX_DX_HTN           492\n",
       "Q_PHX_DX_DM            547\n",
       "Q_PHX_DX_PTB           703\n",
       "Q_PHX_DX_ETC           560\n",
       "dtype: int64"
      ]
     },
     "execution_count": 202,
     "metadata": {},
     "output_type": "execute_result"
    }
   ],
   "source": [
    "modify_screening2_data.isnull().sum()"
   ]
  },
  {
   "cell_type": "code",
   "execution_count": 203,
   "metadata": {
    "collapsed": false,
    "pycharm": {
     "name": "#%%\n"
    }
   },
   "outputs": [
    {
     "data": {
      "text/plain": [
       "22"
      ]
     },
     "execution_count": 203,
     "metadata": {},
     "output_type": "execute_result"
    }
   ],
   "source": [
    "len(modify_screening2_data.columns)"
   ]
  },
  {
   "cell_type": "markdown",
   "metadata": {
    "collapsed": false
   },
   "source": [
    "- 흡연 관련결측치 제거"
   ]
  },
  {
   "cell_type": "code",
   "execution_count": 204,
   "metadata": {
    "collapsed": false,
    "pycharm": {
     "name": "#%%\n"
    }
   },
   "outputs": [],
   "source": [
    "modify_screening2_data[\"Q_FHX_HTN\"] = modify_screening2_data[\"Q_FHX_HTN\"].fillna(0)\n",
    "modify_screening2_data[\"Q_FHX_STK\"] = modify_screening2_data[\"Q_FHX_STK\"].fillna(0)\n",
    "modify_screening2_data[\"Q_FHX_HTDZ\"] = modify_screening2_data[\"Q_FHX_HTDZ\"].fillna(0)\n",
    "modify_screening2_data[\"Q_FHX_DM\"] = modify_screening2_data[\"Q_FHX_DM\"].fillna(0)\n",
    "modify_screening2_data[\"Q_FHX_ETC\"] = modify_screening2_data[\"Q_FHX_ETC\"].fillna(0)"
   ]
  },
  {
   "cell_type": "code",
   "execution_count": 205,
   "metadata": {
    "collapsed": false,
    "pycharm": {
     "name": "#%%\n"
    }
   },
   "outputs": [
    {
     "data": {
      "text/plain": [
       "EXMD_BZ_YYYY             0\n",
       "RN_INDI                  0\n",
       "HME_YYYYMM               0\n",
       "Q_FHX_HTN                0\n",
       "Q_FHX_STK                0\n",
       "Q_FHX_HTDZ               0\n",
       "Q_FHX_DM                 0\n",
       "Q_FHX_ETC                0\n",
       "Q_SMK_YN                 2\n",
       "Q_SMK_NOW_AMT_V09N    1257\n",
       "Q_DRK_FRQ_V09N           6\n",
       "Q_DRK_AMT_V09N         643\n",
       "Q_PA_VD                  4\n",
       "Q_PA_MD                  3\n",
       "Q_PA_WALK                4\n",
       "G1E_BMI                  0\n",
       "Q_PHX_DX_STK           573\n",
       "Q_PHX_DX_HTDZ          566\n",
       "Q_PHX_DX_HTN           492\n",
       "Q_PHX_DX_DM            547\n",
       "Q_PHX_DX_PTB           703\n",
       "Q_PHX_DX_ETC           560\n",
       "dtype: int64"
      ]
     },
     "execution_count": 205,
     "metadata": {},
     "output_type": "execute_result"
    }
   ],
   "source": [
    "modify_screening2_data.isnull().sum()"
   ]
  },
  {
   "cell_type": "code",
   "execution_count": 206,
   "metadata": {
    "collapsed": false,
    "pycharm": {
     "name": "#%%\n"
    }
   },
   "outputs": [
    {
     "data": {
      "text/html": [
       "<div>\n",
       "<style scoped>\n",
       "    .dataframe tbody tr th:only-of-type {\n",
       "        vertical-align: middle;\n",
       "    }\n",
       "\n",
       "    .dataframe tbody tr th {\n",
       "        vertical-align: top;\n",
       "    }\n",
       "\n",
       "    .dataframe thead th {\n",
       "        text-align: right;\n",
       "    }\n",
       "</style>\n",
       "<table border=\"1\" class=\"dataframe\">\n",
       "  <thead>\n",
       "    <tr style=\"text-align: right;\">\n",
       "      <th></th>\n",
       "      <th>Q_SMK_YN</th>\n",
       "      <th>Q_SMK_NOW_AMT_V09N</th>\n",
       "    </tr>\n",
       "  </thead>\n",
       "  <tbody>\n",
       "    <tr>\n",
       "      <th>95</th>\n",
       "      <td>NaN</td>\n",
       "      <td>NaN</td>\n",
       "    </tr>\n",
       "    <tr>\n",
       "      <th>112</th>\n",
       "      <td>NaN</td>\n",
       "      <td>NaN</td>\n",
       "    </tr>\n",
       "  </tbody>\n",
       "</table>\n",
       "</div>"
      ],
      "text/plain": [
       "     Q_SMK_YN  Q_SMK_NOW_AMT_V09N\n",
       "95        NaN                 NaN\n",
       "112       NaN                 NaN"
      ]
     },
     "execution_count": 206,
     "metadata": {},
     "output_type": "execute_result"
    }
   ],
   "source": [
    "modify_screening2_data[[\"Q_SMK_YN\",\"Q_SMK_NOW_AMT_V09N\"]][modify_screening2_data[\"Q_SMK_YN\"].isnull()]"
   ]
  },
  {
   "cell_type": "code",
   "execution_count": 207,
   "metadata": {
    "collapsed": false,
    "pycharm": {
     "name": "#%%\n"
    }
   },
   "outputs": [
    {
     "data": {
      "text/plain": [
       "0       1.0\n",
       "1       1.0\n",
       "2       1.0\n",
       "3       1.0\n",
       "4       1.0\n",
       "       ... \n",
       "1639    2.0\n",
       "1640    2.0\n",
       "1641    2.0\n",
       "1642    2.0\n",
       "1643    2.0\n",
       "Name: Q_SMK_YN, Length: 1644, dtype: float64"
      ]
     },
     "execution_count": 207,
     "metadata": {},
     "output_type": "execute_result"
    }
   ],
   "source": [
    "modify_screening2_data[\"Q_SMK_YN\"]"
   ]
  },
  {
   "cell_type": "code",
   "execution_count": 208,
   "metadata": {
    "collapsed": false,
    "pycharm": {
     "name": "#%%\n"
    }
   },
   "outputs": [
    {
     "data": {
      "text/plain": [
       "1.0    995\n",
       "3.0    391\n",
       "2.0    256\n",
       "Name: Q_SMK_YN, dtype: int64"
      ]
     },
     "execution_count": 208,
     "metadata": {},
     "output_type": "execute_result"
    }
   ],
   "source": [
    "modify_screening2_data[\"Q_SMK_YN\"].value_counts()"
   ]
  },
  {
   "cell_type": "code",
   "execution_count": 209,
   "metadata": {
    "collapsed": false,
    "pycharm": {
     "name": "#%%\n"
    }
   },
   "outputs": [],
   "source": [
    "modify_screening2_data[\"Q_SMK_YN\"]=modify_screening2_data[\"Q_SMK_YN\"].fillna(int(mode(modify_screening2_data[\"Q_SMK_YN\"],nan_policy=\"omit\")[0]))"
   ]
  },
  {
   "cell_type": "code",
   "execution_count": 210,
   "metadata": {
    "collapsed": false,
    "pycharm": {
     "name": "#%%\n"
    }
   },
   "outputs": [
    {
     "data": {
      "text/plain": [
       "140   NaN\n",
       "165   NaN\n",
       "376   NaN\n",
       "571   NaN\n",
       "Name: Q_SMK_NOW_AMT_V09N, dtype: float64"
      ]
     },
     "execution_count": 210,
     "metadata": {},
     "output_type": "execute_result"
    }
   ],
   "source": [
    "modify_screening2_data[\"Q_SMK_NOW_AMT_V09N\"][(modify_screening2_data[\"Q_SMK_YN\"]==3)&(modify_screening2_data[\"Q_SMK_NOW_AMT_V09N\"].isnull())]"
   ]
  },
  {
   "cell_type": "code",
   "execution_count": 211,
   "metadata": {
    "collapsed": false,
    "pycharm": {
     "name": "#%%\n"
    }
   },
   "outputs": [
    {
     "name": "stderr",
     "output_type": "stream",
     "text": [
      "C:\\Users\\tlsgh\\anaconda3\\envs\\osaesg\\lib\\site-packages\\ipykernel_launcher.py:1: SettingWithCopyWarning: \n",
      "A value is trying to be set on a copy of a slice from a DataFrame\n",
      "\n",
      "See the caveats in the documentation: https://pandas.pydata.org/pandas-docs/stable/user_guide/indexing.html#returning-a-view-versus-a-copy\n",
      "  \"\"\"Entry point for launching an IPython kernel.\n",
      "C:\\Users\\tlsgh\\anaconda3\\envs\\osaesg\\lib\\site-packages\\ipykernel_launcher.py:2: SettingWithCopyWarning: \n",
      "A value is trying to be set on a copy of a slice from a DataFrame\n",
      "\n",
      "See the caveats in the documentation: https://pandas.pydata.org/pandas-docs/stable/user_guide/indexing.html#returning-a-view-versus-a-copy\n",
      "  \n"
     ]
    }
   ],
   "source": [
    "modify_screening2_data[\"Q_SMK_NOW_AMT_V09N\"][modify_screening2_data[\"Q_SMK_YN\"]==1] = 0\n",
    "modify_screening2_data[\"Q_SMK_NOW_AMT_V09N\"][modify_screening2_data[\"Q_SMK_YN\"]==2] = 0"
   ]
  },
  {
   "cell_type": "code",
   "execution_count": 212,
   "metadata": {
    "collapsed": false,
    "pycharm": {
     "name": "#%%\n"
    }
   },
   "outputs": [
    {
     "name": "stderr",
     "output_type": "stream",
     "text": [
      "C:\\Users\\tlsgh\\anaconda3\\envs\\osaesg\\lib\\site-packages\\ipykernel_launcher.py:1: SettingWithCopyWarning: \n",
      "A value is trying to be set on a copy of a slice from a DataFrame\n",
      "\n",
      "See the caveats in the documentation: https://pandas.pydata.org/pandas-docs/stable/user_guide/indexing.html#returning-a-view-versus-a-copy\n",
      "  \"\"\"Entry point for launching an IPython kernel.\n"
     ]
    }
   ],
   "source": [
    "modify_screening2_data[\"Q_SMK_NOW_AMT_V09N\"][(modify_screening2_data[\"Q_SMK_YN\"]==3)&(modify_screening2_data[\"Q_SMK_NOW_AMT_V09N\"].isnull())] = 10.0"
   ]
  },
  {
   "cell_type": "code",
   "execution_count": 213,
   "metadata": {
    "collapsed": false,
    "pycharm": {
     "name": "#%%\n"
    }
   },
   "outputs": [
    {
     "data": {
      "text/plain": [
       "{0.0,\n",
       " 1.0,\n",
       " 2.0,\n",
       " 3.0,\n",
       " 4.0,\n",
       " 5.0,\n",
       " 6.0,\n",
       " 7.0,\n",
       " 8.0,\n",
       " 9.0,\n",
       " 10.0,\n",
       " 11.0,\n",
       " 12.0,\n",
       " 13.0,\n",
       " 15.0,\n",
       " 17.0,\n",
       " 18.0,\n",
       " 20.0,\n",
       " 22.0,\n",
       " 25.0,\n",
       " 30.0,\n",
       " 35.0,\n",
       " 37.0,\n",
       " 40.0,\n",
       " 50.0}"
      ]
     },
     "execution_count": 213,
     "metadata": {},
     "output_type": "execute_result"
    }
   ],
   "source": [
    "set(modify_screening2_data[\"Q_SMK_NOW_AMT_V09N\"])"
   ]
  },
  {
   "cell_type": "code",
   "execution_count": 214,
   "metadata": {
    "collapsed": false,
    "pycharm": {
     "name": "#%%\n"
    }
   },
   "outputs": [
    {
     "data": {
      "text/plain": [
       "EXMD_BZ_YYYY            0\n",
       "RN_INDI                 0\n",
       "HME_YYYYMM              0\n",
       "Q_FHX_HTN               0\n",
       "Q_FHX_STK               0\n",
       "Q_FHX_HTDZ              0\n",
       "Q_FHX_DM                0\n",
       "Q_FHX_ETC               0\n",
       "Q_SMK_YN                0\n",
       "Q_SMK_NOW_AMT_V09N      0\n",
       "Q_DRK_FRQ_V09N          6\n",
       "Q_DRK_AMT_V09N        643\n",
       "Q_PA_VD                 4\n",
       "Q_PA_MD                 3\n",
       "Q_PA_WALK               4\n",
       "G1E_BMI                 0\n",
       "Q_PHX_DX_STK          573\n",
       "Q_PHX_DX_HTDZ         566\n",
       "Q_PHX_DX_HTN          492\n",
       "Q_PHX_DX_DM           547\n",
       "Q_PHX_DX_PTB          703\n",
       "Q_PHX_DX_ETC          560\n",
       "dtype: int64"
      ]
     },
     "execution_count": 214,
     "metadata": {},
     "output_type": "execute_result"
    }
   ],
   "source": [
    "modify_screening2_data.isnull().sum()"
   ]
  },
  {
   "cell_type": "markdown",
   "metadata": {
    "collapsed": false,
    "pycharm": {
     "name": "#%% md\n"
    }
   },
   "source": [
    "- 음주 관련결측치 제거"
   ]
  },
  {
   "cell_type": "code",
   "execution_count": 215,
   "metadata": {
    "collapsed": false,
    "pycharm": {
     "name": "#%%\n"
    }
   },
   "outputs": [],
   "source": [
    "modify_screening2_data[\"Q_DRK_FRQ_V09N\"]=modify_screening2_data[\"Q_DRK_FRQ_V09N\"].fillna(int(mode(modify_screening2_data[\"Q_DRK_FRQ_V09N\"],nan_policy=\"omit\")[0]))"
   ]
  },
  {
   "cell_type": "code",
   "execution_count": null,
   "metadata": {
    "collapsed": false,
    "pycharm": {
     "name": "#%%\n"
    }
   },
   "outputs": [],
   "source": [
    "modify_screening2_data[\"Q_DRK_AMT_V09N\"][modify_screening2_data[\"Q_DRK_FRQ_V09N\"]==0]=modify_screening2_data[\"Q_DRK_AMT_V09N\"][modify_screening2_data[\"Q_DRK_FRQ_V09N\"]==0].fillna(int(mode(modify_screening2_data[\"Q_DRK_AMT_V09N\"][modify_screening2_data[\"Q_DRK_FRQ_V09N\"]==0],nan_policy=\"omit\")[0]))\n",
    "modify_screening2_data[\"Q_DRK_AMT_V09N\"][modify_screening2_data[\"Q_DRK_FRQ_V09N\"]==1]=modify_screening2_data[\"Q_DRK_AMT_V09N\"][modify_screening2_data[\"Q_DRK_FRQ_V09N\"]==1].fillna(int(mode(modify_screening2_data[\"Q_DRK_AMT_V09N\"][modify_screening2_data[\"Q_DRK_FRQ_V09N\"]==1],nan_policy=\"omit\")[0]))\n",
    "modify_screening2_data[\"Q_DRK_AMT_V09N\"][modify_screening2_data[\"Q_DRK_FRQ_V09N\"]==2]=modify_screening2_data[\"Q_DRK_AMT_V09N\"][modify_screening2_data[\"Q_DRK_FRQ_V09N\"]==2].fillna(int(mode(modify_screening2_data[\"Q_DRK_AMT_V09N\"][modify_screening2_data[\"Q_DRK_FRQ_V09N\"]==2],nan_policy=\"omit\")[0]))\n",
    "modify_screening2_data[\"Q_DRK_AMT_V09N\"][modify_screening2_data[\"Q_DRK_FRQ_V09N\"]==3]=modify_screening2_data[\"Q_DRK_AMT_V09N\"][modify_screening2_data[\"Q_DRK_FRQ_V09N\"]==3].fillna(int(mode(modify_screening2_data[\"Q_DRK_AMT_V09N\"][modify_screening2_data[\"Q_DRK_FRQ_V09N\"]==3],nan_policy=\"omit\")[0]))\n",
    "modify_screening2_data[\"Q_DRK_AMT_V09N\"][modify_screening2_data[\"Q_DRK_FRQ_V09N\"]==4]=modify_screening2_data[\"Q_DRK_AMT_V09N\"][modify_screening2_data[\"Q_DRK_FRQ_V09N\"]==4].fillna(int(mode(modify_screening2_data[\"Q_DRK_AMT_V09N\"][modify_screening2_data[\"Q_DRK_FRQ_V09N\"]==4],nan_policy=\"omit\")[0]))\n",
    "modify_screening2_data[\"Q_DRK_AMT_V09N\"][modify_screening2_data[\"Q_DRK_FRQ_V09N\"]==5]=modify_screening2_data[\"Q_DRK_AMT_V09N\"][modify_screening2_data[\"Q_DRK_FRQ_V09N\"]==5].fillna(int(mode(modify_screening2_data[\"Q_DRK_AMT_V09N\"][modify_screening2_data[\"Q_DRK_FRQ_V09N\"]==5],nan_policy=\"omit\")[0]))\n",
    "modify_screening2_data[\"Q_DRK_AMT_V09N\"][modify_screening2_data[\"Q_DRK_FRQ_V09N\"]==6]=modify_screening2_data[\"Q_DRK_AMT_V09N\"][modify_screening2_data[\"Q_DRK_FRQ_V09N\"]==6].fillna(int(mode(modify_screening2_data[\"Q_DRK_AMT_V09N\"][modify_screening2_data[\"Q_DRK_FRQ_V09N\"]==6],nan_policy=\"omit\")[0]))\n",
    "modify_screening2_data[\"Q_DRK_AMT_V09N\"][modify_screening2_data[\"Q_DRK_FRQ_V09N\"]==7]=modify_screening2_data[\"Q_DRK_AMT_V09N\"][modify_screening2_data[\"Q_DRK_FRQ_V09N\"]==7].fillna(int(mode(modify_screening2_data[\"Q_DRK_AMT_V09N\"][modify_screening2_data[\"Q_DRK_FRQ_V09N\"]==7],nan_policy=\"omit\")[0]))"
   ]
  },
  {
   "cell_type": "code",
   "execution_count": 217,
   "metadata": {
    "collapsed": false,
    "pycharm": {
     "name": "#%%\n"
    }
   },
   "outputs": [
    {
     "data": {
      "text/plain": [
       "EXMD_BZ_YYYY            0\n",
       "RN_INDI                 0\n",
       "HME_YYYYMM              0\n",
       "Q_FHX_HTN               0\n",
       "Q_FHX_STK               0\n",
       "Q_FHX_HTDZ              0\n",
       "Q_FHX_DM                0\n",
       "Q_FHX_ETC               0\n",
       "Q_SMK_YN                0\n",
       "Q_SMK_NOW_AMT_V09N      0\n",
       "Q_DRK_FRQ_V09N          0\n",
       "Q_DRK_AMT_V09N          0\n",
       "Q_PA_VD                 4\n",
       "Q_PA_MD                 3\n",
       "Q_PA_WALK               4\n",
       "G1E_BMI                 0\n",
       "Q_PHX_DX_STK          573\n",
       "Q_PHX_DX_HTDZ         566\n",
       "Q_PHX_DX_HTN          492\n",
       "Q_PHX_DX_DM           547\n",
       "Q_PHX_DX_PTB          703\n",
       "Q_PHX_DX_ETC          560\n",
       "dtype: int64"
      ]
     },
     "execution_count": 217,
     "metadata": {},
     "output_type": "execute_result"
    }
   ],
   "source": [
    "modify_screening2_data.isnull().sum()"
   ]
  },
  {
   "cell_type": "markdown",
   "metadata": {
    "collapsed": false,
    "pycharm": {
     "name": "#%% md\n"
    }
   },
   "source": [
    "- 운동 전처리"
   ]
  },
  {
   "cell_type": "code",
   "execution_count": 218,
   "metadata": {
    "collapsed": false,
    "pycharm": {
     "name": "#%%\n"
    }
   },
   "outputs": [],
   "source": [
    "modify_screening2_data[\"Q_PA_VD\"]=modify_screening2_data[\"Q_PA_VD\"].fillna(int(mode(modify_screening2_data[\"Q_PA_VD\"],nan_policy=\"omit\")[0]))\n",
    "modify_screening2_data[\"Q_PA_MD\"]=modify_screening2_data[\"Q_PA_MD\"].fillna(int(mode(modify_screening2_data[\"Q_PA_MD\"],nan_policy=\"omit\")[0]))\n",
    "modify_screening2_data[\"Q_PA_WALK\"]=modify_screening2_data[\"Q_PA_WALK\"].fillna(int(mode(modify_screening2_data[\"Q_PA_WALK\"],nan_policy=\"omit\")[0]))"
   ]
  },
  {
   "cell_type": "code",
   "execution_count": 219,
   "metadata": {
    "collapsed": false,
    "pycharm": {
     "name": "#%%\n"
    }
   },
   "outputs": [
    {
     "data": {
      "text/plain": [
       "EXMD_BZ_YYYY            0\n",
       "RN_INDI                 0\n",
       "HME_YYYYMM              0\n",
       "Q_FHX_HTN               0\n",
       "Q_FHX_STK               0\n",
       "Q_FHX_HTDZ              0\n",
       "Q_FHX_DM                0\n",
       "Q_FHX_ETC               0\n",
       "Q_SMK_YN                0\n",
       "Q_SMK_NOW_AMT_V09N      0\n",
       "Q_DRK_FRQ_V09N          0\n",
       "Q_DRK_AMT_V09N          0\n",
       "Q_PA_VD                 0\n",
       "Q_PA_MD                 0\n",
       "Q_PA_WALK               0\n",
       "G1E_BMI                 0\n",
       "Q_PHX_DX_STK          573\n",
       "Q_PHX_DX_HTDZ         566\n",
       "Q_PHX_DX_HTN          492\n",
       "Q_PHX_DX_DM           547\n",
       "Q_PHX_DX_PTB          703\n",
       "Q_PHX_DX_ETC          560\n",
       "dtype: int64"
      ]
     },
     "execution_count": 219,
     "metadata": {},
     "output_type": "execute_result"
    }
   ],
   "source": [
    "modify_screening2_data.isnull().sum()"
   ]
  },
  {
   "cell_type": "code",
   "execution_count": 220,
   "metadata": {
    "collapsed": false,
    "pycharm": {
     "name": "#%%\n"
    }
   },
   "outputs": [],
   "source": [
    "modify_screening2_data[\"Q_PHX_DX_STK\"]=modify_screening2_data[\"Q_PHX_DX_STK\"].fillna(0)\n",
    "modify_screening2_data[\"Q_PHX_DX_HTDZ\"]=modify_screening2_data[\"Q_PHX_DX_HTDZ\"].fillna(0)\n",
    "modify_screening2_data[\"Q_PHX_DX_HTN\"]=modify_screening2_data[\"Q_PHX_DX_HTN\"].fillna(0)\n",
    "modify_screening2_data[\"Q_PHX_DX_DM\"]=modify_screening2_data[\"Q_PHX_DX_DM\"].fillna(0)\n",
    "modify_screening2_data[\"Q_PHX_DX_PTB\"]=modify_screening2_data[\"Q_PHX_DX_PTB\"].fillna(0)\n",
    "modify_screening2_data[\"Q_PHX_DX_ETC\"]=modify_screening2_data[\"Q_PHX_DX_ETC\"].fillna(0)"
   ]
  },
  {
   "cell_type": "code",
   "execution_count": 221,
   "metadata": {
    "collapsed": false,
    "pycharm": {
     "name": "#%%\n"
    }
   },
   "outputs": [
    {
     "data": {
      "text/plain": [
       "EXMD_BZ_YYYY          0\n",
       "RN_INDI               0\n",
       "HME_YYYYMM            0\n",
       "Q_FHX_HTN             0\n",
       "Q_FHX_STK             0\n",
       "Q_FHX_HTDZ            0\n",
       "Q_FHX_DM              0\n",
       "Q_FHX_ETC             0\n",
       "Q_SMK_YN              0\n",
       "Q_SMK_NOW_AMT_V09N    0\n",
       "Q_DRK_FRQ_V09N        0\n",
       "Q_DRK_AMT_V09N        0\n",
       "Q_PA_VD               0\n",
       "Q_PA_MD               0\n",
       "Q_PA_WALK             0\n",
       "G1E_BMI               0\n",
       "Q_PHX_DX_STK          0\n",
       "Q_PHX_DX_HTDZ         0\n",
       "Q_PHX_DX_HTN          0\n",
       "Q_PHX_DX_DM           0\n",
       "Q_PHX_DX_PTB          0\n",
       "Q_PHX_DX_ETC          0\n",
       "dtype: int64"
      ]
     },
     "execution_count": 221,
     "metadata": {},
     "output_type": "execute_result"
    }
   ],
   "source": [
    "modify_screening2_data.isnull().sum()"
   ]
  },
  {
   "cell_type": "markdown",
   "metadata": {
    "collapsed": false,
    "pycharm": {
     "name": "#%% md\n"
    }
   },
   "source": [
    "- 운동 횟수 건강검지1이랑 값 맞추기"
   ]
  },
  {
   "cell_type": "code",
   "execution_count": 222,
   "metadata": {
    "collapsed": false,
    "pycharm": {
     "name": "#%%\n"
    }
   },
   "outputs": [
    {
     "data": {
      "text/html": [
       "<div>\n",
       "<style scoped>\n",
       "    .dataframe tbody tr th:only-of-type {\n",
       "        vertical-align: middle;\n",
       "    }\n",
       "\n",
       "    .dataframe tbody tr th {\n",
       "        vertical-align: top;\n",
       "    }\n",
       "\n",
       "    .dataframe thead th {\n",
       "        text-align: right;\n",
       "    }\n",
       "</style>\n",
       "<table border=\"1\" class=\"dataframe\">\n",
       "  <thead>\n",
       "    <tr style=\"text-align: right;\">\n",
       "      <th></th>\n",
       "      <th>Q_PA_MD</th>\n",
       "      <th>Q_PA_VD</th>\n",
       "      <th>Q_PA_WALK</th>\n",
       "    </tr>\n",
       "  </thead>\n",
       "  <tbody>\n",
       "    <tr>\n",
       "      <th>0</th>\n",
       "      <td>0.0</td>\n",
       "      <td>0.0</td>\n",
       "      <td>0.0</td>\n",
       "    </tr>\n",
       "    <tr>\n",
       "      <th>1</th>\n",
       "      <td>0.0</td>\n",
       "      <td>0.0</td>\n",
       "      <td>0.0</td>\n",
       "    </tr>\n",
       "    <tr>\n",
       "      <th>2</th>\n",
       "      <td>0.0</td>\n",
       "      <td>0.0</td>\n",
       "      <td>0.0</td>\n",
       "    </tr>\n",
       "    <tr>\n",
       "      <th>3</th>\n",
       "      <td>0.0</td>\n",
       "      <td>0.0</td>\n",
       "      <td>0.0</td>\n",
       "    </tr>\n",
       "    <tr>\n",
       "      <th>4</th>\n",
       "      <td>0.0</td>\n",
       "      <td>0.0</td>\n",
       "      <td>0.0</td>\n",
       "    </tr>\n",
       "    <tr>\n",
       "      <th>...</th>\n",
       "      <td>...</td>\n",
       "      <td>...</td>\n",
       "      <td>...</td>\n",
       "    </tr>\n",
       "    <tr>\n",
       "      <th>1639</th>\n",
       "      <td>2.0</td>\n",
       "      <td>2.0</td>\n",
       "      <td>2.0</td>\n",
       "    </tr>\n",
       "    <tr>\n",
       "      <th>1640</th>\n",
       "      <td>1.0</td>\n",
       "      <td>1.0</td>\n",
       "      <td>1.0</td>\n",
       "    </tr>\n",
       "    <tr>\n",
       "      <th>1641</th>\n",
       "      <td>0.0</td>\n",
       "      <td>0.0</td>\n",
       "      <td>0.0</td>\n",
       "    </tr>\n",
       "    <tr>\n",
       "      <th>1642</th>\n",
       "      <td>2.0</td>\n",
       "      <td>3.0</td>\n",
       "      <td>2.0</td>\n",
       "    </tr>\n",
       "    <tr>\n",
       "      <th>1643</th>\n",
       "      <td>0.0</td>\n",
       "      <td>0.0</td>\n",
       "      <td>5.0</td>\n",
       "    </tr>\n",
       "  </tbody>\n",
       "</table>\n",
       "<p>1644 rows × 3 columns</p>\n",
       "</div>"
      ],
      "text/plain": [
       "      Q_PA_MD  Q_PA_VD  Q_PA_WALK\n",
       "0         0.0      0.0        0.0\n",
       "1         0.0      0.0        0.0\n",
       "2         0.0      0.0        0.0\n",
       "3         0.0      0.0        0.0\n",
       "4         0.0      0.0        0.0\n",
       "...       ...      ...        ...\n",
       "1639      2.0      2.0        2.0\n",
       "1640      1.0      1.0        1.0\n",
       "1641      0.0      0.0        0.0\n",
       "1642      2.0      3.0        2.0\n",
       "1643      0.0      0.0        5.0\n",
       "\n",
       "[1644 rows x 3 columns]"
      ]
     },
     "execution_count": 222,
     "metadata": {},
     "output_type": "execute_result"
    }
   ],
   "source": [
    "modify_screening2_data[[\"Q_PA_MD\",\"Q_PA_VD\",\"Q_PA_WALK\"]]"
   ]
  },
  {
   "cell_type": "code",
   "execution_count": 223,
   "metadata": {
    "collapsed": false,
    "pycharm": {
     "name": "#%%\n"
    }
   },
   "outputs": [
    {
     "data": {
      "text/plain": [
       "0       0.0\n",
       "1       0.0\n",
       "2       0.0\n",
       "3       0.0\n",
       "4       0.0\n",
       "       ... \n",
       "1639    6.0\n",
       "1640    3.0\n",
       "1641    0.0\n",
       "1642    7.0\n",
       "1643    5.0\n",
       "Length: 1644, dtype: float64"
      ]
     },
     "execution_count": 223,
     "metadata": {},
     "output_type": "execute_result"
    }
   ],
   "source": [
    "modify_screening2_data[\"Q_PA_MD\"]+modify_screening2_data[\"Q_PA_VD\"]+modify_screening2_data[\"Q_PA_WALK\"]"
   ]
  },
  {
   "cell_type": "code",
   "execution_count": 224,
   "metadata": {
    "collapsed": false,
    "pycharm": {
     "name": "#%%\n"
    }
   },
   "outputs": [],
   "source": [
    "modify_screening2_data[\"Q_PA_FRQ\"]=modify_screening2_data[\"Q_PA_MD\"]+modify_screening2_data[\"Q_PA_VD\"]+modify_screening2_data[\"Q_PA_WALK\"]"
   ]
  },
  {
   "cell_type": "code",
   "execution_count": 225,
   "metadata": {
    "collapsed": false,
    "pycharm": {
     "name": "#%%\n"
    }
   },
   "outputs": [],
   "source": [
    "modify_screening2_data[\"Q_PA_FRQ\"] = modify_screening2_data[\"Q_PA_FRQ\"].astype(\"int\")"
   ]
  },
  {
   "cell_type": "code",
   "execution_count": null,
   "metadata": {
    "collapsed": false,
    "pycharm": {
     "name": "#%%\n"
    }
   },
   "outputs": [],
   "source": [
    "for idx, freq in enumerate(modify_screening2_data[\"Q_PA_FRQ\"]):\n",
    "    if freq == 0:modify_screening2_data[\"Q_PA_FRQ\"][idx] = 1\n",
    "    elif freq == 1:modify_screening2_data[\"Q_PA_FRQ\"][idx] = 2\n",
    "    elif freq == 2:modify_screening2_data[\"Q_PA_FRQ\"][idx] = 2\n",
    "    elif freq == 3:modify_screening2_data[\"Q_PA_FRQ\"][idx] = 3\n",
    "    elif freq == 4:modify_screening2_data[\"Q_PA_FRQ\"][idx] = 3\n",
    "    elif freq == 5:modify_screening2_data[\"Q_PA_FRQ\"][idx] = 4\n",
    "    elif freq == 6:modify_screening2_data[\"Q_PA_FRQ\"][idx] = 4\n",
    "    elif freq >= 7:modify_screening2_data[\"Q_PA_FRQ\"][idx] = 5"
   ]
  },
  {
   "cell_type": "code",
   "execution_count": 227,
   "metadata": {
    "collapsed": false,
    "pycharm": {
     "name": "#%%\n"
    }
   },
   "outputs": [
    {
     "data": {
      "text/plain": [
       "0       1\n",
       "1       1\n",
       "2       1\n",
       "3       1\n",
       "4       1\n",
       "       ..\n",
       "1639    4\n",
       "1640    3\n",
       "1641    1\n",
       "1642    5\n",
       "1643    4\n",
       "Name: Q_PA_FRQ, Length: 1644, dtype: int32"
      ]
     },
     "execution_count": 227,
     "metadata": {},
     "output_type": "execute_result"
    }
   ],
   "source": [
    "modify_screening2_data[\"Q_PA_FRQ\"]"
   ]
  },
  {
   "cell_type": "code",
   "execution_count": 228,
   "metadata": {
    "collapsed": false,
    "pycharm": {
     "name": "#%%\n"
    }
   },
   "outputs": [],
   "source": [
    "modify_screening2_data.drop([\"Q_PA_VD\",\"Q_PA_MD\",\"Q_PA_WALK\"],axis=1,inplace=True)"
   ]
  },
  {
   "cell_type": "code",
   "execution_count": 229,
   "metadata": {
    "collapsed": false,
    "pycharm": {
     "name": "#%%\n"
    }
   },
   "outputs": [
    {
     "data": {
      "text/html": [
       "<div>\n",
       "<style scoped>\n",
       "    .dataframe tbody tr th:only-of-type {\n",
       "        vertical-align: middle;\n",
       "    }\n",
       "\n",
       "    .dataframe tbody tr th {\n",
       "        vertical-align: top;\n",
       "    }\n",
       "\n",
       "    .dataframe thead th {\n",
       "        text-align: right;\n",
       "    }\n",
       "</style>\n",
       "<table border=\"1\" class=\"dataframe\">\n",
       "  <thead>\n",
       "    <tr style=\"text-align: right;\">\n",
       "      <th></th>\n",
       "      <th>EXMD_BZ_YYYY</th>\n",
       "      <th>RN_INDI</th>\n",
       "      <th>HME_YYYYMM</th>\n",
       "      <th>Q_FHX_HTN</th>\n",
       "      <th>Q_FHX_STK</th>\n",
       "      <th>Q_FHX_HTDZ</th>\n",
       "      <th>Q_FHX_DM</th>\n",
       "      <th>Q_FHX_ETC</th>\n",
       "      <th>Q_SMK_YN</th>\n",
       "      <th>Q_SMK_NOW_AMT_V09N</th>\n",
       "      <th>Q_DRK_FRQ_V09N</th>\n",
       "      <th>Q_DRK_AMT_V09N</th>\n",
       "      <th>G1E_BMI</th>\n",
       "      <th>Q_PHX_DX_STK</th>\n",
       "      <th>Q_PHX_DX_HTDZ</th>\n",
       "      <th>Q_PHX_DX_HTN</th>\n",
       "      <th>Q_PHX_DX_DM</th>\n",
       "      <th>Q_PHX_DX_PTB</th>\n",
       "      <th>Q_PHX_DX_ETC</th>\n",
       "      <th>Q_PA_FRQ</th>\n",
       "    </tr>\n",
       "  </thead>\n",
       "  <tbody>\n",
       "    <tr>\n",
       "      <th>0</th>\n",
       "      <td>2009</td>\n",
       "      <td>562083</td>\n",
       "      <td>200909</td>\n",
       "      <td>1.0</td>\n",
       "      <td>0.0</td>\n",
       "      <td>0.0</td>\n",
       "      <td>0.0</td>\n",
       "      <td>0.0</td>\n",
       "      <td>1.0</td>\n",
       "      <td>0.0</td>\n",
       "      <td>0.0</td>\n",
       "      <td>0.0</td>\n",
       "      <td>29.4</td>\n",
       "      <td>0.0</td>\n",
       "      <td>0.0</td>\n",
       "      <td>1.0</td>\n",
       "      <td>0.0</td>\n",
       "      <td>0.0</td>\n",
       "      <td>0.0</td>\n",
       "      <td>1</td>\n",
       "    </tr>\n",
       "    <tr>\n",
       "      <th>1</th>\n",
       "      <td>2009</td>\n",
       "      <td>334536</td>\n",
       "      <td>200911</td>\n",
       "      <td>0.0</td>\n",
       "      <td>0.0</td>\n",
       "      <td>0.0</td>\n",
       "      <td>0.0</td>\n",
       "      <td>0.0</td>\n",
       "      <td>1.0</td>\n",
       "      <td>0.0</td>\n",
       "      <td>0.0</td>\n",
       "      <td>0.0</td>\n",
       "      <td>19.4</td>\n",
       "      <td>0.0</td>\n",
       "      <td>0.0</td>\n",
       "      <td>0.0</td>\n",
       "      <td>0.0</td>\n",
       "      <td>0.0</td>\n",
       "      <td>0.0</td>\n",
       "      <td>1</td>\n",
       "    </tr>\n",
       "    <tr>\n",
       "      <th>2</th>\n",
       "      <td>2009</td>\n",
       "      <td>911867</td>\n",
       "      <td>200903</td>\n",
       "      <td>0.0</td>\n",
       "      <td>0.0</td>\n",
       "      <td>0.0</td>\n",
       "      <td>0.0</td>\n",
       "      <td>0.0</td>\n",
       "      <td>1.0</td>\n",
       "      <td>0.0</td>\n",
       "      <td>0.0</td>\n",
       "      <td>0.0</td>\n",
       "      <td>24.5</td>\n",
       "      <td>0.0</td>\n",
       "      <td>0.0</td>\n",
       "      <td>0.0</td>\n",
       "      <td>0.0</td>\n",
       "      <td>0.0</td>\n",
       "      <td>0.0</td>\n",
       "      <td>1</td>\n",
       "    </tr>\n",
       "    <tr>\n",
       "      <th>3</th>\n",
       "      <td>2009</td>\n",
       "      <td>183321</td>\n",
       "      <td>200908</td>\n",
       "      <td>0.0</td>\n",
       "      <td>0.0</td>\n",
       "      <td>0.0</td>\n",
       "      <td>0.0</td>\n",
       "      <td>0.0</td>\n",
       "      <td>1.0</td>\n",
       "      <td>0.0</td>\n",
       "      <td>0.0</td>\n",
       "      <td>0.0</td>\n",
       "      <td>22.1</td>\n",
       "      <td>0.0</td>\n",
       "      <td>0.0</td>\n",
       "      <td>0.0</td>\n",
       "      <td>0.0</td>\n",
       "      <td>0.0</td>\n",
       "      <td>0.0</td>\n",
       "      <td>1</td>\n",
       "    </tr>\n",
       "    <tr>\n",
       "      <th>4</th>\n",
       "      <td>2009</td>\n",
       "      <td>942671</td>\n",
       "      <td>200909</td>\n",
       "      <td>0.0</td>\n",
       "      <td>0.0</td>\n",
       "      <td>0.0</td>\n",
       "      <td>0.0</td>\n",
       "      <td>0.0</td>\n",
       "      <td>1.0</td>\n",
       "      <td>0.0</td>\n",
       "      <td>0.0</td>\n",
       "      <td>0.0</td>\n",
       "      <td>19.8</td>\n",
       "      <td>0.0</td>\n",
       "      <td>0.0</td>\n",
       "      <td>0.0</td>\n",
       "      <td>0.0</td>\n",
       "      <td>0.0</td>\n",
       "      <td>0.0</td>\n",
       "      <td>1</td>\n",
       "    </tr>\n",
       "    <tr>\n",
       "      <th>...</th>\n",
       "      <td>...</td>\n",
       "      <td>...</td>\n",
       "      <td>...</td>\n",
       "      <td>...</td>\n",
       "      <td>...</td>\n",
       "      <td>...</td>\n",
       "      <td>...</td>\n",
       "      <td>...</td>\n",
       "      <td>...</td>\n",
       "      <td>...</td>\n",
       "      <td>...</td>\n",
       "      <td>...</td>\n",
       "      <td>...</td>\n",
       "      <td>...</td>\n",
       "      <td>...</td>\n",
       "      <td>...</td>\n",
       "      <td>...</td>\n",
       "      <td>...</td>\n",
       "      <td>...</td>\n",
       "      <td>...</td>\n",
       "    </tr>\n",
       "    <tr>\n",
       "      <th>1639</th>\n",
       "      <td>2015</td>\n",
       "      <td>266734</td>\n",
       "      <td>201504</td>\n",
       "      <td>0.0</td>\n",
       "      <td>0.0</td>\n",
       "      <td>0.0</td>\n",
       "      <td>0.0</td>\n",
       "      <td>1.0</td>\n",
       "      <td>2.0</td>\n",
       "      <td>0.0</td>\n",
       "      <td>2.0</td>\n",
       "      <td>10.0</td>\n",
       "      <td>26.0</td>\n",
       "      <td>0.0</td>\n",
       "      <td>0.0</td>\n",
       "      <td>0.0</td>\n",
       "      <td>0.0</td>\n",
       "      <td>0.0</td>\n",
       "      <td>0.0</td>\n",
       "      <td>4</td>\n",
       "    </tr>\n",
       "    <tr>\n",
       "      <th>1640</th>\n",
       "      <td>2015</td>\n",
       "      <td>343874</td>\n",
       "      <td>201511</td>\n",
       "      <td>0.0</td>\n",
       "      <td>0.0</td>\n",
       "      <td>0.0</td>\n",
       "      <td>0.0</td>\n",
       "      <td>0.0</td>\n",
       "      <td>2.0</td>\n",
       "      <td>0.0</td>\n",
       "      <td>0.0</td>\n",
       "      <td>0.0</td>\n",
       "      <td>25.0</td>\n",
       "      <td>0.0</td>\n",
       "      <td>0.0</td>\n",
       "      <td>0.0</td>\n",
       "      <td>1.0</td>\n",
       "      <td>0.0</td>\n",
       "      <td>0.0</td>\n",
       "      <td>3</td>\n",
       "    </tr>\n",
       "    <tr>\n",
       "      <th>1641</th>\n",
       "      <td>2015</td>\n",
       "      <td>798472</td>\n",
       "      <td>201507</td>\n",
       "      <td>0.0</td>\n",
       "      <td>0.0</td>\n",
       "      <td>0.0</td>\n",
       "      <td>0.0</td>\n",
       "      <td>0.0</td>\n",
       "      <td>2.0</td>\n",
       "      <td>0.0</td>\n",
       "      <td>0.0</td>\n",
       "      <td>0.0</td>\n",
       "      <td>23.7</td>\n",
       "      <td>0.0</td>\n",
       "      <td>0.0</td>\n",
       "      <td>0.0</td>\n",
       "      <td>0.0</td>\n",
       "      <td>0.0</td>\n",
       "      <td>0.0</td>\n",
       "      <td>1</td>\n",
       "    </tr>\n",
       "    <tr>\n",
       "      <th>1642</th>\n",
       "      <td>2015</td>\n",
       "      <td>720080</td>\n",
       "      <td>201505</td>\n",
       "      <td>0.0</td>\n",
       "      <td>0.0</td>\n",
       "      <td>0.0</td>\n",
       "      <td>1.0</td>\n",
       "      <td>0.0</td>\n",
       "      <td>2.0</td>\n",
       "      <td>0.0</td>\n",
       "      <td>1.0</td>\n",
       "      <td>7.0</td>\n",
       "      <td>25.7</td>\n",
       "      <td>0.0</td>\n",
       "      <td>0.0</td>\n",
       "      <td>0.0</td>\n",
       "      <td>0.0</td>\n",
       "      <td>0.0</td>\n",
       "      <td>0.0</td>\n",
       "      <td>5</td>\n",
       "    </tr>\n",
       "    <tr>\n",
       "      <th>1643</th>\n",
       "      <td>2015</td>\n",
       "      <td>127519</td>\n",
       "      <td>201511</td>\n",
       "      <td>0.0</td>\n",
       "      <td>0.0</td>\n",
       "      <td>0.0</td>\n",
       "      <td>0.0</td>\n",
       "      <td>0.0</td>\n",
       "      <td>2.0</td>\n",
       "      <td>0.0</td>\n",
       "      <td>4.0</td>\n",
       "      <td>14.0</td>\n",
       "      <td>29.8</td>\n",
       "      <td>0.0</td>\n",
       "      <td>0.0</td>\n",
       "      <td>1.0</td>\n",
       "      <td>0.0</td>\n",
       "      <td>0.0</td>\n",
       "      <td>0.0</td>\n",
       "      <td>4</td>\n",
       "    </tr>\n",
       "  </tbody>\n",
       "</table>\n",
       "<p>1644 rows × 20 columns</p>\n",
       "</div>"
      ],
      "text/plain": [
       "     EXMD_BZ_YYYY  RN_INDI HME_YYYYMM  Q_FHX_HTN  Q_FHX_STK  Q_FHX_HTDZ  \\\n",
       "0            2009   562083     200909        1.0        0.0         0.0   \n",
       "1            2009   334536     200911        0.0        0.0         0.0   \n",
       "2            2009   911867     200903        0.0        0.0         0.0   \n",
       "3            2009   183321     200908        0.0        0.0         0.0   \n",
       "4            2009   942671     200909        0.0        0.0         0.0   \n",
       "...           ...      ...        ...        ...        ...         ...   \n",
       "1639         2015   266734     201504        0.0        0.0         0.0   \n",
       "1640         2015   343874     201511        0.0        0.0         0.0   \n",
       "1641         2015   798472     201507        0.0        0.0         0.0   \n",
       "1642         2015   720080     201505        0.0        0.0         0.0   \n",
       "1643         2015   127519     201511        0.0        0.0         0.0   \n",
       "\n",
       "      Q_FHX_DM  Q_FHX_ETC  Q_SMK_YN  Q_SMK_NOW_AMT_V09N  Q_DRK_FRQ_V09N  \\\n",
       "0          0.0        0.0       1.0                 0.0             0.0   \n",
       "1          0.0        0.0       1.0                 0.0             0.0   \n",
       "2          0.0        0.0       1.0                 0.0             0.0   \n",
       "3          0.0        0.0       1.0                 0.0             0.0   \n",
       "4          0.0        0.0       1.0                 0.0             0.0   \n",
       "...        ...        ...       ...                 ...             ...   \n",
       "1639       0.0        1.0       2.0                 0.0             2.0   \n",
       "1640       0.0        0.0       2.0                 0.0             0.0   \n",
       "1641       0.0        0.0       2.0                 0.0             0.0   \n",
       "1642       1.0        0.0       2.0                 0.0             1.0   \n",
       "1643       0.0        0.0       2.0                 0.0             4.0   \n",
       "\n",
       "      Q_DRK_AMT_V09N  G1E_BMI  Q_PHX_DX_STK  Q_PHX_DX_HTDZ  Q_PHX_DX_HTN  \\\n",
       "0                0.0     29.4           0.0            0.0           1.0   \n",
       "1                0.0     19.4           0.0            0.0           0.0   \n",
       "2                0.0     24.5           0.0            0.0           0.0   \n",
       "3                0.0     22.1           0.0            0.0           0.0   \n",
       "4                0.0     19.8           0.0            0.0           0.0   \n",
       "...              ...      ...           ...            ...           ...   \n",
       "1639            10.0     26.0           0.0            0.0           0.0   \n",
       "1640             0.0     25.0           0.0            0.0           0.0   \n",
       "1641             0.0     23.7           0.0            0.0           0.0   \n",
       "1642             7.0     25.7           0.0            0.0           0.0   \n",
       "1643            14.0     29.8           0.0            0.0           1.0   \n",
       "\n",
       "      Q_PHX_DX_DM  Q_PHX_DX_PTB  Q_PHX_DX_ETC  Q_PA_FRQ  \n",
       "0             0.0           0.0           0.0         1  \n",
       "1             0.0           0.0           0.0         1  \n",
       "2             0.0           0.0           0.0         1  \n",
       "3             0.0           0.0           0.0         1  \n",
       "4             0.0           0.0           0.0         1  \n",
       "...           ...           ...           ...       ...  \n",
       "1639          0.0           0.0           0.0         4  \n",
       "1640          1.0           0.0           0.0         3  \n",
       "1641          0.0           0.0           0.0         1  \n",
       "1642          0.0           0.0           0.0         5  \n",
       "1643          0.0           0.0           0.0         4  \n",
       "\n",
       "[1644 rows x 20 columns]"
      ]
     },
     "execution_count": 229,
     "metadata": {},
     "output_type": "execute_result"
    }
   ],
   "source": [
    "modify_screening2_data"
   ]
  },
  {
   "cell_type": "markdown",
   "metadata": {
    "collapsed": false,
    "pycharm": {
     "name": "#%% md\n"
    }
   },
   "source": [
    "- bmi 건강검진1이랑 값 맞추기"
   ]
  },
  {
   "cell_type": "code",
   "execution_count": null,
   "metadata": {
    "collapsed": false,
    "pycharm": {
     "name": "#%%\n"
    }
   },
   "outputs": [],
   "source": [
    "modify_screening2_data[\"G1E_BMI\"][modify_screening2_data[\"G1E_BMI\"]<= 18.5] = 0\n",
    "modify_screening2_data[\"G1E_BMI\"][(modify_screening2_data[\"G1E_BMI\"]<= 25.0) & (modify_screening2_data[\"G1E_BMI\"]>18.5)] = 1\n",
    "modify_screening2_data[\"G1E_BMI\"][(modify_screening2_data[\"G1E_BMI\"]<= 30.0) & (modify_screening2_data[\"G1E_BMI\"]>25.0)] = 2\n",
    "modify_screening2_data[\"G1E_BMI\"][modify_screening2_data[\"G1E_BMI\"]> 30.0] = 3"
   ]
  },
  {
   "cell_type": "code",
   "execution_count": 231,
   "metadata": {
    "collapsed": false,
    "pycharm": {
     "name": "#%%\n"
    }
   },
   "outputs": [
    {
     "data": {
      "text/plain": [
       "0       2.0\n",
       "1       1.0\n",
       "2       1.0\n",
       "3       1.0\n",
       "4       1.0\n",
       "       ... \n",
       "1639    2.0\n",
       "1640    1.0\n",
       "1641    1.0\n",
       "1642    2.0\n",
       "1643    2.0\n",
       "Name: G1E_BMI, Length: 1644, dtype: float64"
      ]
     },
     "execution_count": 231,
     "metadata": {},
     "output_type": "execute_result"
    }
   ],
   "source": [
    "modify_screening2_data[\"G1E_BMI\"]"
   ]
  },
  {
   "cell_type": "code",
   "execution_count": 232,
   "metadata": {
    "collapsed": false,
    "pycharm": {
     "name": "#%%\n"
    }
   },
   "outputs": [],
   "source": [
    "modify_screening2_data[\"G1E_BMI\"] =modify_screening2_data[\"G1E_BMI\"].astype(\"int\")"
   ]
  },
  {
   "cell_type": "markdown",
   "metadata": {
    "collapsed": false
   },
   "source": [
    "- 흡연관련 데이터 건강검진1이랑 값 맞추기"
   ]
  },
  {
   "cell_type": "code",
   "execution_count": 233,
   "metadata": {
    "collapsed": false,
    "pycharm": {
     "name": "#%%\n"
    }
   },
   "outputs": [
    {
     "data": {
      "text/plain": [
       "{0.0,\n",
       " 1.0,\n",
       " 2.0,\n",
       " 3.0,\n",
       " 4.0,\n",
       " 5.0,\n",
       " 6.0,\n",
       " 7.0,\n",
       " 8.0,\n",
       " 9.0,\n",
       " 10.0,\n",
       " 11.0,\n",
       " 12.0,\n",
       " 13.0,\n",
       " 15.0,\n",
       " 17.0,\n",
       " 18.0,\n",
       " 20.0,\n",
       " 22.0,\n",
       " 25.0,\n",
       " 30.0,\n",
       " 35.0,\n",
       " 37.0,\n",
       " 40.0,\n",
       " 50.0}"
      ]
     },
     "execution_count": 233,
     "metadata": {},
     "output_type": "execute_result"
    }
   ],
   "source": [
    "set(modify_screening2_data[\"Q_SMK_NOW_AMT_V09N\"])"
   ]
  },
  {
   "cell_type": "code",
   "execution_count": null,
   "metadata": {
    "collapsed": false,
    "pycharm": {
     "name": "#%%\n"
    }
   },
   "outputs": [],
   "source": [
    "modify_screening2_data[\"Q_SMK_NOW_AMT_V09N\"][(modify_screening2_data[\"Q_SMK_NOW_AMT_V09N\"]>=1)&(modify_screening2_data[\"Q_SMK_NOW_AMT_V09N\"]<10)] = 1\n",
    "modify_screening2_data[\"Q_SMK_NOW_AMT_V09N\"][(modify_screening2_data[\"Q_SMK_NOW_AMT_V09N\"]>=10)&(modify_screening2_data[\"Q_SMK_NOW_AMT_V09N\"]<20)] = 2\n",
    "modify_screening2_data[\"Q_SMK_NOW_AMT_V09N\"][(modify_screening2_data[\"Q_SMK_NOW_AMT_V09N\"]>=20)&(modify_screening2_data[\"Q_SMK_NOW_AMT_V09N\"]<40)] = 3\n",
    "modify_screening2_data[\"Q_SMK_NOW_AMT_V09N\"][modify_screening2_data[\"Q_SMK_NOW_AMT_V09N\"]>= 40.0] = 4"
   ]
  },
  {
   "cell_type": "markdown",
   "metadata": {
    "collapsed": false,
    "pycharm": {
     "name": "#%% md\n"
    }
   },
   "source": [
    "- 음주관련 데이터 건강검진1과 맞추기"
   ]
  },
  {
   "cell_type": "code",
   "execution_count": 235,
   "metadata": {
    "collapsed": false,
    "pycharm": {
     "name": "#%%\n"
    }
   },
   "outputs": [
    {
     "data": {
      "text/plain": [
       "0.0     759\n",
       "7.0     130\n",
       "3.0     127\n",
       "10.0    123\n",
       "2.0     102\n",
       "5.0      88\n",
       "1.0      84\n",
       "4.0      70\n",
       "6.0      41\n",
       "8.0      38\n",
       "14.0     23\n",
       "20.0     17\n",
       "15.0     14\n",
       "12.0      8\n",
       "16.0      8\n",
       "30.0      3\n",
       "13.0      3\n",
       "9.0       2\n",
       "21.0      1\n",
       "24.0      1\n",
       "27.0      1\n",
       "17.0      1\n",
       "Name: Q_DRK_AMT_V09N, dtype: int64"
      ]
     },
     "execution_count": 235,
     "metadata": {},
     "output_type": "execute_result"
    }
   ],
   "source": [
    "modify_screening2_data[\"Q_DRK_AMT_V09N\"].value_counts()"
   ]
  },
  {
   "cell_type": "code",
   "execution_count": null,
   "metadata": {
    "collapsed": false,
    "pycharm": {
     "name": "#%%\n"
    }
   },
   "outputs": [],
   "source": [
    "modify_screening2_data[\"Q_DRK_AMT_V09N\"][modify_screening2_data[\"Q_DRK_AMT_V09N\"]<=4]=1\n",
    "modify_screening2_data[\"Q_DRK_AMT_V09N\"][(modify_screening2_data[\"Q_DRK_AMT_V09N\"]>4)&(modify_screening2_data[\"Q_DRK_AMT_V09N\"]<=7)]=2\n",
    "modify_screening2_data[\"Q_DRK_AMT_V09N\"][(modify_screening2_data[\"Q_DRK_AMT_V09N\"]>7)&(modify_screening2_data[\"Q_DRK_AMT_V09N\"]<=11)]=3\n",
    "modify_screening2_data[\"Q_DRK_AMT_V09N\"][modify_screening2_data[\"Q_DRK_AMT_V09N\"]>11]=4"
   ]
  },
  {
   "cell_type": "code",
   "execution_count": 237,
   "metadata": {
    "collapsed": false,
    "pycharm": {
     "name": "#%%\n"
    }
   },
   "outputs": [],
   "source": [
    "modify_screening2_data[\"Q_DRK_AMT_V09N\"] = modify_screening2_data[\"Q_DRK_AMT_V09N\"].astype(\"int\")"
   ]
  },
  {
   "cell_type": "code",
   "execution_count": null,
   "metadata": {
    "collapsed": false,
    "pycharm": {
     "name": "#%%\n"
    }
   },
   "outputs": [],
   "source": [
    "for idx, freq in enumerate(modify_screening2_data[\"Q_DRK_FRQ_V09N\"]):\n",
    "    if freq == 0:modify_screening2_data[\"Q_DRK_FRQ_V09N\"][idx] = 1\n",
    "    elif freq == 1:modify_screening2_data[\"Q_DRK_FRQ_V09N\"][idx] = 1\n",
    "    elif freq == 2:modify_screening2_data[\"Q_DRK_FRQ_V09N\"][idx] = 2\n",
    "    elif freq == 3:modify_screening2_data[\"Q_DRK_FRQ_V09N\"][idx] = 4\n",
    "    elif freq == 4:modify_screening2_data[\"Q_DRK_FRQ_V09N\"][idx] = 4\n",
    "    elif freq == 5:modify_screening2_data[\"Q_DRK_FRQ_V09N\"][idx] = 5\n",
    "    elif freq == 6:modify_screening2_data[\"Q_DRK_FRQ_V09N\"][idx] = 5\n",
    "    elif freq >= 7:modify_screening2_data[\"Q_DRK_FRQ_V09N\"][idx] = 5"
   ]
  },
  {
   "cell_type": "markdown",
   "metadata": {
    "collapsed": false,
    "pycharm": {
     "name": "#%% md\n"
    }
   },
   "source": [
    "- 건강검진1에 맞게 변수명 바꾸기"
   ]
  },
  {
   "cell_type": "code",
   "execution_count": 239,
   "metadata": {
    "collapsed": false,
    "pycharm": {
     "name": "#%%\n"
    }
   },
   "outputs": [],
   "source": [
    "modify_screening2_data.rename(columns={\"Q_SMK_NOW_AMT_V09N\":\"Q_SMK_NOW_AMT_V0108\",\"Q_DRK_FRQ_V09N\":\"Q_DRK_FRQ_V0108\",\"Q_DRK_AMT_V09N\":\"Q_DRK_AMT_V0108\"},inplace=True)"
   ]
  },
  {
   "cell_type": "code",
   "execution_count": 240,
   "metadata": {
    "collapsed": false,
    "pycharm": {
     "name": "#%%\n"
    }
   },
   "outputs": [
    {
     "name": "stdout",
     "output_type": "stream",
     "text": [
      "EXMD_BZ_YYYY\n",
      "RN_INDI\n",
      "HME_YYYYMM\n",
      "Q_FHX_HTN\n",
      "Q_FHX_STK\n",
      "Q_FHX_HTDZ\n",
      "Q_FHX_DM\n",
      "Q_FHX_ETC\n",
      "Q_SMK_YN\n",
      "Q_SMK_NOW_AMT_V0108\n",
      "Q_DRK_FRQ_V0108\n",
      "Q_DRK_AMT_V0108\n",
      "G1E_BMI\n",
      "Q_PHX_DX_STK\n",
      "Q_PHX_DX_HTDZ\n",
      "Q_PHX_DX_HTN\n",
      "Q_PHX_DX_DM\n",
      "Q_PHX_DX_PTB\n",
      "Q_PHX_DX_ETC\n",
      "Q_PA_FRQ\n",
      "\n",
      "\n",
      "EXMD_BZ_YYYY\n",
      "RN_INDI\n",
      "HME_YYYYMM\n",
      "Q_FHX_HTN\n",
      "Q_FHX_STK\n",
      "Q_FHX_HTDZ\n",
      "Q_FHX_DM\n",
      "Q_FHX_ETC\n",
      "Q_DRK_FRQ_V0108\n",
      "Q_DRK_AMT_V0108\n",
      "Q_SMK_YN\n",
      "Q_SMK_NOW_AMT_V0108\n",
      "Q_PA_FRQ\n",
      "G1E_BMI\n",
      "Q_PHX_DX_STK\n",
      "Q_PHX_DX_HTDZ\n",
      "Q_PHX_DX_HTN\n",
      "Q_PHX_DX_DM\n",
      "Q_PHX_DX_PTB\n",
      "Q_PHX_DX_ETC\n"
     ]
    }
   ],
   "source": [
    "for col,item in modify_screening2_data.iteritems():\n",
    "    print(col)\n",
    "print('\\n')\n",
    "for col,item in merge_data.iteritems():\n",
    "    print(col)"
   ]
  },
  {
   "cell_type": "code",
   "execution_count": 241,
   "metadata": {
    "collapsed": false,
    "pycharm": {
     "name": "#%%\n"
    }
   },
   "outputs": [],
   "source": [
    "merge_data = merge_data.astype(\"int\")"
   ]
  },
  {
   "cell_type": "code",
   "execution_count": 242,
   "metadata": {
    "collapsed": false,
    "pycharm": {
     "name": "#%%\n"
    }
   },
   "outputs": [],
   "source": [
    "modify_screening2_data = modify_screening2_data.astype(\"int\")"
   ]
  },
  {
   "cell_type": "code",
   "execution_count": 243,
   "metadata": {
    "collapsed": false,
    "pycharm": {
     "name": "#%%\n"
    }
   },
   "outputs": [
    {
     "name": "stdout",
     "output_type": "stream",
     "text": [
      "EXMD_BZ_YYYY\n",
      "{2009, 2010, 2011, 2012, 2013, 2014, 2015}\n",
      "RN_INDI\n",
      "{294913, 829452, 145424, 964637, 587805, 665633, 495650, 92198, 706602, 825387, 215084, 370738, 38967, 301124, 680010, 335948, 815191, 245849, 606303, 305256, 354421, 725112, 628858, 942204, 909438, 166015, 741504, 739454, 297087, 383109, 948365, 483473, 979090, 237719, 26776, 403607, 92313, 321692, 473250, 4263, 688302, 948405, 336055, 637115, 446652, 764100, 356551, 393421, 727245, 979151, 626896, 839897, 483546, 2270, 346335, 698594, 897251, 96484, 6374, 889062, 884968, 637160, 149741, 194801, 674034, 51442, 768249, 153851, 874754, 663811, 753924, 219397, 559370, 999693, 47374, 762129, 915731, 975124, 334101, 860440, 882980, 870692, 422180, 397613, 874800, 39217, 262452, 559420, 848190, 452930, 921924, 553285, 444740, 418137, 364892, 41309, 84322, 606567, 80234, 934252, 483693, 88450, 344450, 416133, 637320, 717196, 688532, 45461, 911766, 285079, 321944, 582044, 979358, 518558, 49567, 686497, 760226, 532905, 166324, 264628, 793017, 817595, 356798, 874943, 752067, 84427, 182741, 676313, 633307, 414177, 266734, 125422, 211438, 53748, 690677, 674294, 692726, 279031, 233974, 911867, 211452, 145918, 946687, 995838, 395781, 985608, 979469, 784916, 430621, 418334, 127519, 377375, 303645, 82470, 530990, 782896, 592434, 4664, 447033, 231997, 586305, 889412, 598598, 819784, 942671, 737871, 811603, 27226, 322147, 393830, 383603, 582270, 950911, 479874, 199298, 107142, 670343, 518792, 627341, 590480, 121496, 225956, 354989, 17079, 299704, 432825, 756414, 334536, 416462, 621264, 277202, 725720, 490204, 330466, 549602, 633585, 60147, 801526, 570104, 391933, 699142, 422663, 387855, 668438, 68379, 326432, 461601, 230178, 512815, 60216, 314169, 260923, 611137, 123714, 934726, 344905, 394061, 203606, 944984, 27490, 830306, 160611, 570215, 584556, 934772, 985972, 908152, 367481, 66424, 951170, 347014, 691082, 375694, 836494, 525200, 437139, 506774, 203673, 562083, 641955, 267185, 195513, 56250, 318399, 1010623, 680897, 177099, 238542, 611279, 265168, 738257, 82901, 9175, 715739, 701404, 562142, 572384, 347108, 390119, 531439, 316400, 326639, 437237, 502784, 519172, 674823, 248846, 752655, 900114, 582676, 183321, 492570, 771097, 463902, 814115, 916515, 693283, 750632, 154665, 486441, 468010, 435246, 914480, 773168, 459837, 365630, 302146, 138307, 324678, 130119, 775244, 572493, 326742, 412761, 466014, 115809, 883814, 924778, 359531, 828529, 242807, 345207, 554112, 652416, 23682, 781445, 572549, 887943, 535689, 803990, 46233, 498848, 146593, 134307, 138407, 986287, 750776, 146621, 332997, 814279, 318669, 435405, 607439, 720080, 91351, 7386, 781532, 126173, 623836, 797920, 367840, 85219, 412901, 386280, 107753, 13546, 875758, 42231, 185597, 593157, 197894, 992522, 224527, 105746, 316695, 140568, 58649, 529690, 242976, 226594, 183606, 660791, 480569, 163129, 517447, 613708, 585046, 118108, 210270, 79207, 793962, 357738, 243053, 550255, 177527, 599419, 839037, 877959, 775563, 77197, 394639, 880016, 79250, 144786, 591253, 480668, 306589, 834975, 628127, 802213, 501161, 888234, 929195, 701869, 593325, 898484, 538038, 122296, 724414, 892360, 859599, 212433, 554452, 441816, 962008, 824794, 734700, 941551, 421359, 888305, 515572, 204278, 763384, 97785, 230908, 179714, 699907, 814600, 925195, 376332, 548365, 792082, 808467, 79379, 749074, 491031, 218649, 904730, 46621, 194080, 568865, 914987, 411180, 558657, 396870, 179785, 5707, 99917, 153174, 742999, 554585, 120410, 126561, 83553, 3690, 284267, 484978, 478840, 335484, 9866, 370314, 444042, 259727, 519824, 849556, 181909, 497301, 149142, 558741, 597659, 720544, 777889, 661154, 335520, 56993, 790184, 431791, 695991, 868027, 853696, 1005250, 196293, 247493, 353996, 198350, 87762, 186069, 573141, 970458, 317148, 302816, 689889, 427754, 560878, 663279, 136945, 642807, 487160, 976635, 102141, 718591, 347907, 98052, 315140, 798472, 714509, 364304, 481042, 917270, 69398, 128799, 532261, 827174, 440107, 669498, 300860, 102206, 163650, 325443, 694083, 343874, 657227, 978767, 835408, 642899, 925523, 161624, 671580, 913247, 114537, 36714, 831349, 886653, 698245, 860038, 974726, 468872, 112523, 602007, 122776, 720792, 30622, 71582, 747424, 776098, 1009573, 995240, 540586, 227244, 606125, 266165, 733109, 311226, 204730, 716732, 913340, 182208, 876492, 546772, 290774, 872410, 161754, 909278, 952290, 440295, 778228, 716799}\n",
      "HME_YYYYMM\n",
      "{201301, 201302, 201303, 201304, 201305, 201306, 201307, 201308, 201309, 201310, 201311, 201312, 201401, 201402, 201403, 201404, 201405, 201406, 201407, 201408, 201409, 201410, 201411, 201412, 200901, 200902, 200903, 200904, 200905, 200906, 200907, 200908, 200909, 200910, 200911, 200912, 201501, 201502, 201503, 201504, 201505, 201506, 201507, 201508, 201509, 201510, 201511, 201512, 201001, 201002, 201003, 201004, 201005, 201006, 201007, 201008, 201009, 201010, 201011, 201012, 201101, 201102, 201103, 201104, 201105, 201106, 201107, 201108, 201109, 201110, 201111, 201112, 201201, 201202, 201203, 201204, 201205, 201206, 201207, 201208, 201209, 201210, 201211, 201212}\n",
      "Q_FHX_HTN\n",
      "{0, 1}\n",
      "Q_FHX_STK\n",
      "{0, 1}\n",
      "Q_FHX_HTDZ\n",
      "{0, 1}\n",
      "Q_FHX_DM\n",
      "{0, 1}\n",
      "Q_FHX_ETC\n",
      "{0, 1}\n",
      "Q_SMK_YN\n",
      "{1, 2, 3}\n",
      "Q_SMK_NOW_AMT_V0108\n",
      "{0, 1, 2, 3, 4}\n",
      "Q_DRK_FRQ_V0108\n",
      "{1, 2, 4, 5}\n",
      "Q_DRK_AMT_V0108\n",
      "{1, 2, 3, 4}\n",
      "G1E_BMI\n",
      "{0, 1, 2, 3}\n",
      "Q_PHX_DX_STK\n",
      "{0, 1}\n",
      "Q_PHX_DX_HTDZ\n",
      "{0, 1}\n",
      "Q_PHX_DX_HTN\n",
      "{0, 1}\n",
      "Q_PHX_DX_DM\n",
      "{0, 1}\n",
      "Q_PHX_DX_PTB\n",
      "{0, 1}\n",
      "Q_PHX_DX_ETC\n",
      "{0, 1}\n",
      "Q_PA_FRQ\n",
      "{1, 2, 3, 4, 5}\n",
      "EXMD_BZ_YYYY\n",
      "{2002, 2003, 2004, 2005, 2006, 2007, 2008}\n",
      "RN_INDI\n",
      "{964637, 665633, 495650, 706602, 825387, 215084, 370738, 38967, 680010, 335948, 245849, 606303, 358502, 354421, 725112, 628858, 741504, 383109, 948365, 483473, 237719, 26776, 403607, 805018, 321692, 473250, 329890, 4263, 688302, 948405, 637115, 446652, 979151, 626896, 483546, 346335, 698594, 897251, 96484, 6374, 884968, 637160, 149741, 194801, 674034, 768249, 153851, 874754, 663811, 753924, 219397, 559370, 971021, 999693, 915731, 975124, 882980, 422180, 397613, 874800, 39217, 262452, 956735, 921924, 418137, 84322, 606567, 80234, 88450, 416133, 637320, 717196, 688532, 45461, 321944, 518558, 979358, 686497, 166324, 264628, 793017, 874943, 752067, 182741, 676313, 633307, 266734, 125422, 53748, 690677, 692726, 674294, 279031, 911867, 211452, 395781, 985608, 430621, 127519, 377375, 631331, 82470, 530990, 782896, 592434, 4664, 447033, 971325, 598598, 819784, 942671, 737871, 27226, 322147, 393830, 356971, 950911, 479874, 518792, 627341, 590480, 225956, 354989, 17079, 299704, 432825, 756414, 334536, 621264, 330466, 633585, 60147, 391933, 699142, 422663, 387855, 668438, 68379, 326432, 230178, 60216, 314169, 736057, 260923, 791353, 611137, 123714, 840515, 344905, 394061, 475986, 944984, 27490, 160611, 985972, 934772, 908152, 375694, 525200, 437139, 203673, 641955, 562083, 267185, 195513, 56250, 144317, 318399, 814015, 680897, 238542, 738257, 9175, 715739, 701404, 572384, 347108, 390119, 541685, 437237, 627701, 748540, 519172, 674823, 752655, 900114, 582676, 183321, 492570, 463902, 814115, 693283, 916515, 750632, 486441, 914480, 459837, 365630, 324678, 130119, 291910, 775244, 572493, 412761, 466014, 115809, 924778, 828529, 242807, 707707, 23682, 781445, 887943, 535689, 421007, 803990, 46233, 498848, 146593, 134307, 138407, 986287, 332997, 814279, 318669, 435405, 720080, 7386, 623836, 126173, 781532, 797920, 367840, 85219, 412901, 386280, 107753, 875758, 42231, 185597, 197894, 992522, 105746, 140568, 529690, 242976, 660791, 480569, 517447, 613708, 585046, 79207, 793962, 443755, 243053, 550255, 599419, 540028, 877959, 775563, 505228, 77197, 157073, 144786, 79250, 933265, 480668, 306589, 591264, 802213, 501161, 888234, 929195, 898484, 122296, 437697, 507330, 892360, 859599, 212433, 554452, 441816, 363994, 824794, 234977, 167400, 734700, 941551, 364020, 204278, 763384, 179714, 699907, 814600, 925195, 376332, 749074, 808467, 79379, 491031, 218649, 46621, 194080, 568865, 411180, 179785, 5707, 99917, 554585, 120410, 126561, 83553, 284267, 484978, 478840, 370314, 259727, 497301, 149142, 181909, 870041, 597659, 335520, 56993, 661154, 777889, 720544, 708262, 695991, 868027, 196293, 87762, 186069, 573141, 970458, 317148, 302816, 689889, 427754, 663279, 642807, 487160, 976635, 102141, 347907, 315140, 798472, 935698, 917270, 128799, 706339, 532261, 261941, 669498, 300860, 102206, 343874, 325443, 694083, 163650, 954192, 835408, 925523, 642899, 161624, 671580, 913247, 784232, 114537, 36714, 900980, 831349, 886653, 698245, 974726, 860038, 602007, 720792, 122776, 30622, 71582, 776098, 1009573, 995240, 540586, 266165, 733109, 913340, 888765, 69579, 876492, 161754, 440295, 778228, 716799}\n",
      "HME_YYYYMM\n",
      "{200704, 200705, 200706, 200707, 200708, 200709, 200710, 200711, 200712, 200201, 200203, 200205, 200206, 200207, 200208, 200209, 200210, 200211, 200212, 200801, 200802, 200803, 200804, 200805, 200806, 200807, 200808, 200809, 200810, 200811, 200812, 200302, 200303, 200304, 200305, 200306, 200307, 200308, 200309, 200310, 200311, 200312, 200402, 200403, 200404, 200405, 200406, 200407, 200408, 200409, 200410, 200411, 200412, 200502, 200503, 200504, 200505, 200506, 200507, 200508, 200509, 200510, 200511, 200512, 200602, 200603, 200604, 200605, 200606, 200607, 200608, 200609, 200610, 200611, 200612, 200701, 200702, 200703}\n",
      "Q_FHX_HTN\n",
      "{0, 1}\n",
      "Q_FHX_STK\n",
      "{0, 1}\n",
      "Q_FHX_HTDZ\n",
      "{0, 1}\n",
      "Q_FHX_DM\n",
      "{0, 1}\n",
      "Q_FHX_ETC\n",
      "{0, 1}\n",
      "Q_DRK_FRQ_V0108\n",
      "{1, 2, 3, 4, 5}\n",
      "Q_DRK_AMT_V0108\n",
      "{1, 2, 3, 4}\n",
      "Q_SMK_YN\n",
      "{1, 2, 3}\n",
      "Q_SMK_NOW_AMT_V0108\n",
      "{0, 1, 2, 3, 4}\n",
      "Q_PA_FRQ\n",
      "{1, 2, 3, 4, 5}\n",
      "G1E_BMI\n",
      "{0, 1, 2, 3}\n",
      "Q_PHX_DX_STK\n",
      "{0, 1}\n",
      "Q_PHX_DX_HTDZ\n",
      "{0, 1}\n",
      "Q_PHX_DX_HTN\n",
      "{0, 1}\n",
      "Q_PHX_DX_DM\n",
      "{0, 1}\n",
      "Q_PHX_DX_PTB\n",
      "{0, 1}\n",
      "Q_PHX_DX_ETC\n",
      "{0, 1}\n"
     ]
    }
   ],
   "source": [
    "for col,item in modify_screening2_data.iteritems():\n",
    "    print(col)\n",
    "    print(set(item))\n",
    "\n",
    "for col,item in merge_data.iteritems():\n",
    "    print(col)\n",
    "    print(set(item))"
   ]
  },
  {
   "cell_type": "code",
   "execution_count": 244,
   "metadata": {
    "collapsed": false,
    "pycharm": {
     "name": "#%%\n"
    }
   },
   "outputs": [
    {
     "data": {
      "text/plain": [
       "20"
      ]
     },
     "execution_count": 244,
     "metadata": {},
     "output_type": "execute_result"
    }
   ],
   "source": [
    "len(modify_screening2_data.columns)"
   ]
  },
  {
   "cell_type": "code",
   "execution_count": 245,
   "metadata": {
    "collapsed": false,
    "pycharm": {
     "name": "#%%\n"
    }
   },
   "outputs": [],
   "source": [
    "merge_data = pd.concat([merge_data, modify_screening2_data])"
   ]
  },
  {
   "cell_type": "code",
   "execution_count": 246,
   "metadata": {
    "collapsed": false,
    "pycharm": {
     "name": "#%%\n"
    }
   },
   "outputs": [
    {
     "data": {
      "text/html": [
       "<div>\n",
       "<style scoped>\n",
       "    .dataframe tbody tr th:only-of-type {\n",
       "        vertical-align: middle;\n",
       "    }\n",
       "\n",
       "    .dataframe tbody tr th {\n",
       "        vertical-align: top;\n",
       "    }\n",
       "\n",
       "    .dataframe thead th {\n",
       "        text-align: right;\n",
       "    }\n",
       "</style>\n",
       "<table border=\"1\" class=\"dataframe\">\n",
       "  <thead>\n",
       "    <tr style=\"text-align: right;\">\n",
       "      <th></th>\n",
       "      <th>EXMD_BZ_YYYY</th>\n",
       "      <th>RN_INDI</th>\n",
       "      <th>HME_YYYYMM</th>\n",
       "      <th>Q_FHX_HTN</th>\n",
       "      <th>Q_FHX_STK</th>\n",
       "      <th>Q_FHX_HTDZ</th>\n",
       "      <th>Q_FHX_DM</th>\n",
       "      <th>Q_FHX_ETC</th>\n",
       "      <th>Q_DRK_FRQ_V0108</th>\n",
       "      <th>Q_DRK_AMT_V0108</th>\n",
       "      <th>Q_SMK_YN</th>\n",
       "      <th>Q_SMK_NOW_AMT_V0108</th>\n",
       "      <th>Q_PA_FRQ</th>\n",
       "      <th>G1E_BMI</th>\n",
       "      <th>Q_PHX_DX_STK</th>\n",
       "      <th>Q_PHX_DX_HTDZ</th>\n",
       "      <th>Q_PHX_DX_HTN</th>\n",
       "      <th>Q_PHX_DX_DM</th>\n",
       "      <th>Q_PHX_DX_PTB</th>\n",
       "      <th>Q_PHX_DX_ETC</th>\n",
       "    </tr>\n",
       "  </thead>\n",
       "  <tbody>\n",
       "    <tr>\n",
       "      <th>0</th>\n",
       "      <td>2002</td>\n",
       "      <td>572493</td>\n",
       "      <td>200211</td>\n",
       "      <td>0</td>\n",
       "      <td>0</td>\n",
       "      <td>0</td>\n",
       "      <td>0</td>\n",
       "      <td>0</td>\n",
       "      <td>1</td>\n",
       "      <td>1</td>\n",
       "      <td>1</td>\n",
       "      <td>0</td>\n",
       "      <td>1</td>\n",
       "      <td>1</td>\n",
       "      <td>0</td>\n",
       "      <td>0</td>\n",
       "      <td>0</td>\n",
       "      <td>0</td>\n",
       "      <td>0</td>\n",
       "      <td>0</td>\n",
       "    </tr>\n",
       "    <tr>\n",
       "      <th>1</th>\n",
       "      <td>2002</td>\n",
       "      <td>874800</td>\n",
       "      <td>200207</td>\n",
       "      <td>0</td>\n",
       "      <td>0</td>\n",
       "      <td>0</td>\n",
       "      <td>0</td>\n",
       "      <td>0</td>\n",
       "      <td>1</td>\n",
       "      <td>1</td>\n",
       "      <td>1</td>\n",
       "      <td>0</td>\n",
       "      <td>2</td>\n",
       "      <td>2</td>\n",
       "      <td>0</td>\n",
       "      <td>0</td>\n",
       "      <td>0</td>\n",
       "      <td>0</td>\n",
       "      <td>0</td>\n",
       "      <td>0</td>\n",
       "    </tr>\n",
       "    <tr>\n",
       "      <th>2</th>\n",
       "      <td>2002</td>\n",
       "      <td>88450</td>\n",
       "      <td>200207</td>\n",
       "      <td>0</td>\n",
       "      <td>0</td>\n",
       "      <td>0</td>\n",
       "      <td>0</td>\n",
       "      <td>1</td>\n",
       "      <td>1</td>\n",
       "      <td>1</td>\n",
       "      <td>1</td>\n",
       "      <td>0</td>\n",
       "      <td>2</td>\n",
       "      <td>1</td>\n",
       "      <td>0</td>\n",
       "      <td>0</td>\n",
       "      <td>0</td>\n",
       "      <td>0</td>\n",
       "      <td>0</td>\n",
       "      <td>0</td>\n",
       "    </tr>\n",
       "    <tr>\n",
       "      <th>3</th>\n",
       "      <td>2002</td>\n",
       "      <td>56993</td>\n",
       "      <td>200212</td>\n",
       "      <td>0</td>\n",
       "      <td>0</td>\n",
       "      <td>0</td>\n",
       "      <td>1</td>\n",
       "      <td>0</td>\n",
       "      <td>2</td>\n",
       "      <td>2</td>\n",
       "      <td>1</td>\n",
       "      <td>0</td>\n",
       "      <td>1</td>\n",
       "      <td>2</td>\n",
       "      <td>0</td>\n",
       "      <td>0</td>\n",
       "      <td>0</td>\n",
       "      <td>0</td>\n",
       "      <td>0</td>\n",
       "      <td>0</td>\n",
       "    </tr>\n",
       "    <tr>\n",
       "      <th>4</th>\n",
       "      <td>2002</td>\n",
       "      <td>591264</td>\n",
       "      <td>200210</td>\n",
       "      <td>0</td>\n",
       "      <td>0</td>\n",
       "      <td>0</td>\n",
       "      <td>0</td>\n",
       "      <td>0</td>\n",
       "      <td>2</td>\n",
       "      <td>2</td>\n",
       "      <td>3</td>\n",
       "      <td>2</td>\n",
       "      <td>1</td>\n",
       "      <td>2</td>\n",
       "      <td>0</td>\n",
       "      <td>0</td>\n",
       "      <td>0</td>\n",
       "      <td>0</td>\n",
       "      <td>0</td>\n",
       "      <td>0</td>\n",
       "    </tr>\n",
       "    <tr>\n",
       "      <th>...</th>\n",
       "      <td>...</td>\n",
       "      <td>...</td>\n",
       "      <td>...</td>\n",
       "      <td>...</td>\n",
       "      <td>...</td>\n",
       "      <td>...</td>\n",
       "      <td>...</td>\n",
       "      <td>...</td>\n",
       "      <td>...</td>\n",
       "      <td>...</td>\n",
       "      <td>...</td>\n",
       "      <td>...</td>\n",
       "      <td>...</td>\n",
       "      <td>...</td>\n",
       "      <td>...</td>\n",
       "      <td>...</td>\n",
       "      <td>...</td>\n",
       "      <td>...</td>\n",
       "      <td>...</td>\n",
       "      <td>...</td>\n",
       "    </tr>\n",
       "    <tr>\n",
       "      <th>1639</th>\n",
       "      <td>2015</td>\n",
       "      <td>266734</td>\n",
       "      <td>201504</td>\n",
       "      <td>0</td>\n",
       "      <td>0</td>\n",
       "      <td>0</td>\n",
       "      <td>0</td>\n",
       "      <td>1</td>\n",
       "      <td>2</td>\n",
       "      <td>3</td>\n",
       "      <td>2</td>\n",
       "      <td>0</td>\n",
       "      <td>4</td>\n",
       "      <td>2</td>\n",
       "      <td>0</td>\n",
       "      <td>0</td>\n",
       "      <td>0</td>\n",
       "      <td>0</td>\n",
       "      <td>0</td>\n",
       "      <td>0</td>\n",
       "    </tr>\n",
       "    <tr>\n",
       "      <th>1640</th>\n",
       "      <td>2015</td>\n",
       "      <td>343874</td>\n",
       "      <td>201511</td>\n",
       "      <td>0</td>\n",
       "      <td>0</td>\n",
       "      <td>0</td>\n",
       "      <td>0</td>\n",
       "      <td>0</td>\n",
       "      <td>1</td>\n",
       "      <td>1</td>\n",
       "      <td>2</td>\n",
       "      <td>0</td>\n",
       "      <td>3</td>\n",
       "      <td>1</td>\n",
       "      <td>0</td>\n",
       "      <td>0</td>\n",
       "      <td>0</td>\n",
       "      <td>1</td>\n",
       "      <td>0</td>\n",
       "      <td>0</td>\n",
       "    </tr>\n",
       "    <tr>\n",
       "      <th>1641</th>\n",
       "      <td>2015</td>\n",
       "      <td>798472</td>\n",
       "      <td>201507</td>\n",
       "      <td>0</td>\n",
       "      <td>0</td>\n",
       "      <td>0</td>\n",
       "      <td>0</td>\n",
       "      <td>0</td>\n",
       "      <td>1</td>\n",
       "      <td>1</td>\n",
       "      <td>2</td>\n",
       "      <td>0</td>\n",
       "      <td>1</td>\n",
       "      <td>1</td>\n",
       "      <td>0</td>\n",
       "      <td>0</td>\n",
       "      <td>0</td>\n",
       "      <td>0</td>\n",
       "      <td>0</td>\n",
       "      <td>0</td>\n",
       "    </tr>\n",
       "    <tr>\n",
       "      <th>1642</th>\n",
       "      <td>2015</td>\n",
       "      <td>720080</td>\n",
       "      <td>201505</td>\n",
       "      <td>0</td>\n",
       "      <td>0</td>\n",
       "      <td>0</td>\n",
       "      <td>1</td>\n",
       "      <td>0</td>\n",
       "      <td>1</td>\n",
       "      <td>2</td>\n",
       "      <td>2</td>\n",
       "      <td>0</td>\n",
       "      <td>5</td>\n",
       "      <td>2</td>\n",
       "      <td>0</td>\n",
       "      <td>0</td>\n",
       "      <td>0</td>\n",
       "      <td>0</td>\n",
       "      <td>0</td>\n",
       "      <td>0</td>\n",
       "    </tr>\n",
       "    <tr>\n",
       "      <th>1643</th>\n",
       "      <td>2015</td>\n",
       "      <td>127519</td>\n",
       "      <td>201511</td>\n",
       "      <td>0</td>\n",
       "      <td>0</td>\n",
       "      <td>0</td>\n",
       "      <td>0</td>\n",
       "      <td>0</td>\n",
       "      <td>4</td>\n",
       "      <td>4</td>\n",
       "      <td>2</td>\n",
       "      <td>0</td>\n",
       "      <td>4</td>\n",
       "      <td>2</td>\n",
       "      <td>0</td>\n",
       "      <td>0</td>\n",
       "      <td>1</td>\n",
       "      <td>0</td>\n",
       "      <td>0</td>\n",
       "      <td>0</td>\n",
       "    </tr>\n",
       "  </tbody>\n",
       "</table>\n",
       "<p>2695 rows × 20 columns</p>\n",
       "</div>"
      ],
      "text/plain": [
       "      EXMD_BZ_YYYY  RN_INDI  HME_YYYYMM  Q_FHX_HTN  Q_FHX_STK  Q_FHX_HTDZ  \\\n",
       "0             2002   572493      200211          0          0           0   \n",
       "1             2002   874800      200207          0          0           0   \n",
       "2             2002    88450      200207          0          0           0   \n",
       "3             2002    56993      200212          0          0           0   \n",
       "4             2002   591264      200210          0          0           0   \n",
       "...            ...      ...         ...        ...        ...         ...   \n",
       "1639          2015   266734      201504          0          0           0   \n",
       "1640          2015   343874      201511          0          0           0   \n",
       "1641          2015   798472      201507          0          0           0   \n",
       "1642          2015   720080      201505          0          0           0   \n",
       "1643          2015   127519      201511          0          0           0   \n",
       "\n",
       "      Q_FHX_DM  Q_FHX_ETC  Q_DRK_FRQ_V0108  Q_DRK_AMT_V0108  Q_SMK_YN  \\\n",
       "0            0          0                1                1         1   \n",
       "1            0          0                1                1         1   \n",
       "2            0          1                1                1         1   \n",
       "3            1          0                2                2         1   \n",
       "4            0          0                2                2         3   \n",
       "...        ...        ...              ...              ...       ...   \n",
       "1639         0          1                2                3         2   \n",
       "1640         0          0                1                1         2   \n",
       "1641         0          0                1                1         2   \n",
       "1642         1          0                1                2         2   \n",
       "1643         0          0                4                4         2   \n",
       "\n",
       "      Q_SMK_NOW_AMT_V0108  Q_PA_FRQ  G1E_BMI  Q_PHX_DX_STK  Q_PHX_DX_HTDZ  \\\n",
       "0                       0         1        1             0              0   \n",
       "1                       0         2        2             0              0   \n",
       "2                       0         2        1             0              0   \n",
       "3                       0         1        2             0              0   \n",
       "4                       2         1        2             0              0   \n",
       "...                   ...       ...      ...           ...            ...   \n",
       "1639                    0         4        2             0              0   \n",
       "1640                    0         3        1             0              0   \n",
       "1641                    0         1        1             0              0   \n",
       "1642                    0         5        2             0              0   \n",
       "1643                    0         4        2             0              0   \n",
       "\n",
       "      Q_PHX_DX_HTN  Q_PHX_DX_DM  Q_PHX_DX_PTB  Q_PHX_DX_ETC  \n",
       "0                0            0             0             0  \n",
       "1                0            0             0             0  \n",
       "2                0            0             0             0  \n",
       "3                0            0             0             0  \n",
       "4                0            0             0             0  \n",
       "...            ...          ...           ...           ...  \n",
       "1639             0            0             0             0  \n",
       "1640             0            1             0             0  \n",
       "1641             0            0             0             0  \n",
       "1642             0            0             0             0  \n",
       "1643             1            0             0             0  \n",
       "\n",
       "[2695 rows x 20 columns]"
      ]
     },
     "execution_count": 246,
     "metadata": {},
     "output_type": "execute_result"
    }
   ],
   "source": [
    "merge_data"
   ]
  },
  {
   "cell_type": "code",
   "execution_count": 247,
   "metadata": {
    "collapsed": false,
    "pycharm": {
     "name": "#%%\n"
    }
   },
   "outputs": [],
   "source": [
    "merge_data.reset_index(inplace=True,drop=True)"
   ]
  },
  {
   "cell_type": "code",
   "execution_count": 248,
   "metadata": {
    "collapsed": false,
    "pycharm": {
     "name": "#%%\n"
    }
   },
   "outputs": [
    {
     "data": {
      "text/html": [
       "<div>\n",
       "<style scoped>\n",
       "    .dataframe tbody tr th:only-of-type {\n",
       "        vertical-align: middle;\n",
       "    }\n",
       "\n",
       "    .dataframe tbody tr th {\n",
       "        vertical-align: top;\n",
       "    }\n",
       "\n",
       "    .dataframe thead th {\n",
       "        text-align: right;\n",
       "    }\n",
       "</style>\n",
       "<table border=\"1\" class=\"dataframe\">\n",
       "  <thead>\n",
       "    <tr style=\"text-align: right;\">\n",
       "      <th></th>\n",
       "      <th>EXMD_BZ_YYYY</th>\n",
       "      <th>RN_INDI</th>\n",
       "      <th>HME_YYYYMM</th>\n",
       "      <th>Q_FHX_HTN</th>\n",
       "      <th>Q_FHX_STK</th>\n",
       "      <th>Q_FHX_HTDZ</th>\n",
       "      <th>Q_FHX_DM</th>\n",
       "      <th>Q_FHX_ETC</th>\n",
       "      <th>Q_DRK_FRQ_V0108</th>\n",
       "      <th>Q_DRK_AMT_V0108</th>\n",
       "      <th>Q_SMK_YN</th>\n",
       "      <th>Q_SMK_NOW_AMT_V0108</th>\n",
       "      <th>Q_PA_FRQ</th>\n",
       "      <th>G1E_BMI</th>\n",
       "      <th>Q_PHX_DX_STK</th>\n",
       "      <th>Q_PHX_DX_HTDZ</th>\n",
       "      <th>Q_PHX_DX_HTN</th>\n",
       "      <th>Q_PHX_DX_DM</th>\n",
       "      <th>Q_PHX_DX_PTB</th>\n",
       "      <th>Q_PHX_DX_ETC</th>\n",
       "    </tr>\n",
       "  </thead>\n",
       "  <tbody>\n",
       "    <tr>\n",
       "      <th>0</th>\n",
       "      <td>2002</td>\n",
       "      <td>572493</td>\n",
       "      <td>200211</td>\n",
       "      <td>0</td>\n",
       "      <td>0</td>\n",
       "      <td>0</td>\n",
       "      <td>0</td>\n",
       "      <td>0</td>\n",
       "      <td>1</td>\n",
       "      <td>1</td>\n",
       "      <td>1</td>\n",
       "      <td>0</td>\n",
       "      <td>1</td>\n",
       "      <td>1</td>\n",
       "      <td>0</td>\n",
       "      <td>0</td>\n",
       "      <td>0</td>\n",
       "      <td>0</td>\n",
       "      <td>0</td>\n",
       "      <td>0</td>\n",
       "    </tr>\n",
       "    <tr>\n",
       "      <th>1</th>\n",
       "      <td>2002</td>\n",
       "      <td>874800</td>\n",
       "      <td>200207</td>\n",
       "      <td>0</td>\n",
       "      <td>0</td>\n",
       "      <td>0</td>\n",
       "      <td>0</td>\n",
       "      <td>0</td>\n",
       "      <td>1</td>\n",
       "      <td>1</td>\n",
       "      <td>1</td>\n",
       "      <td>0</td>\n",
       "      <td>2</td>\n",
       "      <td>2</td>\n",
       "      <td>0</td>\n",
       "      <td>0</td>\n",
       "      <td>0</td>\n",
       "      <td>0</td>\n",
       "      <td>0</td>\n",
       "      <td>0</td>\n",
       "    </tr>\n",
       "    <tr>\n",
       "      <th>2</th>\n",
       "      <td>2002</td>\n",
       "      <td>88450</td>\n",
       "      <td>200207</td>\n",
       "      <td>0</td>\n",
       "      <td>0</td>\n",
       "      <td>0</td>\n",
       "      <td>0</td>\n",
       "      <td>1</td>\n",
       "      <td>1</td>\n",
       "      <td>1</td>\n",
       "      <td>1</td>\n",
       "      <td>0</td>\n",
       "      <td>2</td>\n",
       "      <td>1</td>\n",
       "      <td>0</td>\n",
       "      <td>0</td>\n",
       "      <td>0</td>\n",
       "      <td>0</td>\n",
       "      <td>0</td>\n",
       "      <td>0</td>\n",
       "    </tr>\n",
       "    <tr>\n",
       "      <th>3</th>\n",
       "      <td>2002</td>\n",
       "      <td>56993</td>\n",
       "      <td>200212</td>\n",
       "      <td>0</td>\n",
       "      <td>0</td>\n",
       "      <td>0</td>\n",
       "      <td>1</td>\n",
       "      <td>0</td>\n",
       "      <td>2</td>\n",
       "      <td>2</td>\n",
       "      <td>1</td>\n",
       "      <td>0</td>\n",
       "      <td>1</td>\n",
       "      <td>2</td>\n",
       "      <td>0</td>\n",
       "      <td>0</td>\n",
       "      <td>0</td>\n",
       "      <td>0</td>\n",
       "      <td>0</td>\n",
       "      <td>0</td>\n",
       "    </tr>\n",
       "    <tr>\n",
       "      <th>4</th>\n",
       "      <td>2002</td>\n",
       "      <td>591264</td>\n",
       "      <td>200210</td>\n",
       "      <td>0</td>\n",
       "      <td>0</td>\n",
       "      <td>0</td>\n",
       "      <td>0</td>\n",
       "      <td>0</td>\n",
       "      <td>2</td>\n",
       "      <td>2</td>\n",
       "      <td>3</td>\n",
       "      <td>2</td>\n",
       "      <td>1</td>\n",
       "      <td>2</td>\n",
       "      <td>0</td>\n",
       "      <td>0</td>\n",
       "      <td>0</td>\n",
       "      <td>0</td>\n",
       "      <td>0</td>\n",
       "      <td>0</td>\n",
       "    </tr>\n",
       "    <tr>\n",
       "      <th>...</th>\n",
       "      <td>...</td>\n",
       "      <td>...</td>\n",
       "      <td>...</td>\n",
       "      <td>...</td>\n",
       "      <td>...</td>\n",
       "      <td>...</td>\n",
       "      <td>...</td>\n",
       "      <td>...</td>\n",
       "      <td>...</td>\n",
       "      <td>...</td>\n",
       "      <td>...</td>\n",
       "      <td>...</td>\n",
       "      <td>...</td>\n",
       "      <td>...</td>\n",
       "      <td>...</td>\n",
       "      <td>...</td>\n",
       "      <td>...</td>\n",
       "      <td>...</td>\n",
       "      <td>...</td>\n",
       "      <td>...</td>\n",
       "    </tr>\n",
       "    <tr>\n",
       "      <th>2690</th>\n",
       "      <td>2015</td>\n",
       "      <td>266734</td>\n",
       "      <td>201504</td>\n",
       "      <td>0</td>\n",
       "      <td>0</td>\n",
       "      <td>0</td>\n",
       "      <td>0</td>\n",
       "      <td>1</td>\n",
       "      <td>2</td>\n",
       "      <td>3</td>\n",
       "      <td>2</td>\n",
       "      <td>0</td>\n",
       "      <td>4</td>\n",
       "      <td>2</td>\n",
       "      <td>0</td>\n",
       "      <td>0</td>\n",
       "      <td>0</td>\n",
       "      <td>0</td>\n",
       "      <td>0</td>\n",
       "      <td>0</td>\n",
       "    </tr>\n",
       "    <tr>\n",
       "      <th>2691</th>\n",
       "      <td>2015</td>\n",
       "      <td>343874</td>\n",
       "      <td>201511</td>\n",
       "      <td>0</td>\n",
       "      <td>0</td>\n",
       "      <td>0</td>\n",
       "      <td>0</td>\n",
       "      <td>0</td>\n",
       "      <td>1</td>\n",
       "      <td>1</td>\n",
       "      <td>2</td>\n",
       "      <td>0</td>\n",
       "      <td>3</td>\n",
       "      <td>1</td>\n",
       "      <td>0</td>\n",
       "      <td>0</td>\n",
       "      <td>0</td>\n",
       "      <td>1</td>\n",
       "      <td>0</td>\n",
       "      <td>0</td>\n",
       "    </tr>\n",
       "    <tr>\n",
       "      <th>2692</th>\n",
       "      <td>2015</td>\n",
       "      <td>798472</td>\n",
       "      <td>201507</td>\n",
       "      <td>0</td>\n",
       "      <td>0</td>\n",
       "      <td>0</td>\n",
       "      <td>0</td>\n",
       "      <td>0</td>\n",
       "      <td>1</td>\n",
       "      <td>1</td>\n",
       "      <td>2</td>\n",
       "      <td>0</td>\n",
       "      <td>1</td>\n",
       "      <td>1</td>\n",
       "      <td>0</td>\n",
       "      <td>0</td>\n",
       "      <td>0</td>\n",
       "      <td>0</td>\n",
       "      <td>0</td>\n",
       "      <td>0</td>\n",
       "    </tr>\n",
       "    <tr>\n",
       "      <th>2693</th>\n",
       "      <td>2015</td>\n",
       "      <td>720080</td>\n",
       "      <td>201505</td>\n",
       "      <td>0</td>\n",
       "      <td>0</td>\n",
       "      <td>0</td>\n",
       "      <td>1</td>\n",
       "      <td>0</td>\n",
       "      <td>1</td>\n",
       "      <td>2</td>\n",
       "      <td>2</td>\n",
       "      <td>0</td>\n",
       "      <td>5</td>\n",
       "      <td>2</td>\n",
       "      <td>0</td>\n",
       "      <td>0</td>\n",
       "      <td>0</td>\n",
       "      <td>0</td>\n",
       "      <td>0</td>\n",
       "      <td>0</td>\n",
       "    </tr>\n",
       "    <tr>\n",
       "      <th>2694</th>\n",
       "      <td>2015</td>\n",
       "      <td>127519</td>\n",
       "      <td>201511</td>\n",
       "      <td>0</td>\n",
       "      <td>0</td>\n",
       "      <td>0</td>\n",
       "      <td>0</td>\n",
       "      <td>0</td>\n",
       "      <td>4</td>\n",
       "      <td>4</td>\n",
       "      <td>2</td>\n",
       "      <td>0</td>\n",
       "      <td>4</td>\n",
       "      <td>2</td>\n",
       "      <td>0</td>\n",
       "      <td>0</td>\n",
       "      <td>1</td>\n",
       "      <td>0</td>\n",
       "      <td>0</td>\n",
       "      <td>0</td>\n",
       "    </tr>\n",
       "  </tbody>\n",
       "</table>\n",
       "<p>2695 rows × 20 columns</p>\n",
       "</div>"
      ],
      "text/plain": [
       "      EXMD_BZ_YYYY  RN_INDI  HME_YYYYMM  Q_FHX_HTN  Q_FHX_STK  Q_FHX_HTDZ  \\\n",
       "0             2002   572493      200211          0          0           0   \n",
       "1             2002   874800      200207          0          0           0   \n",
       "2             2002    88450      200207          0          0           0   \n",
       "3             2002    56993      200212          0          0           0   \n",
       "4             2002   591264      200210          0          0           0   \n",
       "...            ...      ...         ...        ...        ...         ...   \n",
       "2690          2015   266734      201504          0          0           0   \n",
       "2691          2015   343874      201511          0          0           0   \n",
       "2692          2015   798472      201507          0          0           0   \n",
       "2693          2015   720080      201505          0          0           0   \n",
       "2694          2015   127519      201511          0          0           0   \n",
       "\n",
       "      Q_FHX_DM  Q_FHX_ETC  Q_DRK_FRQ_V0108  Q_DRK_AMT_V0108  Q_SMK_YN  \\\n",
       "0            0          0                1                1         1   \n",
       "1            0          0                1                1         1   \n",
       "2            0          1                1                1         1   \n",
       "3            1          0                2                2         1   \n",
       "4            0          0                2                2         3   \n",
       "...        ...        ...              ...              ...       ...   \n",
       "2690         0          1                2                3         2   \n",
       "2691         0          0                1                1         2   \n",
       "2692         0          0                1                1         2   \n",
       "2693         1          0                1                2         2   \n",
       "2694         0          0                4                4         2   \n",
       "\n",
       "      Q_SMK_NOW_AMT_V0108  Q_PA_FRQ  G1E_BMI  Q_PHX_DX_STK  Q_PHX_DX_HTDZ  \\\n",
       "0                       0         1        1             0              0   \n",
       "1                       0         2        2             0              0   \n",
       "2                       0         2        1             0              0   \n",
       "3                       0         1        2             0              0   \n",
       "4                       2         1        2             0              0   \n",
       "...                   ...       ...      ...           ...            ...   \n",
       "2690                    0         4        2             0              0   \n",
       "2691                    0         3        1             0              0   \n",
       "2692                    0         1        1             0              0   \n",
       "2693                    0         5        2             0              0   \n",
       "2694                    0         4        2             0              0   \n",
       "\n",
       "      Q_PHX_DX_HTN  Q_PHX_DX_DM  Q_PHX_DX_PTB  Q_PHX_DX_ETC  \n",
       "0                0            0             0             0  \n",
       "1                0            0             0             0  \n",
       "2                0            0             0             0  \n",
       "3                0            0             0             0  \n",
       "4                0            0             0             0  \n",
       "...            ...          ...           ...           ...  \n",
       "2690             0            0             0             0  \n",
       "2691             0            1             0             0  \n",
       "2692             0            0             0             0  \n",
       "2693             0            0             0             0  \n",
       "2694             1            0             0             0  \n",
       "\n",
       "[2695 rows x 20 columns]"
      ]
     },
     "execution_count": 248,
     "metadata": {},
     "output_type": "execute_result"
    }
   ],
   "source": [
    "merge_data"
   ]
  },
  {
   "cell_type": "code",
   "execution_count": 249,
   "metadata": {
    "collapsed": false,
    "pycharm": {
     "name": "#%%\n"
    }
   },
   "outputs": [
    {
     "data": {
      "text/plain": [
       "589"
      ]
     },
     "execution_count": 249,
     "metadata": {},
     "output_type": "execute_result"
    }
   ],
   "source": [
    "len(set(merge_data[\"RN_INDI\"]))"
   ]
  },
  {
   "cell_type": "markdown",
   "metadata": {
    "collapsed": false
   },
   "source": [
    "### 진료파일과 건강검진의 id 유무 비교\n",
    "- 건강검진의 id가 진료 데이터에 id에 존재하는지 확인"
   ]
  },
  {
   "cell_type": "code",
   "execution_count": 250,
   "metadata": {
    "collapsed": false,
    "pycharm": {
     "name": "#%%\n"
    }
   },
   "outputs": [
    {
     "data": {
      "text/plain": [
       "4542"
      ]
     },
     "execution_count": 250,
     "metadata": {},
     "output_type": "execute_result"
    }
   ],
   "source": [
    "len(set(modify_diagnois_data[\"MCEX_SICK_SYM\"]))"
   ]
  },
  {
   "cell_type": "code",
   "execution_count": 251,
   "metadata": {
    "collapsed": false,
    "pycharm": {
     "name": "#%%\n"
    }
   },
   "outputs": [],
   "source": [
    "disease_byid = {}\n",
    "for id in modify_diagnois_data[\"RN_INDI\"]:\n",
    "    disease_byid[id] = []"
   ]
  },
  {
   "cell_type": "code",
   "execution_count": 252,
   "metadata": {
    "collapsed": false,
    "pycharm": {
     "name": "#%%\n"
    }
   },
   "outputs": [
    {
     "data": {
      "text/plain": [
       "997"
      ]
     },
     "execution_count": 252,
     "metadata": {},
     "output_type": "execute_result"
    }
   ],
   "source": [
    "len(disease_byid.keys())"
   ]
  },
  {
   "cell_type": "code",
   "execution_count": 253,
   "metadata": {
    "collapsed": false,
    "pycharm": {
     "name": "#%%\n"
    }
   },
   "outputs": [
    {
     "data": {
      "text/plain": [
       "395"
      ]
     },
     "execution_count": 253,
     "metadata": {},
     "output_type": "execute_result"
    }
   ],
   "source": [
    "len(set(diagnois_data[\"RN_INDI\"]))\n",
    "len(set(screening_data[\"RN_INDI\"]))"
   ]
  },
  {
   "cell_type": "code",
   "execution_count": 254,
   "metadata": {
    "collapsed": false,
    "pycharm": {
     "name": "#%%\n"
    }
   },
   "outputs": [
    {
     "name": "stdout",
     "output_type": "stream",
     "text": [
      "0\n"
     ]
    }
   ],
   "source": [
    "count = 0\n",
    "idList = list(set(diagnois_data[\"RN_INDI\"]))\n",
    "for id in list(set(screening_data[\"RN_INDI\"])):\n",
    "    if id in idList == False:\n",
    "        count = count + 1\n",
    "print(count)"
   ]
  },
  {
   "cell_type": "markdown",
   "metadata": {
    "collapsed": false
   },
   "source": [
    "### 건강검진 데이터와 진료 데이터 합치기"
   ]
  },
  {
   "cell_type": "code",
   "execution_count": 255,
   "metadata": {
    "collapsed": false,
    "pycharm": {
     "name": "#%%\n"
    }
   },
   "outputs": [],
   "source": [
    "merge_data[\"병유형\"] = [[] for a in range(len(merge_data))]"
   ]
  },
  {
   "cell_type": "code",
   "execution_count": 256,
   "metadata": {
    "collapsed": false,
    "pycharm": {
     "name": "#%%\n"
    }
   },
   "outputs": [
    {
     "data": {
      "text/html": [
       "<div>\n",
       "<style scoped>\n",
       "    .dataframe tbody tr th:only-of-type {\n",
       "        vertical-align: middle;\n",
       "    }\n",
       "\n",
       "    .dataframe tbody tr th {\n",
       "        vertical-align: top;\n",
       "    }\n",
       "\n",
       "    .dataframe thead th {\n",
       "        text-align: right;\n",
       "    }\n",
       "</style>\n",
       "<table border=\"1\" class=\"dataframe\">\n",
       "  <thead>\n",
       "    <tr style=\"text-align: right;\">\n",
       "      <th></th>\n",
       "      <th>EXMD_BZ_YYYY</th>\n",
       "      <th>RN_INDI</th>\n",
       "      <th>HME_YYYYMM</th>\n",
       "      <th>Q_FHX_HTN</th>\n",
       "      <th>Q_FHX_STK</th>\n",
       "      <th>Q_FHX_HTDZ</th>\n",
       "      <th>Q_FHX_DM</th>\n",
       "      <th>Q_FHX_ETC</th>\n",
       "      <th>Q_DRK_FRQ_V0108</th>\n",
       "      <th>Q_DRK_AMT_V0108</th>\n",
       "      <th>...</th>\n",
       "      <th>Q_SMK_NOW_AMT_V0108</th>\n",
       "      <th>Q_PA_FRQ</th>\n",
       "      <th>G1E_BMI</th>\n",
       "      <th>Q_PHX_DX_STK</th>\n",
       "      <th>Q_PHX_DX_HTDZ</th>\n",
       "      <th>Q_PHX_DX_HTN</th>\n",
       "      <th>Q_PHX_DX_DM</th>\n",
       "      <th>Q_PHX_DX_PTB</th>\n",
       "      <th>Q_PHX_DX_ETC</th>\n",
       "      <th>병유형</th>\n",
       "    </tr>\n",
       "  </thead>\n",
       "  <tbody>\n",
       "    <tr>\n",
       "      <th>0</th>\n",
       "      <td>2002</td>\n",
       "      <td>572493</td>\n",
       "      <td>200211</td>\n",
       "      <td>0</td>\n",
       "      <td>0</td>\n",
       "      <td>0</td>\n",
       "      <td>0</td>\n",
       "      <td>0</td>\n",
       "      <td>1</td>\n",
       "      <td>1</td>\n",
       "      <td>...</td>\n",
       "      <td>0</td>\n",
       "      <td>1</td>\n",
       "      <td>1</td>\n",
       "      <td>0</td>\n",
       "      <td>0</td>\n",
       "      <td>0</td>\n",
       "      <td>0</td>\n",
       "      <td>0</td>\n",
       "      <td>0</td>\n",
       "      <td>[]</td>\n",
       "    </tr>\n",
       "    <tr>\n",
       "      <th>1</th>\n",
       "      <td>2002</td>\n",
       "      <td>874800</td>\n",
       "      <td>200207</td>\n",
       "      <td>0</td>\n",
       "      <td>0</td>\n",
       "      <td>0</td>\n",
       "      <td>0</td>\n",
       "      <td>0</td>\n",
       "      <td>1</td>\n",
       "      <td>1</td>\n",
       "      <td>...</td>\n",
       "      <td>0</td>\n",
       "      <td>2</td>\n",
       "      <td>2</td>\n",
       "      <td>0</td>\n",
       "      <td>0</td>\n",
       "      <td>0</td>\n",
       "      <td>0</td>\n",
       "      <td>0</td>\n",
       "      <td>0</td>\n",
       "      <td>[]</td>\n",
       "    </tr>\n",
       "    <tr>\n",
       "      <th>2</th>\n",
       "      <td>2002</td>\n",
       "      <td>88450</td>\n",
       "      <td>200207</td>\n",
       "      <td>0</td>\n",
       "      <td>0</td>\n",
       "      <td>0</td>\n",
       "      <td>0</td>\n",
       "      <td>1</td>\n",
       "      <td>1</td>\n",
       "      <td>1</td>\n",
       "      <td>...</td>\n",
       "      <td>0</td>\n",
       "      <td>2</td>\n",
       "      <td>1</td>\n",
       "      <td>0</td>\n",
       "      <td>0</td>\n",
       "      <td>0</td>\n",
       "      <td>0</td>\n",
       "      <td>0</td>\n",
       "      <td>0</td>\n",
       "      <td>[]</td>\n",
       "    </tr>\n",
       "    <tr>\n",
       "      <th>3</th>\n",
       "      <td>2002</td>\n",
       "      <td>56993</td>\n",
       "      <td>200212</td>\n",
       "      <td>0</td>\n",
       "      <td>0</td>\n",
       "      <td>0</td>\n",
       "      <td>1</td>\n",
       "      <td>0</td>\n",
       "      <td>2</td>\n",
       "      <td>2</td>\n",
       "      <td>...</td>\n",
       "      <td>0</td>\n",
       "      <td>1</td>\n",
       "      <td>2</td>\n",
       "      <td>0</td>\n",
       "      <td>0</td>\n",
       "      <td>0</td>\n",
       "      <td>0</td>\n",
       "      <td>0</td>\n",
       "      <td>0</td>\n",
       "      <td>[]</td>\n",
       "    </tr>\n",
       "    <tr>\n",
       "      <th>4</th>\n",
       "      <td>2002</td>\n",
       "      <td>591264</td>\n",
       "      <td>200210</td>\n",
       "      <td>0</td>\n",
       "      <td>0</td>\n",
       "      <td>0</td>\n",
       "      <td>0</td>\n",
       "      <td>0</td>\n",
       "      <td>2</td>\n",
       "      <td>2</td>\n",
       "      <td>...</td>\n",
       "      <td>2</td>\n",
       "      <td>1</td>\n",
       "      <td>2</td>\n",
       "      <td>0</td>\n",
       "      <td>0</td>\n",
       "      <td>0</td>\n",
       "      <td>0</td>\n",
       "      <td>0</td>\n",
       "      <td>0</td>\n",
       "      <td>[]</td>\n",
       "    </tr>\n",
       "    <tr>\n",
       "      <th>5</th>\n",
       "      <td>2002</td>\n",
       "      <td>808467</td>\n",
       "      <td>200211</td>\n",
       "      <td>0</td>\n",
       "      <td>0</td>\n",
       "      <td>0</td>\n",
       "      <td>0</td>\n",
       "      <td>0</td>\n",
       "      <td>2</td>\n",
       "      <td>2</td>\n",
       "      <td>...</td>\n",
       "      <td>0</td>\n",
       "      <td>1</td>\n",
       "      <td>2</td>\n",
       "      <td>0</td>\n",
       "      <td>0</td>\n",
       "      <td>0</td>\n",
       "      <td>0</td>\n",
       "      <td>0</td>\n",
       "      <td>0</td>\n",
       "      <td>[]</td>\n",
       "    </tr>\n",
       "    <tr>\n",
       "      <th>6</th>\n",
       "      <td>2002</td>\n",
       "      <td>412901</td>\n",
       "      <td>200205</td>\n",
       "      <td>0</td>\n",
       "      <td>0</td>\n",
       "      <td>0</td>\n",
       "      <td>0</td>\n",
       "      <td>0</td>\n",
       "      <td>2</td>\n",
       "      <td>2</td>\n",
       "      <td>...</td>\n",
       "      <td>1</td>\n",
       "      <td>1</td>\n",
       "      <td>2</td>\n",
       "      <td>0</td>\n",
       "      <td>0</td>\n",
       "      <td>0</td>\n",
       "      <td>0</td>\n",
       "      <td>0</td>\n",
       "      <td>0</td>\n",
       "      <td>[]</td>\n",
       "    </tr>\n",
       "    <tr>\n",
       "      <th>7</th>\n",
       "      <td>2002</td>\n",
       "      <td>322147</td>\n",
       "      <td>200212</td>\n",
       "      <td>0</td>\n",
       "      <td>0</td>\n",
       "      <td>0</td>\n",
       "      <td>0</td>\n",
       "      <td>0</td>\n",
       "      <td>1</td>\n",
       "      <td>1</td>\n",
       "      <td>...</td>\n",
       "      <td>0</td>\n",
       "      <td>2</td>\n",
       "      <td>1</td>\n",
       "      <td>0</td>\n",
       "      <td>0</td>\n",
       "      <td>0</td>\n",
       "      <td>0</td>\n",
       "      <td>0</td>\n",
       "      <td>0</td>\n",
       "      <td>[]</td>\n",
       "    </tr>\n",
       "    <tr>\n",
       "      <th>8</th>\n",
       "      <td>2002</td>\n",
       "      <td>370314</td>\n",
       "      <td>200211</td>\n",
       "      <td>1</td>\n",
       "      <td>0</td>\n",
       "      <td>0</td>\n",
       "      <td>0</td>\n",
       "      <td>0</td>\n",
       "      <td>2</td>\n",
       "      <td>1</td>\n",
       "      <td>...</td>\n",
       "      <td>0</td>\n",
       "      <td>1</td>\n",
       "      <td>1</td>\n",
       "      <td>0</td>\n",
       "      <td>0</td>\n",
       "      <td>0</td>\n",
       "      <td>0</td>\n",
       "      <td>0</td>\n",
       "      <td>0</td>\n",
       "      <td>[]</td>\n",
       "    </tr>\n",
       "    <tr>\n",
       "      <th>9</th>\n",
       "      <td>2002</td>\n",
       "      <td>149741</td>\n",
       "      <td>200206</td>\n",
       "      <td>0</td>\n",
       "      <td>0</td>\n",
       "      <td>0</td>\n",
       "      <td>0</td>\n",
       "      <td>0</td>\n",
       "      <td>3</td>\n",
       "      <td>2</td>\n",
       "      <td>...</td>\n",
       "      <td>0</td>\n",
       "      <td>2</td>\n",
       "      <td>1</td>\n",
       "      <td>0</td>\n",
       "      <td>0</td>\n",
       "      <td>0</td>\n",
       "      <td>0</td>\n",
       "      <td>0</td>\n",
       "      <td>0</td>\n",
       "      <td>[]</td>\n",
       "    </tr>\n",
       "  </tbody>\n",
       "</table>\n",
       "<p>10 rows × 21 columns</p>\n",
       "</div>"
      ],
      "text/plain": [
       "   EXMD_BZ_YYYY  RN_INDI  HME_YYYYMM  Q_FHX_HTN  Q_FHX_STK  Q_FHX_HTDZ  \\\n",
       "0          2002   572493      200211          0          0           0   \n",
       "1          2002   874800      200207          0          0           0   \n",
       "2          2002    88450      200207          0          0           0   \n",
       "3          2002    56993      200212          0          0           0   \n",
       "4          2002   591264      200210          0          0           0   \n",
       "5          2002   808467      200211          0          0           0   \n",
       "6          2002   412901      200205          0          0           0   \n",
       "7          2002   322147      200212          0          0           0   \n",
       "8          2002   370314      200211          1          0           0   \n",
       "9          2002   149741      200206          0          0           0   \n",
       "\n",
       "   Q_FHX_DM  Q_FHX_ETC  Q_DRK_FRQ_V0108  Q_DRK_AMT_V0108  ...  \\\n",
       "0         0          0                1                1  ...   \n",
       "1         0          0                1                1  ...   \n",
       "2         0          1                1                1  ...   \n",
       "3         1          0                2                2  ...   \n",
       "4         0          0                2                2  ...   \n",
       "5         0          0                2                2  ...   \n",
       "6         0          0                2                2  ...   \n",
       "7         0          0                1                1  ...   \n",
       "8         0          0                2                1  ...   \n",
       "9         0          0                3                2  ...   \n",
       "\n",
       "   Q_SMK_NOW_AMT_V0108  Q_PA_FRQ  G1E_BMI  Q_PHX_DX_STK  Q_PHX_DX_HTDZ  \\\n",
       "0                    0         1        1             0              0   \n",
       "1                    0         2        2             0              0   \n",
       "2                    0         2        1             0              0   \n",
       "3                    0         1        2             0              0   \n",
       "4                    2         1        2             0              0   \n",
       "5                    0         1        2             0              0   \n",
       "6                    1         1        2             0              0   \n",
       "7                    0         2        1             0              0   \n",
       "8                    0         1        1             0              0   \n",
       "9                    0         2        1             0              0   \n",
       "\n",
       "   Q_PHX_DX_HTN  Q_PHX_DX_DM  Q_PHX_DX_PTB  Q_PHX_DX_ETC  병유형  \n",
       "0             0            0             0             0   []  \n",
       "1             0            0             0             0   []  \n",
       "2             0            0             0             0   []  \n",
       "3             0            0             0             0   []  \n",
       "4             0            0             0             0   []  \n",
       "5             0            0             0             0   []  \n",
       "6             0            0             0             0   []  \n",
       "7             0            0             0             0   []  \n",
       "8             0            0             0             0   []  \n",
       "9             0            0             0             0   []  \n",
       "\n",
       "[10 rows x 21 columns]"
      ]
     },
     "execution_count": 256,
     "metadata": {},
     "output_type": "execute_result"
    }
   ],
   "source": [
    "merge_data[:10]"
   ]
  },
  {
   "cell_type": "code",
   "execution_count": 257,
   "metadata": {
    "collapsed": false,
    "pycharm": {
     "name": "#%%\n"
    }
   },
   "outputs": [],
   "source": [
    "diseaseList = {}\n",
    "for data in set(merge_data[\"RN_INDI\"]):\n",
    "    diseaseList[data] = []\n",
    "for idx, data in enumerate(set(merge_data[\"RN_INDI\"])):\n",
    "    diseaseList[data].append(list(modify_diagnois_data[modify_diagnois_data[\"RN_INDI\"]==data][\"대분류\"]))"
   ]
  },
  {
   "cell_type": "code",
   "execution_count": 258,
   "metadata": {
    "collapsed": false,
    "pycharm": {
     "name": "#%%\n"
    }
   },
   "outputs": [
    {
     "data": {
      "text/html": [
       "<div>\n",
       "<style scoped>\n",
       "    .dataframe tbody tr th:only-of-type {\n",
       "        vertical-align: middle;\n",
       "    }\n",
       "\n",
       "    .dataframe tbody tr th {\n",
       "        vertical-align: top;\n",
       "    }\n",
       "\n",
       "    .dataframe thead th {\n",
       "        text-align: right;\n",
       "    }\n",
       "</style>\n",
       "<table border=\"1\" class=\"dataframe\">\n",
       "  <thead>\n",
       "    <tr style=\"text-align: right;\">\n",
       "      <th></th>\n",
       "      <th>EXMD_BZ_YYYY</th>\n",
       "      <th>RN_INDI</th>\n",
       "      <th>HME_YYYYMM</th>\n",
       "      <th>Q_FHX_HTN</th>\n",
       "      <th>Q_FHX_STK</th>\n",
       "      <th>Q_FHX_HTDZ</th>\n",
       "      <th>Q_FHX_DM</th>\n",
       "      <th>Q_FHX_ETC</th>\n",
       "      <th>Q_DRK_FRQ_V0108</th>\n",
       "      <th>Q_DRK_AMT_V0108</th>\n",
       "      <th>...</th>\n",
       "      <th>Q_SMK_NOW_AMT_V0108</th>\n",
       "      <th>Q_PA_FRQ</th>\n",
       "      <th>G1E_BMI</th>\n",
       "      <th>Q_PHX_DX_STK</th>\n",
       "      <th>Q_PHX_DX_HTDZ</th>\n",
       "      <th>Q_PHX_DX_HTN</th>\n",
       "      <th>Q_PHX_DX_DM</th>\n",
       "      <th>Q_PHX_DX_PTB</th>\n",
       "      <th>Q_PHX_DX_ETC</th>\n",
       "      <th>병유형</th>\n",
       "    </tr>\n",
       "  </thead>\n",
       "  <tbody>\n",
       "    <tr>\n",
       "      <th>0</th>\n",
       "      <td>2002</td>\n",
       "      <td>572493</td>\n",
       "      <td>200211</td>\n",
       "      <td>0</td>\n",
       "      <td>0</td>\n",
       "      <td>0</td>\n",
       "      <td>0</td>\n",
       "      <td>0</td>\n",
       "      <td>1</td>\n",
       "      <td>1</td>\n",
       "      <td>...</td>\n",
       "      <td>0</td>\n",
       "      <td>1</td>\n",
       "      <td>1</td>\n",
       "      <td>0</td>\n",
       "      <td>0</td>\n",
       "      <td>0</td>\n",
       "      <td>0</td>\n",
       "      <td>0</td>\n",
       "      <td>0</td>\n",
       "      <td>[]</td>\n",
       "    </tr>\n",
       "    <tr>\n",
       "      <th>1</th>\n",
       "      <td>2002</td>\n",
       "      <td>874800</td>\n",
       "      <td>200207</td>\n",
       "      <td>0</td>\n",
       "      <td>0</td>\n",
       "      <td>0</td>\n",
       "      <td>0</td>\n",
       "      <td>0</td>\n",
       "      <td>1</td>\n",
       "      <td>1</td>\n",
       "      <td>...</td>\n",
       "      <td>0</td>\n",
       "      <td>2</td>\n",
       "      <td>2</td>\n",
       "      <td>0</td>\n",
       "      <td>0</td>\n",
       "      <td>0</td>\n",
       "      <td>0</td>\n",
       "      <td>0</td>\n",
       "      <td>0</td>\n",
       "      <td>[]</td>\n",
       "    </tr>\n",
       "    <tr>\n",
       "      <th>2</th>\n",
       "      <td>2002</td>\n",
       "      <td>88450</td>\n",
       "      <td>200207</td>\n",
       "      <td>0</td>\n",
       "      <td>0</td>\n",
       "      <td>0</td>\n",
       "      <td>0</td>\n",
       "      <td>1</td>\n",
       "      <td>1</td>\n",
       "      <td>1</td>\n",
       "      <td>...</td>\n",
       "      <td>0</td>\n",
       "      <td>2</td>\n",
       "      <td>1</td>\n",
       "      <td>0</td>\n",
       "      <td>0</td>\n",
       "      <td>0</td>\n",
       "      <td>0</td>\n",
       "      <td>0</td>\n",
       "      <td>0</td>\n",
       "      <td>[]</td>\n",
       "    </tr>\n",
       "    <tr>\n",
       "      <th>3</th>\n",
       "      <td>2002</td>\n",
       "      <td>56993</td>\n",
       "      <td>200212</td>\n",
       "      <td>0</td>\n",
       "      <td>0</td>\n",
       "      <td>0</td>\n",
       "      <td>1</td>\n",
       "      <td>0</td>\n",
       "      <td>2</td>\n",
       "      <td>2</td>\n",
       "      <td>...</td>\n",
       "      <td>0</td>\n",
       "      <td>1</td>\n",
       "      <td>2</td>\n",
       "      <td>0</td>\n",
       "      <td>0</td>\n",
       "      <td>0</td>\n",
       "      <td>0</td>\n",
       "      <td>0</td>\n",
       "      <td>0</td>\n",
       "      <td>[]</td>\n",
       "    </tr>\n",
       "    <tr>\n",
       "      <th>4</th>\n",
       "      <td>2002</td>\n",
       "      <td>591264</td>\n",
       "      <td>200210</td>\n",
       "      <td>0</td>\n",
       "      <td>0</td>\n",
       "      <td>0</td>\n",
       "      <td>0</td>\n",
       "      <td>0</td>\n",
       "      <td>2</td>\n",
       "      <td>2</td>\n",
       "      <td>...</td>\n",
       "      <td>2</td>\n",
       "      <td>1</td>\n",
       "      <td>2</td>\n",
       "      <td>0</td>\n",
       "      <td>0</td>\n",
       "      <td>0</td>\n",
       "      <td>0</td>\n",
       "      <td>0</td>\n",
       "      <td>0</td>\n",
       "      <td>[]</td>\n",
       "    </tr>\n",
       "    <tr>\n",
       "      <th>...</th>\n",
       "      <td>...</td>\n",
       "      <td>...</td>\n",
       "      <td>...</td>\n",
       "      <td>...</td>\n",
       "      <td>...</td>\n",
       "      <td>...</td>\n",
       "      <td>...</td>\n",
       "      <td>...</td>\n",
       "      <td>...</td>\n",
       "      <td>...</td>\n",
       "      <td>...</td>\n",
       "      <td>...</td>\n",
       "      <td>...</td>\n",
       "      <td>...</td>\n",
       "      <td>...</td>\n",
       "      <td>...</td>\n",
       "      <td>...</td>\n",
       "      <td>...</td>\n",
       "      <td>...</td>\n",
       "      <td>...</td>\n",
       "      <td>...</td>\n",
       "    </tr>\n",
       "    <tr>\n",
       "      <th>2690</th>\n",
       "      <td>2015</td>\n",
       "      <td>266734</td>\n",
       "      <td>201504</td>\n",
       "      <td>0</td>\n",
       "      <td>0</td>\n",
       "      <td>0</td>\n",
       "      <td>0</td>\n",
       "      <td>1</td>\n",
       "      <td>2</td>\n",
       "      <td>3</td>\n",
       "      <td>...</td>\n",
       "      <td>0</td>\n",
       "      <td>4</td>\n",
       "      <td>2</td>\n",
       "      <td>0</td>\n",
       "      <td>0</td>\n",
       "      <td>0</td>\n",
       "      <td>0</td>\n",
       "      <td>0</td>\n",
       "      <td>0</td>\n",
       "      <td>[]</td>\n",
       "    </tr>\n",
       "    <tr>\n",
       "      <th>2691</th>\n",
       "      <td>2015</td>\n",
       "      <td>343874</td>\n",
       "      <td>201511</td>\n",
       "      <td>0</td>\n",
       "      <td>0</td>\n",
       "      <td>0</td>\n",
       "      <td>0</td>\n",
       "      <td>0</td>\n",
       "      <td>1</td>\n",
       "      <td>1</td>\n",
       "      <td>...</td>\n",
       "      <td>0</td>\n",
       "      <td>3</td>\n",
       "      <td>1</td>\n",
       "      <td>0</td>\n",
       "      <td>0</td>\n",
       "      <td>0</td>\n",
       "      <td>1</td>\n",
       "      <td>0</td>\n",
       "      <td>0</td>\n",
       "      <td>[]</td>\n",
       "    </tr>\n",
       "    <tr>\n",
       "      <th>2692</th>\n",
       "      <td>2015</td>\n",
       "      <td>798472</td>\n",
       "      <td>201507</td>\n",
       "      <td>0</td>\n",
       "      <td>0</td>\n",
       "      <td>0</td>\n",
       "      <td>0</td>\n",
       "      <td>0</td>\n",
       "      <td>1</td>\n",
       "      <td>1</td>\n",
       "      <td>...</td>\n",
       "      <td>0</td>\n",
       "      <td>1</td>\n",
       "      <td>1</td>\n",
       "      <td>0</td>\n",
       "      <td>0</td>\n",
       "      <td>0</td>\n",
       "      <td>0</td>\n",
       "      <td>0</td>\n",
       "      <td>0</td>\n",
       "      <td>[]</td>\n",
       "    </tr>\n",
       "    <tr>\n",
       "      <th>2693</th>\n",
       "      <td>2015</td>\n",
       "      <td>720080</td>\n",
       "      <td>201505</td>\n",
       "      <td>0</td>\n",
       "      <td>0</td>\n",
       "      <td>0</td>\n",
       "      <td>1</td>\n",
       "      <td>0</td>\n",
       "      <td>1</td>\n",
       "      <td>2</td>\n",
       "      <td>...</td>\n",
       "      <td>0</td>\n",
       "      <td>5</td>\n",
       "      <td>2</td>\n",
       "      <td>0</td>\n",
       "      <td>0</td>\n",
       "      <td>0</td>\n",
       "      <td>0</td>\n",
       "      <td>0</td>\n",
       "      <td>0</td>\n",
       "      <td>[]</td>\n",
       "    </tr>\n",
       "    <tr>\n",
       "      <th>2694</th>\n",
       "      <td>2015</td>\n",
       "      <td>127519</td>\n",
       "      <td>201511</td>\n",
       "      <td>0</td>\n",
       "      <td>0</td>\n",
       "      <td>0</td>\n",
       "      <td>0</td>\n",
       "      <td>0</td>\n",
       "      <td>4</td>\n",
       "      <td>4</td>\n",
       "      <td>...</td>\n",
       "      <td>0</td>\n",
       "      <td>4</td>\n",
       "      <td>2</td>\n",
       "      <td>0</td>\n",
       "      <td>0</td>\n",
       "      <td>1</td>\n",
       "      <td>0</td>\n",
       "      <td>0</td>\n",
       "      <td>0</td>\n",
       "      <td>[]</td>\n",
       "    </tr>\n",
       "  </tbody>\n",
       "</table>\n",
       "<p>2695 rows × 21 columns</p>\n",
       "</div>"
      ],
      "text/plain": [
       "      EXMD_BZ_YYYY  RN_INDI  HME_YYYYMM  Q_FHX_HTN  Q_FHX_STK  Q_FHX_HTDZ  \\\n",
       "0             2002   572493      200211          0          0           0   \n",
       "1             2002   874800      200207          0          0           0   \n",
       "2             2002    88450      200207          0          0           0   \n",
       "3             2002    56993      200212          0          0           0   \n",
       "4             2002   591264      200210          0          0           0   \n",
       "...            ...      ...         ...        ...        ...         ...   \n",
       "2690          2015   266734      201504          0          0           0   \n",
       "2691          2015   343874      201511          0          0           0   \n",
       "2692          2015   798472      201507          0          0           0   \n",
       "2693          2015   720080      201505          0          0           0   \n",
       "2694          2015   127519      201511          0          0           0   \n",
       "\n",
       "      Q_FHX_DM  Q_FHX_ETC  Q_DRK_FRQ_V0108  Q_DRK_AMT_V0108  ...  \\\n",
       "0            0          0                1                1  ...   \n",
       "1            0          0                1                1  ...   \n",
       "2            0          1                1                1  ...   \n",
       "3            1          0                2                2  ...   \n",
       "4            0          0                2                2  ...   \n",
       "...        ...        ...              ...              ...  ...   \n",
       "2690         0          1                2                3  ...   \n",
       "2691         0          0                1                1  ...   \n",
       "2692         0          0                1                1  ...   \n",
       "2693         1          0                1                2  ...   \n",
       "2694         0          0                4                4  ...   \n",
       "\n",
       "      Q_SMK_NOW_AMT_V0108  Q_PA_FRQ  G1E_BMI  Q_PHX_DX_STK  Q_PHX_DX_HTDZ  \\\n",
       "0                       0         1        1             0              0   \n",
       "1                       0         2        2             0              0   \n",
       "2                       0         2        1             0              0   \n",
       "3                       0         1        2             0              0   \n",
       "4                       2         1        2             0              0   \n",
       "...                   ...       ...      ...           ...            ...   \n",
       "2690                    0         4        2             0              0   \n",
       "2691                    0         3        1             0              0   \n",
       "2692                    0         1        1             0              0   \n",
       "2693                    0         5        2             0              0   \n",
       "2694                    0         4        2             0              0   \n",
       "\n",
       "      Q_PHX_DX_HTN  Q_PHX_DX_DM  Q_PHX_DX_PTB  Q_PHX_DX_ETC  병유형  \n",
       "0                0            0             0             0   []  \n",
       "1                0            0             0             0   []  \n",
       "2                0            0             0             0   []  \n",
       "3                0            0             0             0   []  \n",
       "4                0            0             0             0   []  \n",
       "...            ...          ...           ...           ...  ...  \n",
       "2690             0            0             0             0   []  \n",
       "2691             0            1             0             0   []  \n",
       "2692             0            0             0             0   []  \n",
       "2693             0            0             0             0   []  \n",
       "2694             1            0             0             0   []  \n",
       "\n",
       "[2695 rows x 21 columns]"
      ]
     },
     "execution_count": 258,
     "metadata": {},
     "output_type": "execute_result"
    }
   ],
   "source": [
    "merge_data\n"
   ]
  },
  {
   "cell_type": "code",
   "execution_count": 259,
   "metadata": {
    "collapsed": false,
    "pycharm": {
     "name": "#%%\n"
    }
   },
   "outputs": [
    {
     "data": {
      "text/plain": [
       "dict_keys([294913, 829452, 145424, 964637, 587805, 665633, 495650, 92198, 706602, 825387, 215084, 370738, 38967, 301124, 680010, 335948, 815191, 245849, 606303, 358502, 305256, 354421, 725112, 628858, 942204, 909438, 166015, 741504, 739454, 297087, 383109, 948365, 483473, 979090, 237719, 26776, 403607, 805018, 92313, 321692, 473250, 329890, 4263, 688302, 948405, 336055, 637115, 446652, 764100, 356551, 393421, 727245, 979151, 626896, 839897, 483546, 2270, 346335, 698594, 897251, 96484, 6374, 889062, 884968, 637160, 149741, 194801, 674034, 51442, 768249, 153851, 874754, 663811, 753924, 219397, 559370, 971021, 999693, 47374, 762129, 915731, 975124, 334101, 860440, 882980, 422180, 870692, 397613, 874800, 39217, 262452, 559420, 848190, 956735, 452930, 921924, 553285, 444740, 418137, 364892, 41309, 84322, 606567, 80234, 934252, 483693, 88450, 344450, 416133, 637320, 717196, 688532, 45461, 911766, 285079, 321944, 582044, 518558, 979358, 49567, 686497, 760226, 532905, 166324, 264628, 793017, 817595, 356798, 874943, 752067, 84427, 182741, 676313, 633307, 414177, 266734, 125422, 211438, 53748, 690677, 692726, 674294, 279031, 233974, 911867, 211452, 145918, 946687, 995838, 395781, 985608, 979469, 784916, 430621, 418334, 127519, 377375, 303645, 631331, 82470, 530990, 782896, 592434, 4664, 447033, 971325, 231997, 586305, 889412, 598598, 819784, 942671, 737871, 811603, 27226, 322147, 393830, 356971, 383603, 582270, 950911, 479874, 199298, 107142, 670343, 518792, 627341, 590480, 121496, 225956, 354989, 17079, 299704, 432825, 756414, 334536, 416462, 621264, 277202, 725720, 490204, 330466, 549602, 633585, 60147, 801526, 570104, 391933, 699142, 422663, 387855, 668438, 68379, 326432, 461601, 230178, 512815, 60216, 314169, 736057, 260923, 791353, 611137, 123714, 840515, 934726, 344905, 394061, 475986, 203606, 944984, 27490, 160611, 830306, 570215, 584556, 985972, 934772, 908152, 367481, 66424, 951170, 347014, 691082, 375694, 836494, 525200, 437139, 506774, 203673, 641955, 562083, 267185, 195513, 56250, 144317, 318399, 814015, 680897, 1010623, 177099, 238542, 611279, 265168, 738257, 82901, 9175, 715739, 701404, 562142, 572384, 347108, 390119, 531439, 316400, 326639, 541685, 437237, 627701, 748540, 502784, 519172, 674823, 248846, 752655, 900114, 582676, 183321, 492570, 771097, 463902, 814115, 693283, 916515, 750632, 486441, 154665, 468010, 435246, 914480, 773168, 459837, 365630, 302146, 138307, 324678, 130119, 291910, 775244, 572493, 326742, 412761, 466014, 115809, 883814, 924778, 359531, 828529, 242807, 345207, 707707, 554112, 652416, 23682, 781445, 572549, 887943, 535689, 421007, 803990, 46233, 498848, 146593, 134307, 138407, 986287, 750776, 146621, 332997, 814279, 318669, 435405, 607439, 720080, 91351, 7386, 623836, 126173, 781532, 797920, 367840, 85219, 412901, 386280, 107753, 13546, 875758, 42231, 185597, 593157, 197894, 992522, 224527, 105746, 316695, 140568, 58649, 529690, 242976, 226594, 183606, 660791, 480569, 163129, 517447, 613708, 585046, 118108, 210270, 79207, 793962, 443755, 357738, 243053, 550255, 177527, 599419, 540028, 839037, 877959, 775563, 505228, 77197, 394639, 880016, 157073, 144786, 79250, 933265, 591253, 480668, 306589, 834975, 591264, 628127, 802213, 501161, 888234, 929195, 701869, 593325, 898484, 538038, 122296, 724414, 437697, 507330, 892360, 859599, 212433, 554452, 441816, 962008, 363994, 824794, 234977, 167400, 734700, 941551, 421359, 888305, 364020, 515572, 204278, 763384, 97785, 230908, 179714, 699907, 814600, 925195, 376332, 548365, 749074, 808467, 79379, 792082, 491031, 218649, 904730, 46621, 194080, 568865, 914987, 411180, 558657, 396870, 179785, 5707, 99917, 153174, 742999, 554585, 120410, 126561, 83553, 3690, 284267, 484978, 478840, 335484, 370314, 9866, 444042, 259727, 519824, 849556, 497301, 149142, 181909, 558741, 870041, 597659, 335520, 56993, 661154, 777889, 720544, 708262, 790184, 431791, 695991, 868027, 853696, 1005250, 196293, 247493, 353996, 198350, 87762, 186069, 573141, 970458, 317148, 302816, 689889, 427754, 560878, 663279, 136945, 642807, 487160, 976635, 102141, 718591, 347907, 315140, 98052, 798472, 714509, 364304, 935698, 481042, 917270, 69398, 128799, 706339, 532261, 827174, 440107, 261941, 669498, 300860, 102206, 343874, 325443, 694083, 163650, 657227, 978767, 954192, 835408, 925523, 642899, 161624, 671580, 913247, 784232, 114537, 36714, 900980, 831349, 886653, 698245, 974726, 860038, 468872, 112523, 602007, 720792, 122776, 30622, 71582, 747424, 776098, 1009573, 995240, 540586, 227244, 606125, 266165, 733109, 311226, 204730, 913340, 888765, 716732, 182208, 69579, 876492, 546772, 290774, 161754, 872410, 909278, 952290, 440295, 778228, 716799])"
      ]
     },
     "execution_count": 259,
     "metadata": {},
     "output_type": "execute_result"
    }
   ],
   "source": [
    "diseaseList.keys()"
   ]
  },
  {
   "cell_type": "code",
   "execution_count": 260,
   "metadata": {
    "collapsed": false,
    "pycharm": {
     "name": "#%%\n"
    }
   },
   "outputs": [
    {
     "data": {
      "text/plain": [
       "numpy.int32"
      ]
     },
     "execution_count": 260,
     "metadata": {},
     "output_type": "execute_result"
    }
   ],
   "source": [
    "type(merge_data['RN_INDI'][0])"
   ]
  },
  {
   "cell_type": "code",
   "execution_count": 261,
   "metadata": {
    "collapsed": false,
    "pycharm": {
     "name": "#%%\n"
    }
   },
   "outputs": [],
   "source": [
    "def to_bigcategory(code):\n",
    "    if \"_\" in code:\n",
    "        return 0\n",
    "    if len(code) < 1 :\n",
    "        return 0\n",
    "    if code.strip()[0] in [\"A\",\"B\"]:return 1\n",
    "    elif code.strip()[0] in [\"C\"]:return 2\n",
    "    elif code.strip()[0] in [\"D\"]:\n",
    "        if int(code[1:3]) <= 48:\n",
    "            return 2\n",
    "        elif int(code[1:3]) > 48:\n",
    "            return 3\n",
    "    elif code.strip()[0] in [\"E\"]:return 4\n",
    "    elif code.strip()[0] in [\"F\"]:return 5\n",
    "    elif code.strip()[0] in [\"G\"]:return 6\n",
    "    elif code.strip()[0] in [\"H\"]:\n",
    "        if int(code[1:3]) <= 59:\n",
    "            return 7\n",
    "        elif int(code[1:3]) > 59:\n",
    "            return 8\n",
    "    elif code.strip()[0] in [\"I\"]:return 9\n",
    "    elif code.strip()[0] in [\"J\"]:return 10\n",
    "    elif code.strip()[0] in [\"K\"]:return 11\n",
    "    elif code.strip()[0] in [\"L\"]:return 12\n",
    "    elif code.strip()[0] in [\"M\"]:return 13\n",
    "    elif code.strip()[0] in [\"N\"]:return 14\n",
    "    elif code.strip()[0] in [\"O\"]:return 15\n",
    "    elif code.strip()[0] in [\"P\"]:return 16\n",
    "    elif code.strip()[0] in [\"Q\"]:return 17\n",
    "    elif code.strip()[0] in [\"R\"]:return 18\n",
    "    elif code.strip()[0] in [\"S\",\"T\"]:return 19\n",
    "    elif code.strip()[0] in [\"U\"]:return 20\n",
    "    elif code.strip()[0] in [\"V\",\"Y\"]:return 21\n",
    "    elif code.strip()[0] in [\"Z\"]:return 22\n",
    "    return 0"
   ]
  },
  {
   "cell_type": "code",
   "execution_count": 262,
   "metadata": {
    "collapsed": false,
    "pycharm": {
     "name": "#%%\n"
    }
   },
   "outputs": [],
   "source": [
    "for idx, data in enumerate(merge_data[\"RN_INDI\"]):\n",
    "    for code in list(set(diseaseList[data][0])):\n",
    "        big_category= to_bigcategory(code)\n",
    "        merge_data[\"병유형\"][idx].append(big_category)"
   ]
  },
  {
   "cell_type": "code",
   "execution_count": 263,
   "metadata": {
    "collapsed": false,
    "pycharm": {
     "name": "#%%\n"
    }
   },
   "outputs": [
    {
     "name": "stderr",
     "output_type": "stream",
     "text": [
      "C:\\Users\\tlsgh\\anaconda3\\envs\\osaesg\\lib\\site-packages\\ipykernel_launcher.py:2: SettingWithCopyWarning: \n",
      "A value is trying to be set on a copy of a slice from a DataFrame\n",
      "\n",
      "See the caveats in the documentation: https://pandas.pydata.org/pandas-docs/stable/user_guide/indexing.html#returning-a-view-versus-a-copy\n",
      "  \n"
     ]
    }
   ],
   "source": [
    "for idx, data in enumerate(merge_data[\"병유형\"]):\n",
    "    merge_data[\"병유형\"][idx] = list(set(data))"
   ]
  },
  {
   "cell_type": "code",
   "execution_count": 264,
   "metadata": {
    "collapsed": false,
    "pycharm": {
     "name": "#%%\n"
    }
   },
   "outputs": [],
   "source": [
    "merge_data.drop([\"EXMD_BZ_YYYY\",\"RN_INDI\",\"HME_YYYYMM\"],axis=1,inplace=True)"
   ]
  },
  {
   "cell_type": "code",
   "execution_count": 265,
   "metadata": {
    "collapsed": false,
    "pycharm": {
     "name": "#%%\n"
    }
   },
   "outputs": [
    {
     "data": {
      "text/plain": [
       "Q_FHX_HTN                                                        0\n",
       "Q_FHX_STK                                                        0\n",
       "Q_FHX_HTDZ                                                       0\n",
       "Q_FHX_DM                                                         0\n",
       "Q_FHX_ETC                                                        1\n",
       "Q_DRK_FRQ_V0108                                                  2\n",
       "Q_DRK_AMT_V0108                                                  2\n",
       "Q_SMK_YN                                                         1\n",
       "Q_SMK_NOW_AMT_V0108                                              0\n",
       "Q_PA_FRQ                                                         5\n",
       "G1E_BMI                                                          1\n",
       "Q_PHX_DX_STK                                                     0\n",
       "Q_PHX_DX_HTDZ                                                    0\n",
       "Q_PHX_DX_HTN                                                     0\n",
       "Q_PHX_DX_DM                                                      0\n",
       "Q_PHX_DX_PTB                                                     0\n",
       "Q_PHX_DX_ETC                                                     0\n",
       "병유형                    [0, 1, 2, 7, 9, 10, 11, 12, 13, 14, 18, 19]\n",
       "Name: 2595, dtype: object"
      ]
     },
     "execution_count": 265,
     "metadata": {},
     "output_type": "execute_result"
    }
   ],
   "source": [
    "merge_data.iloc[-100]"
   ]
  },
  {
   "cell_type": "markdown",
   "metadata": {
    "collapsed": false,
    "pycharm": {
     "name": "#%% md\n"
    }
   },
   "source": [
    "### AI 모델링\n"
   ]
  },
  {
   "cell_type": "code",
   "execution_count": 266,
   "metadata": {
    "collapsed": false,
    "pycharm": {
     "name": "#%%\n"
    }
   },
   "outputs": [],
   "source": [
    "merge_data[\"병유형\"]\n",
    "label = merge_data[\"병유형\"]"
   ]
  },
  {
   "cell_type": "code",
   "execution_count": 267,
   "metadata": {
    "collapsed": false,
    "pycharm": {
     "name": "#%%\n"
    }
   },
   "outputs": [
    {
     "data": {
      "text/plain": [
       "array([[1, 1, 0, ..., 0, 0, 0],\n",
       "       [1, 1, 1, ..., 0, 0, 1],\n",
       "       [1, 1, 0, ..., 0, 0, 0],\n",
       "       ...,\n",
       "       [1, 0, 0, ..., 0, 0, 0],\n",
       "       [1, 1, 0, ..., 0, 0, 0],\n",
       "       [1, 0, 0, ..., 0, 0, 1]])"
      ]
     },
     "execution_count": 267,
     "metadata": {},
     "output_type": "execute_result"
    }
   ],
   "source": [
    "from sklearn.preprocessing import MultiLabelBinarizer\n",
    "\n",
    "mlb = MultiLabelBinarizer()\n",
    "mlb.fit_transform(label)\n"
   ]
  },
  {
   "cell_type": "code",
   "execution_count": 268,
   "metadata": {
    "collapsed": false,
    "pycharm": {
     "name": "#%%\n"
    }
   },
   "outputs": [],
   "source": [
    "X_train = np.array(merge_data.drop([\"병유형\", 'Q_PHX_DX_STK','Q_PHX_DX_HTDZ','Q_PHX_DX_HTN','Q_PHX_DX_DM','Q_PHX_DX_PTB','Q_PHX_DX_ETC'],axis=1)[:-100])\n",
    "X_test = np.array(merge_data.drop([\"병유형\", 'Q_PHX_DX_STK','Q_PHX_DX_HTDZ','Q_PHX_DX_HTN','Q_PHX_DX_DM','Q_PHX_DX_PTB','Q_PHX_DX_ETC'],axis=1)[-100:])\n",
    "y=mlb.fit_transform(label)\n",
    "y_train= np.array(y[:-100])\n",
    "y_test = np.array(y[-100:])"
   ]
  },
  {
   "cell_type": "code",
   "execution_count": 269,
   "metadata": {
    "collapsed": false,
    "pycharm": {
     "name": "#%%\n"
    }
   },
   "outputs": [
    {
     "name": "stdout",
     "output_type": "stream",
     "text": [
      "1\n",
      "\n",
      "\n",
      "0.6058408675630459\n",
      "2\n",
      "\n",
      "\n",
      "0.5212550201481391\n",
      "3\n",
      "\n",
      "\n",
      "0.5942055108628607\n",
      "4\n",
      "\n",
      "\n",
      "0.5649116544786985\n",
      "5\n",
      "\n",
      "\n",
      "0.6041890101531507\n",
      "6\n",
      "\n",
      "\n",
      "0.5849026935486982\n",
      "7\n",
      "\n",
      "\n",
      "0.6076363720341973\n",
      "8\n",
      "\n",
      "\n",
      "0.5884356855990682\n",
      "9\n",
      "\n",
      "\n",
      "0.6070325647563027\n",
      "10\n",
      "\n",
      "\n",
      "0.5908503098845203\n",
      "11\n",
      "\n",
      "\n",
      "0.6077981806313553\n",
      "12\n",
      "\n",
      "\n",
      "0.5944965045343572\n",
      "13\n",
      "\n",
      "\n",
      "0.6080743311953298\n",
      "14\n",
      "\n",
      "\n",
      "0.5948007147907565\n",
      "15\n",
      "\n",
      "\n",
      "0.6072783816684948\n",
      "16\n",
      "\n",
      "\n",
      "0.5949651442575914\n",
      "17\n",
      "\n",
      "\n",
      "0.605602384794341\n",
      "18\n",
      "\n",
      "\n",
      "0.5948848602517212\n",
      "19\n",
      "\n",
      "\n",
      "0.6068744136185891\n",
      "20\n",
      "\n",
      "\n",
      "0.5950986025989476\n",
      "21\n",
      "\n",
      "\n",
      "0.6014704739889164\n",
      "22\n",
      "\n",
      "\n",
      "0.5936087715824674\n",
      "23\n",
      "\n",
      "\n",
      "0.604606259285773\n",
      "24\n",
      "\n",
      "\n",
      "0.5918958989717656\n",
      "25\n",
      "\n",
      "\n",
      "0.6043014303906075\n",
      "26\n",
      "\n",
      "\n",
      "0.5943708061256034\n",
      "27\n",
      "\n",
      "\n",
      "0.6012575701697033\n",
      "28\n",
      "\n",
      "\n",
      "0.5927758128333527\n",
      "29\n",
      "\n",
      "\n",
      "0.5990322869594306\n",
      "30\n",
      "\n",
      "\n",
      "0.5925238817065035\n",
      "31\n",
      "\n",
      "\n",
      "0.5975720877500938\n",
      "32\n",
      "\n",
      "\n",
      "0.5902055996200568\n",
      "33\n",
      "\n",
      "\n",
      "0.5977319085836089\n",
      "34\n",
      "\n",
      "\n",
      "0.5865348849772325\n",
      "35\n",
      "\n",
      "\n",
      "0.5952913789095932\n",
      "36\n",
      "\n",
      "\n",
      "0.5887039967148064\n",
      "37\n",
      "\n",
      "\n",
      "0.594995652188329\n",
      "38\n",
      "\n",
      "\n",
      "0.5913670606764342\n",
      "39\n",
      "\n",
      "\n",
      "0.5937923783252598\n",
      "40\n",
      "\n",
      "\n",
      "0.5897734463590832\n",
      "41\n",
      "\n",
      "\n",
      "0.5935954624240695\n",
      "42\n",
      "\n",
      "\n",
      "0.58719254690768\n",
      "43\n",
      "\n",
      "\n",
      "0.5942646698509773\n",
      "44\n",
      "\n",
      "\n",
      "0.5846850198900752\n",
      "45\n",
      "\n",
      "\n",
      "0.5900464602915371\n",
      "46\n",
      "\n",
      "\n",
      "0.5828646625641632\n",
      "47\n",
      "\n",
      "\n",
      "0.5887375629525713\n",
      "48\n",
      "\n",
      "\n",
      "0.5846887823690299\n",
      "49\n",
      "\n",
      "\n",
      "0.5844793948510391\n"
     ]
    }
   ],
   "source": [
    "from sklearn.neighbors import KNeighborsClassifier\n",
    "from sklearn.model_selection import cross_val_predict\n",
    "from sklearn.metrics import f1_score\n",
    "for num in range(1,50):\n",
    "    print(num)\n",
    "    print('\\n')\n",
    "    knn_clf = KNeighborsClassifier(n_neighbors=num)\n",
    "    knn_clf.fit(X_train, y_train)\n",
    "    y_train_knn_pred = cross_val_predict(knn_clf, X_train, y_train, cv=3)\n",
    "    print(f1_score(y_train,y_train_knn_pred,average=\"macro\"))"
   ]
  },
  {
   "cell_type": "code",
   "execution_count": 270,
   "metadata": {
    "collapsed": false,
    "pycharm": {
     "name": "#%%\n"
    }
   },
   "outputs": [
    {
     "name": "stdout",
     "output_type": "stream",
     "text": [
      "0.5913670606764342\n"
     ]
    }
   ],
   "source": [
    "knn_clf = KNeighborsClassifier(n_neighbors=38)\n",
    "knn_clf.fit(X_train, y_train)\n",
    "y_train_knn_pred = cross_val_predict(knn_clf, X_train, y_train, cv=3)\n",
    "print(f1_score(y_train,y_train_knn_pred,average=\"macro\"))"
   ]
  },
  {
   "cell_type": "code",
   "execution_count": 271,
   "metadata": {
    "collapsed": false,
    "pycharm": {
     "name": "#%%\n"
    }
   },
   "outputs": [
    {
     "data": {
      "text/plain": [
       "[array([[0.05263158, 0.94736842]]),\n",
       " array([[0.13157895, 0.86842105]]),\n",
       " array([[0.65789474, 0.34210526]]),\n",
       " array([[0.76315789, 0.23684211]]),\n",
       " array([[0.31578947, 0.68421053]]),\n",
       " array([[0.44736842, 0.55263158]]),\n",
       " array([[0.18421053, 0.81578947]]),\n",
       " array([[0.26315789, 0.73684211]]),\n",
       " array([[0.34210526, 0.65789474]]),\n",
       " array([[0., 1.]]),\n",
       " array([[0., 1.]]),\n",
       " array([[0., 1.]]),\n",
       " array([[0.02631579, 0.97368421]]),\n",
       " array([[0.36842105, 0.63157895]]),\n",
       " array([[0.89473684, 0.10526316]]),\n",
       " array([[1., 0.]]),\n",
       " array([[1., 0.]]),\n",
       " array([[0.02631579, 0.97368421]]),\n",
       " array([[0.07894737, 0.92105263]]),\n",
       " array([[1., 0.]]),\n",
       " array([[1., 0.]]),\n",
       " array([[0.73684211, 0.26315789]])]"
      ]
     },
     "execution_count": 271,
     "metadata": {},
     "output_type": "execute_result"
    }
   ],
   "source": [
    "knn_clf.predict_proba(X_test[2].reshape(1,-1))"
   ]
  },
  {
   "cell_type": "code",
   "execution_count": 272,
   "metadata": {
    "collapsed": false,
    "pycharm": {
     "name": "#%%\n"
    }
   },
   "outputs": [],
   "source": [
    "from sklearn.naive_bayes import MultinomialNB\n",
    "Mnb = MultinomialNB()\n",
    "Mnb.fit(X_train,y_train)\n"
   ]
  },
  {
   "cell_type": "code",
   "execution_count": 273,
   "metadata": {
    "collapsed": false,
    "pycharm": {
     "name": "#%%\n"
    }
   },
   "outputs": [
    {
     "name": "stdout",
     "output_type": "stream",
     "text": [
      "[[1 1 1 0 1 1 1 1 1 1 1 1 1 1 0 0 0 1 1 0 0 0]\n",
      " [1 1 0 0 1 1 1 1 1 1 1 1 1 1 0 0 0 1 1 0 0 0]\n",
      " [1 1 0 1 1 1 1 1 1 1 1 1 1 1 0 0 0 1 1 0 0 0]\n",
      " [1 1 0 0 1 1 1 1 1 1 1 1 1 1 0 0 0 1 1 0 0 0]\n",
      " [1 1 0 0 0 0 1 1 0 1 1 1 1 0 0 0 0 1 1 0 0 0]\n",
      " [1 1 0 0 1 1 1 1 1 1 1 1 1 1 0 0 0 1 1 0 0 0]\n",
      " [1 1 0 0 0 0 1 1 0 1 1 1 1 0 0 0 0 1 1 0 0 0]\n",
      " [1 1 1 1 1 1 1 1 1 1 1 1 1 1 0 0 0 1 1 0 0 0]\n",
      " [1 1 0 0 1 0 1 1 1 1 1 1 1 1 0 0 0 1 1 0 0 0]\n",
      " [1 1 0 0 1 0 1 0 1 1 1 1 1 1 0 0 0 1 1 0 0 0]]\n",
      "[[1 1 0 0 0 0 0 0 1 1 1 1 1 1 1 0 0 1 1 0 0 0]\n",
      " [1 1 1 0 1 1 1 1 1 1 1 1 1 1 0 0 0 1 1 0 0 1]\n",
      " [1 1 0 0 1 1 1 1 1 1 1 1 1 0 0 0 0 1 1 0 0 0]\n",
      " [1 1 0 1 1 1 0 0 1 1 1 1 1 1 0 0 0 1 1 0 0 0]\n",
      " [1 1 0 0 0 0 1 0 1 1 1 1 1 0 0 0 0 1 1 0 0 1]\n",
      " [1 1 1 0 1 1 1 1 1 1 1 1 1 1 0 0 0 1 1 0 0 0]\n",
      " [1 1 0 0 1 1 1 0 1 1 1 1 1 1 0 0 0 1 1 0 0 0]\n",
      " [1 1 1 1 1 1 1 1 1 1 1 1 1 1 0 0 0 1 1 0 0 1]\n",
      " [1 1 1 1 1 0 1 0 0 1 1 1 1 0 0 0 0 1 1 0 0 1]\n",
      " [0 1 0 0 0 0 1 0 0 1 0 1 1 0 0 0 0 0 0 0 0 0]]\n"
     ]
    }
   ],
   "source": [
    "print(y_train_knn_pred[:10])\n",
    "print(y_train[:10])"
   ]
  },
  {
   "cell_type": "code",
   "execution_count": 274,
   "metadata": {
    "collapsed": false,
    "pycharm": {
     "name": "#%%\n"
    }
   },
   "outputs": [
    {
     "data": {
      "text/plain": [
       "RandomForestClassifier(oob_score=True, random_state=123456)"
      ]
     },
     "execution_count": 274,
     "metadata": {},
     "output_type": "execute_result"
    }
   ],
   "source": [
    "from sklearn.ensemble import RandomForestClassifier\n",
    "\n",
    "rf = RandomForestClassifier(n_estimators=100, oob_score=True, random_state=123456)\n",
    "rf.fit(X_train, y_train)"
   ]
  },
  {
   "cell_type": "code",
   "execution_count": 275,
   "metadata": {
    "collapsed": false,
    "pycharm": {
     "name": "#%%\n"
    }
   },
   "outputs": [
    {
     "name": "stdout",
     "output_type": "stream",
     "text": [
      "0.5913670606764342\n"
     ]
    }
   ],
   "source": [
    "y_train_rf_pred = cross_val_predict(rf, X_train, y_train, cv=3)\n",
    "print(f1_score(y_train,y_train_knn_pred,average=\"macro\"))"
   ]
  },
  {
   "cell_type": "code",
   "execution_count": 276,
   "metadata": {
    "collapsed": false,
    "pycharm": {
     "name": "#%%\n"
    }
   },
   "outputs": [
    {
     "data": {
      "text/plain": [
       "[array([[0.03582418, 0.96417582]]),\n",
       " array([[0.80430403, 0.19569597]]),\n",
       " array([[0.85486264, 0.14513736]]),\n",
       " array([[0.95500916, 0.04499084]]),\n",
       " array([[0.12, 0.88]]),\n",
       " array([[0.83012821, 0.16987179]]),\n",
       " array([[0.78081502, 0.21918498]]),\n",
       " array([[0.81499084, 0.18500916]]),\n",
       " array([[0.85499084, 0.14500916]]),\n",
       " array([[0.03499084, 0.96500916]]),\n",
       " array([[0., 1.]]),\n",
       " array([[0.01499084, 0.98500916]]),\n",
       " array([[0.01582418, 0.98417582]]),\n",
       " array([[0.16012821, 0.83987179]]),\n",
       " array([[1., 0.]]),\n",
       " array([[1., 0.]]),\n",
       " array([[1., 0.]]),\n",
       " array([[0.75, 0.25]]),\n",
       " array([[0., 1.]]),\n",
       " array([[0.99, 0.01]]),\n",
       " array([[1., 0.]]),\n",
       " array([[0.88, 0.12]])]"
      ]
     },
     "execution_count": 276,
     "metadata": {},
     "output_type": "execute_result"
    }
   ],
   "source": [
    "rf.predict_proba(X_test[0].reshape(1,-1))"
   ]
  },
  {
   "cell_type": "code",
   "execution_count": 277,
   "metadata": {
    "collapsed": false,
    "pycharm": {
     "name": "#%%\n"
    }
   },
   "outputs": [],
   "source": [
    "import pickle\n",
    "import joblib"
   ]
  },
  {
   "cell_type": "code",
   "execution_count": 283,
   "metadata": {
    "collapsed": false,
    "pycharm": {
     "name": "#%%\n"
    }
   },
   "outputs": [
    {
     "data": {
      "text/plain": [
       "['./data/rf_model.pkl']"
      ]
     },
     "execution_count": 283,
     "metadata": {},
     "output_type": "execute_result"
    }
   ],
   "source": [
    "joblib.dump(rf,'./data/rf_model.pkl')"
   ]
  },
  {
   "cell_type": "code",
   "execution_count": 279,
   "metadata": {
    "collapsed": false,
    "pycharm": {
     "name": "#%%\n"
    }
   },
   "outputs": [],
   "source": [
    "loaded_model = joblib.load('./data/rf_model.pkl')"
   ]
  },
  {
   "cell_type": "code",
   "execution_count": 285,
   "metadata": {
    "collapsed": false,
    "pycharm": {
     "name": "#%%\n"
    }
   },
   "outputs": [],
   "source": [
    "a= loaded_model.predict_proba(X_test[10].reshape(1,-1))"
   ]
  },
  {
   "cell_type": "code",
   "execution_count": 292,
   "metadata": {
    "collapsed": false,
    "pycharm": {
     "name": "#%%\n"
    }
   },
   "outputs": [
    {
     "name": "stdout",
     "output_type": "stream",
     "text": [
      "[9, 17, 10, 18, 1, 11, 12, 7, 6, 0, 5, 4, 8, 3, 13, 2, 21, 20, 14, 15, 16, 19]\n"
     ]
    }
   ],
   "source": [
    "s=[b[0][1]for b in a]\n",
    "k= sorted(range(len(s)),key=lambda k:s[k],reverse=True)\n",
    "print(k)"
   ]
  },
  {
   "cell_type": "code",
   "execution_count": 281,
   "metadata": {
    "collapsed": false,
    "pycharm": {
     "name": "#%%\n"
    }
   },
   "outputs": [
    {
     "name": "stdout",
     "output_type": "stream",
     "text": [
      "Q_FHX_HTN\n",
      "{0, 1}\n",
      "Q_FHX_STK\n",
      "{0, 1}\n",
      "Q_FHX_HTDZ\n",
      "{0, 1}\n",
      "Q_FHX_DM\n",
      "{0, 1}\n",
      "Q_FHX_ETC\n",
      "{0, 1}\n",
      "Q_DRK_FRQ_V0108\n",
      "{1, 2, 3, 4, 5}\n",
      "Q_DRK_AMT_V0108\n",
      "{1, 2, 3, 4}\n",
      "Q_SMK_YN\n",
      "{1, 2, 3}\n",
      "Q_SMK_NOW_AMT_V0108\n",
      "{0, 1, 2, 3, 4}\n",
      "Q_PA_FRQ\n",
      "{1, 2, 3, 4, 5}\n",
      "G1E_BMI\n",
      "{0, 1, 2, 3}\n",
      "Q_PHX_DX_STK\n",
      "{0, 1}\n",
      "Q_PHX_DX_HTDZ\n",
      "{0, 1}\n",
      "Q_PHX_DX_HTN\n",
      "{0, 1}\n",
      "Q_PHX_DX_DM\n",
      "{0, 1}\n",
      "Q_PHX_DX_PTB\n",
      "{0, 1}\n",
      "Q_PHX_DX_ETC\n",
      "{0, 1}\n",
      "병유형\n"
     ]
    },
    {
     "ename": "TypeError",
     "evalue": "unhashable type: 'list'",
     "output_type": "error",
     "traceback": [
      "\u001b[1;31m---------------------------------------------------------------------------\u001b[0m",
      "\u001b[1;31mTypeError\u001b[0m                                 Traceback (most recent call last)",
      "\u001b[1;32m~\\AppData\\Local\\Temp/ipykernel_1172/3332377068.py\u001b[0m in \u001b[0;36m<module>\u001b[1;34m\u001b[0m\n\u001b[0;32m      3\u001b[0m     \u001b[0mab\u001b[0m\u001b[1;33m.\u001b[0m\u001b[0mappend\u001b[0m\u001b[1;33m(\u001b[0m\u001b[0mcol\u001b[0m\u001b[1;33m)\u001b[0m\u001b[1;33m\u001b[0m\u001b[1;33m\u001b[0m\u001b[0m\n\u001b[0;32m      4\u001b[0m     \u001b[0mprint\u001b[0m\u001b[1;33m(\u001b[0m\u001b[0mcol\u001b[0m\u001b[1;33m)\u001b[0m\u001b[1;33m\u001b[0m\u001b[1;33m\u001b[0m\u001b[0m\n\u001b[1;32m----> 5\u001b[1;33m     \u001b[0mprint\u001b[0m\u001b[1;33m(\u001b[0m\u001b[0mset\u001b[0m\u001b[1;33m(\u001b[0m\u001b[0mitem\u001b[0m\u001b[1;33m)\u001b[0m\u001b[1;33m)\u001b[0m\u001b[1;33m\u001b[0m\u001b[1;33m\u001b[0m\u001b[0m\n\u001b[0m\u001b[0;32m      6\u001b[0m \u001b[1;33m\u001b[0m\u001b[0m\n",
      "\u001b[1;31mTypeError\u001b[0m: unhashable type: 'list'"
     ]
    }
   ],
   "source": [
    "ab = []\n",
    "for col,item in merge_data.iteritems():\n",
    "    ab.append(col)\n",
    "    print(col)\n",
    "    print(set(item))"
   ]
  },
  {
   "cell_type": "code",
   "execution_count": null,
   "metadata": {
    "collapsed": false,
    "pycharm": {
     "name": "#%%\n"
    }
   },
   "outputs": [],
   "source": [
    "BMI = a[\"weight\"]/(a[\"height\"]/100)**2\n",
    "a[\"family_stroke\"],a[\"family_heart\"],a[\"family_highBlood\"],a[\"family_diabetes\"],a[\"family_etc\"],a[\"drink_count\"],a[\"drink_amount\"],a[\"smoke_yn\"],a[\"smoke_amount\"],a[\"exercise_count\"],BMI"
   ]
  },
  {
   "cell_type": "code",
   "execution_count": 282,
   "metadata": {
    "collapsed": false,
    "pycharm": {
     "name": "#%%\n"
    }
   },
   "outputs": [
    {
     "data": {
      "text/plain": [
       "(11,)"
      ]
     },
     "execution_count": 282,
     "metadata": {},
     "output_type": "execute_result"
    }
   ],
   "source": [
    "np.shape(X_test[0])"
   ]
  }
 ],
 "metadata": {
  "kernelspec": {
   "display_name": "PyCharm (osaesg)",
   "language": "python",
   "name": "pycharm-e4ab0bfa"
  },
  "language_info": {
   "codemirror_mode": {
    "name": "ipython",
    "version": 2
   },
   "file_extension": ".py",
   "mimetype": "text/x-python",
   "name": "python",
   "nbconvert_exporter": "python",
   "pygments_lexer": "ipython2",
   "version": "2.7.6"
  }
 },
 "nbformat": 4,
 "nbformat_minor": 0
}
